{
  "nbformat": 4,
  "nbformat_minor": 0,
  "metadata": {
    "colab": {
      "name": "NER.ipynb",
      "provenance": []
    },
    "kernelspec": {
      "name": "python3",
      "display_name": "Python 3"
    }
  },
  "cells": [
    {
      "cell_type": "code",
      "metadata": {
        "id": "NrmIcJlz6rQB",
        "colab_type": "code",
        "colab": {}
      },
      "source": [
        "import spacy"
      ],
      "execution_count": 1,
      "outputs": []
    },
    {
      "cell_type": "code",
      "metadata": {
        "id": "6wgu_P2l6z0Z",
        "colab_type": "code",
        "colab": {}
      },
      "source": [
        "nlp = spacy.load('en_core_web_sm')"
      ],
      "execution_count": 2,
      "outputs": []
    },
    {
      "cell_type": "code",
      "metadata": {
        "id": "xKQQnWM26-uB",
        "colab_type": "code",
        "colab": {}
      },
      "source": [
        "text = u'I will visit Paris on November 2021'\n",
        "\n",
        "doc = nlp(text)"
      ],
      "execution_count": 11,
      "outputs": []
    },
    {
      "cell_type": "code",
      "metadata": {
        "id": "2D92INS37LSz",
        "colab_type": "code",
        "colab": {}
      },
      "source": [
        "def displayEntities(doc):\n",
        "    if doc.ents:\n",
        "        for entity in doc.ents:\n",
        "            print('Entity: {}, Label: {}, Explanation: {}'.format(entity.text, entity.label_, spacy.explain(entity.label_)))\n",
        "    else:\n",
        "        print('[INFO] No Entity found!')"
      ],
      "execution_count": 9,
      "outputs": []
    },
    {
      "cell_type": "code",
      "metadata": {
        "id": "dwmLQlsp7MaF",
        "colab_type": "code",
        "colab": {
          "base_uri": "https://localhost:8080/",
          "height": 52
        },
        "outputId": "df4d520f-c3cb-4542-9e78-60cb961a148b"
      },
      "source": [
        "displayEntities(doc)"
      ],
      "execution_count": 12,
      "outputs": [
        {
          "output_type": "stream",
          "text": [
            "Entity: Paris, Label: GPE, Explanation: Countries, cities, states\n",
            "Entity: November 2021, Label: DATE, Explanation: Absolute or relative dates or periods\n"
          ],
          "name": "stdout"
        }
      ]
    },
    {
      "cell_type": "markdown",
      "metadata": {
        "id": "9FXofUQO83Kx",
        "colab_type": "text"
      },
      "source": [
        "**ADDING CUSTOM ENTITY**"
      ]
    },
    {
      "cell_type": "code",
      "metadata": {
        "id": "AC668gP288FK",
        "colab_type": "code",
        "colab": {}
      },
      "source": [
        "from spacy.tokens import Span"
      ],
      "execution_count": 13,
      "outputs": []
    },
    {
      "cell_type": "code",
      "metadata": {
        "id": "Ff5qtelH9WeM",
        "colab_type": "code",
        "colab": {}
      },
      "source": [
        "newText = u'SpaceX is going to lead NASA soon!'\n",
        "\n",
        "newDoc = nlp(newText)"
      ],
      "execution_count": 28,
      "outputs": []
    },
    {
      "cell_type": "code",
      "metadata": {
        "id": "px_20TGb-GjN",
        "colab_type": "code",
        "colab": {}
      },
      "source": [
        "ORG = newDoc.vocab.strings[u'ORG']"
      ],
      "execution_count": 35,
      "outputs": []
    },
    {
      "cell_type": "code",
      "metadata": {
        "id": "Hl-FG3gY-INL",
        "colab_type": "code",
        "colab": {}
      },
      "source": [
        "newEntity = Span(newDoc, 0, 1, label=ORG)"
      ],
      "execution_count": 37,
      "outputs": []
    },
    {
      "cell_type": "code",
      "metadata": {
        "id": "nIOuugiz_E0R",
        "colab_type": "code",
        "colab": {}
      },
      "source": [
        "newDoc.ents = list(newDoc.ents)+[newEntity]"
      ],
      "execution_count": 38,
      "outputs": []
    },
    {
      "cell_type": "code",
      "metadata": {
        "id": "Qpn5r3Rl_-e_",
        "colab_type": "code",
        "colab": {
          "base_uri": "https://localhost:8080/",
          "height": 52
        },
        "outputId": "3af2847d-fffd-4927-bd96-d1dda63a4fde"
      },
      "source": [
        "displayEntities(newDoc)"
      ],
      "execution_count": 40,
      "outputs": [
        {
          "output_type": "stream",
          "text": [
            "Entity: SpaceX, Label: ORG, Explanation: Companies, agencies, institutions, etc.\n",
            "Entity: NASA, Label: ORG, Explanation: Companies, agencies, institutions, etc.\n"
          ],
          "name": "stdout"
        }
      ]
    },
    {
      "cell_type": "code",
      "metadata": {
        "id": "CFxPL5PqAAFv",
        "colab_type": "code",
        "colab": {}
      },
      "source": [
        ""
      ],
      "execution_count": null,
      "outputs": []
    }
  ]
}