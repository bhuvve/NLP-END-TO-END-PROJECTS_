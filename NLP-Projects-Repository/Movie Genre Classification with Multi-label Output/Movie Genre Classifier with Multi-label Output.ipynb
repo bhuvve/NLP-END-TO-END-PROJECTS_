{
  "nbformat": 4,
  "nbformat_minor": 0,
  "metadata": {
    "colab": {
      "name": "Movie Genre Classification.ipynb",
      "provenance": [],
      "collapsed_sections": [],
      "toc_visible": true
    },
    "kernelspec": {
      "name": "python3",
      "display_name": "Python 3"
    },
    "accelerator": "GPU"
  },
  "cells": [
    {
      "cell_type": "code",
      "metadata": {
        "id": "7PGua73JYAOe",
        "colab_type": "code",
        "colab": {}
      },
      "source": [
        "# Importing essential libraries\n",
        "import pandas as pd\n",
        "import numpy as np"
      ],
      "execution_count": 1,
      "outputs": []
    },
    {
      "cell_type": "code",
      "metadata": {
        "id": "O9xy-C-zZ4uB",
        "colab_type": "code",
        "colab": {}
      },
      "source": [
        "# Loading the 'movie_metadata.tsv' dataset\n",
        "movie_metadata = pd.read_csv('movie_metadata.tsv', sep='\\t', header=None)"
      ],
      "execution_count": 2,
      "outputs": []
    },
    {
      "cell_type": "code",
      "metadata": {
        "colab_type": "code",
        "id": "IbE4YSIwidBD",
        "colab": {}
      },
      "source": [
        "# Loading the 'plot_summaries.tsv' dataset\n",
        "plot_summary = pd.read_csv('plot_summaries.tsv', sep='\\t', header=None)"
      ],
      "execution_count": 3,
      "outputs": []
    },
    {
      "cell_type": "markdown",
      "metadata": {
        "id": "qI_xIrnjjQo2",
        "colab_type": "text"
      },
      "source": [
        "## **Exploring the dataset**"
      ]
    },
    {
      "cell_type": "code",
      "metadata": {
        "id": "trmFbu9Mabuq",
        "colab_type": "code",
        "colab": {
          "base_uri": "https://localhost:8080/",
          "height": 314
        },
        "outputId": "e14a3dac-5f81-40d1-aed9-46021a910b04"
      },
      "source": [
        "movie_metadata.head()"
      ],
      "execution_count": 4,
      "outputs": [
        {
          "output_type": "execute_result",
          "data": {
            "text/html": [
              "<div>\n",
              "<style scoped>\n",
              "    .dataframe tbody tr th:only-of-type {\n",
              "        vertical-align: middle;\n",
              "    }\n",
              "\n",
              "    .dataframe tbody tr th {\n",
              "        vertical-align: top;\n",
              "    }\n",
              "\n",
              "    .dataframe thead th {\n",
              "        text-align: right;\n",
              "    }\n",
              "</style>\n",
              "<table border=\"1\" class=\"dataframe\">\n",
              "  <thead>\n",
              "    <tr style=\"text-align: right;\">\n",
              "      <th></th>\n",
              "      <th>0</th>\n",
              "      <th>1</th>\n",
              "      <th>2</th>\n",
              "      <th>3</th>\n",
              "      <th>4</th>\n",
              "      <th>5</th>\n",
              "      <th>6</th>\n",
              "      <th>7</th>\n",
              "      <th>8</th>\n",
              "    </tr>\n",
              "  </thead>\n",
              "  <tbody>\n",
              "    <tr>\n",
              "      <th>0</th>\n",
              "      <td>975900</td>\n",
              "      <td>/m/03vyhn</td>\n",
              "      <td>Ghosts of Mars</td>\n",
              "      <td>2001-08-24</td>\n",
              "      <td>14010832.0</td>\n",
              "      <td>98.0</td>\n",
              "      <td>{\"/m/02h40lc\": \"English Language\"}</td>\n",
              "      <td>{\"/m/09c7w0\": \"United States of America\"}</td>\n",
              "      <td>{\"/m/01jfsb\": \"Thriller\", \"/m/06n90\": \"Science...</td>\n",
              "    </tr>\n",
              "    <tr>\n",
              "      <th>1</th>\n",
              "      <td>3196793</td>\n",
              "      <td>/m/08yl5d</td>\n",
              "      <td>Getting Away with Murder: The JonBenét Ramsey ...</td>\n",
              "      <td>2000-02-16</td>\n",
              "      <td>NaN</td>\n",
              "      <td>95.0</td>\n",
              "      <td>{\"/m/02h40lc\": \"English Language\"}</td>\n",
              "      <td>{\"/m/09c7w0\": \"United States of America\"}</td>\n",
              "      <td>{\"/m/02n4kr\": \"Mystery\", \"/m/03bxz7\": \"Biograp...</td>\n",
              "    </tr>\n",
              "    <tr>\n",
              "      <th>2</th>\n",
              "      <td>28463795</td>\n",
              "      <td>/m/0crgdbh</td>\n",
              "      <td>Brun bitter</td>\n",
              "      <td>1988</td>\n",
              "      <td>NaN</td>\n",
              "      <td>83.0</td>\n",
              "      <td>{\"/m/05f_3\": \"Norwegian Language\"}</td>\n",
              "      <td>{\"/m/05b4w\": \"Norway\"}</td>\n",
              "      <td>{\"/m/0lsxr\": \"Crime Fiction\", \"/m/07s9rl0\": \"D...</td>\n",
              "    </tr>\n",
              "    <tr>\n",
              "      <th>3</th>\n",
              "      <td>9363483</td>\n",
              "      <td>/m/0285_cd</td>\n",
              "      <td>White Of The Eye</td>\n",
              "      <td>1987</td>\n",
              "      <td>NaN</td>\n",
              "      <td>110.0</td>\n",
              "      <td>{\"/m/02h40lc\": \"English Language\"}</td>\n",
              "      <td>{\"/m/07ssc\": \"United Kingdom\"}</td>\n",
              "      <td>{\"/m/01jfsb\": \"Thriller\", \"/m/0glj9q\": \"Erotic...</td>\n",
              "    </tr>\n",
              "    <tr>\n",
              "      <th>4</th>\n",
              "      <td>261236</td>\n",
              "      <td>/m/01mrr1</td>\n",
              "      <td>A Woman in Flames</td>\n",
              "      <td>1983</td>\n",
              "      <td>NaN</td>\n",
              "      <td>106.0</td>\n",
              "      <td>{\"/m/04306rv\": \"German Language\"}</td>\n",
              "      <td>{\"/m/0345h\": \"Germany\"}</td>\n",
              "      <td>{\"/m/07s9rl0\": \"Drama\"}</td>\n",
              "    </tr>\n",
              "  </tbody>\n",
              "</table>\n",
              "</div>"
            ],
            "text/plain": [
              "          0  ...                                                  8\n",
              "0    975900  ...  {\"/m/01jfsb\": \"Thriller\", \"/m/06n90\": \"Science...\n",
              "1   3196793  ...  {\"/m/02n4kr\": \"Mystery\", \"/m/03bxz7\": \"Biograp...\n",
              "2  28463795  ...  {\"/m/0lsxr\": \"Crime Fiction\", \"/m/07s9rl0\": \"D...\n",
              "3   9363483  ...  {\"/m/01jfsb\": \"Thriller\", \"/m/0glj9q\": \"Erotic...\n",
              "4    261236  ...                            {\"/m/07s9rl0\": \"Drama\"}\n",
              "\n",
              "[5 rows x 9 columns]"
            ]
          },
          "metadata": {
            "tags": []
          },
          "execution_count": 4
        }
      ]
    },
    {
      "cell_type": "code",
      "metadata": {
        "id": "FvOs2Y9yjXbM",
        "colab_type": "code",
        "colab": {
          "base_uri": "https://localhost:8080/",
          "height": 34
        },
        "outputId": "8ecefa63-25e3-42d6-9f02-bb7482a30a00"
      },
      "source": [
        "movie_metadata.shape"
      ],
      "execution_count": 5,
      "outputs": [
        {
          "output_type": "execute_result",
          "data": {
            "text/plain": [
              "(81741, 9)"
            ]
          },
          "metadata": {
            "tags": []
          },
          "execution_count": 5
        }
      ]
    },
    {
      "cell_type": "code",
      "metadata": {
        "id": "Pp5u_pmekiTn",
        "colab_type": "code",
        "colab": {
          "base_uri": "https://localhost:8080/",
          "height": 194
        },
        "outputId": "ac85d460-f201-4413-c436-3d965ec508ef"
      },
      "source": [
        "movie_metadata.dtypes"
      ],
      "execution_count": 6,
      "outputs": [
        {
          "output_type": "execute_result",
          "data": {
            "text/plain": [
              "0      int64\n",
              "1     object\n",
              "2     object\n",
              "3     object\n",
              "4    float64\n",
              "5    float64\n",
              "6     object\n",
              "7     object\n",
              "8     object\n",
              "dtype: object"
            ]
          },
          "metadata": {
            "tags": []
          },
          "execution_count": 6
        }
      ]
    },
    {
      "cell_type": "code",
      "metadata": {
        "id": "pfAaxRcKi3s3",
        "colab_type": "code",
        "colab": {
          "base_uri": "https://localhost:8080/",
          "height": 197
        },
        "outputId": "298ba8bf-b2b3-4939-a67e-bab995b506da"
      },
      "source": [
        "plot_summary.head()"
      ],
      "execution_count": 7,
      "outputs": [
        {
          "output_type": "execute_result",
          "data": {
            "text/html": [
              "<div>\n",
              "<style scoped>\n",
              "    .dataframe tbody tr th:only-of-type {\n",
              "        vertical-align: middle;\n",
              "    }\n",
              "\n",
              "    .dataframe tbody tr th {\n",
              "        vertical-align: top;\n",
              "    }\n",
              "\n",
              "    .dataframe thead th {\n",
              "        text-align: right;\n",
              "    }\n",
              "</style>\n",
              "<table border=\"1\" class=\"dataframe\">\n",
              "  <thead>\n",
              "    <tr style=\"text-align: right;\">\n",
              "      <th></th>\n",
              "      <th>0</th>\n",
              "      <th>1</th>\n",
              "    </tr>\n",
              "  </thead>\n",
              "  <tbody>\n",
              "    <tr>\n",
              "      <th>0</th>\n",
              "      <td>23890098</td>\n",
              "      <td>Shlykov, a hard-working taxi driver and Lyosha...</td>\n",
              "    </tr>\n",
              "    <tr>\n",
              "      <th>1</th>\n",
              "      <td>31186339</td>\n",
              "      <td>The nation of Panem consists of a wealthy Capi...</td>\n",
              "    </tr>\n",
              "    <tr>\n",
              "      <th>2</th>\n",
              "      <td>20663735</td>\n",
              "      <td>Poovalli Induchoodan  is sentenced for six yea...</td>\n",
              "    </tr>\n",
              "    <tr>\n",
              "      <th>3</th>\n",
              "      <td>2231378</td>\n",
              "      <td>The Lemon Drop Kid , a New York City swindler,...</td>\n",
              "    </tr>\n",
              "    <tr>\n",
              "      <th>4</th>\n",
              "      <td>595909</td>\n",
              "      <td>Seventh-day Adventist Church pastor Michael Ch...</td>\n",
              "    </tr>\n",
              "  </tbody>\n",
              "</table>\n",
              "</div>"
            ],
            "text/plain": [
              "          0                                                  1\n",
              "0  23890098  Shlykov, a hard-working taxi driver and Lyosha...\n",
              "1  31186339  The nation of Panem consists of a wealthy Capi...\n",
              "2  20663735  Poovalli Induchoodan  is sentenced for six yea...\n",
              "3   2231378  The Lemon Drop Kid , a New York City swindler,...\n",
              "4    595909  Seventh-day Adventist Church pastor Michael Ch..."
            ]
          },
          "metadata": {
            "tags": []
          },
          "execution_count": 7
        }
      ]
    },
    {
      "cell_type": "code",
      "metadata": {
        "id": "RqcrP42jjefG",
        "colab_type": "code",
        "colab": {
          "base_uri": "https://localhost:8080/",
          "height": 34
        },
        "outputId": "b903fe70-5296-4f08-9a6d-2e1109c5003a"
      },
      "source": [
        "plot_summary.shape"
      ],
      "execution_count": 8,
      "outputs": [
        {
          "output_type": "execute_result",
          "data": {
            "text/plain": [
              "(42303, 2)"
            ]
          },
          "metadata": {
            "tags": []
          },
          "execution_count": 8
        }
      ]
    },
    {
      "cell_type": "code",
      "metadata": {
        "id": "KmsY8SPBkbl4",
        "colab_type": "code",
        "colab": {
          "base_uri": "https://localhost:8080/",
          "height": 70
        },
        "outputId": "f8cd5fb8-03f3-4dfc-ce14-76e5453da330"
      },
      "source": [
        "plot_summary.dtypes"
      ],
      "execution_count": 9,
      "outputs": [
        {
          "output_type": "execute_result",
          "data": {
            "text/plain": [
              "0     int64\n",
              "1    object\n",
              "dtype: object"
            ]
          },
          "metadata": {
            "tags": []
          },
          "execution_count": 9
        }
      ]
    },
    {
      "cell_type": "markdown",
      "metadata": {
        "id": "-E0x4o0zbCva",
        "colab_type": "text"
      },
      "source": [
        "## **Data Cleaning**\n",
        "• *Renaming required columns from 'movie_metadata' and 'plot_summary' dataframes <br/>*\n",
        "• *Merging 'movie_metadata' and 'plot_summary' dataframes into one <br/>*\n",
        "• *Cleaning the 'genre' column <br/>*\n",
        "• *Remove rows with 0 genre tags <br/>*"
      ]
    },
    {
      "cell_type": "code",
      "metadata": {
        "id": "2v4EtPZTaeGI",
        "colab_type": "code",
        "colab": {}
      },
      "source": [
        "# Renaming the required columns\n",
        "movie_metadata.columns = [\"movie_id\", 1, \"movie_name\", 3, 4, 5, 6, 7, \"genre\"]"
      ],
      "execution_count": 10,
      "outputs": []
    },
    {
      "cell_type": "code",
      "metadata": {
        "id": "IAmDs-oPa4pA",
        "colab_type": "code",
        "colab": {}
      },
      "source": [
        "# Renaming the required columns\n",
        "plot_summary.columns = [\"movie_id\", \"plot\"]"
      ],
      "execution_count": 11,
      "outputs": []
    },
    {
      "cell_type": "code",
      "metadata": {
        "id": "pCRCB3ZklWOX",
        "colab_type": "code",
        "colab": {}
      },
      "source": [
        "# Merging both dataframes\n",
        "df = pd.merge(movie_metadata[['movie_id', 'movie_name', 'genre']], plot_summary, on='movie_id')"
      ],
      "execution_count": 12,
      "outputs": []
    },
    {
      "cell_type": "code",
      "metadata": {
        "id": "fcFrmzqtmdOo",
        "colab_type": "code",
        "colab": {
          "base_uri": "https://localhost:8080/",
          "height": 34
        },
        "outputId": "4a0ad768-f4f6-494c-93cf-f39a6d8f03a6"
      },
      "source": [
        "df.shape"
      ],
      "execution_count": 13,
      "outputs": [
        {
          "output_type": "execute_result",
          "data": {
            "text/plain": [
              "(42204, 4)"
            ]
          },
          "metadata": {
            "tags": []
          },
          "execution_count": 13
        }
      ]
    },
    {
      "cell_type": "code",
      "metadata": {
        "id": "07QSDV9nmeM2",
        "colab_type": "code",
        "colab": {
          "base_uri": "https://localhost:8080/",
          "height": 197
        },
        "outputId": "23fc5ff5-5b09-488b-876e-dcf1b93afa70"
      },
      "source": [
        "df.head()"
      ],
      "execution_count": 14,
      "outputs": [
        {
          "output_type": "execute_result",
          "data": {
            "text/html": [
              "<div>\n",
              "<style scoped>\n",
              "    .dataframe tbody tr th:only-of-type {\n",
              "        vertical-align: middle;\n",
              "    }\n",
              "\n",
              "    .dataframe tbody tr th {\n",
              "        vertical-align: top;\n",
              "    }\n",
              "\n",
              "    .dataframe thead th {\n",
              "        text-align: right;\n",
              "    }\n",
              "</style>\n",
              "<table border=\"1\" class=\"dataframe\">\n",
              "  <thead>\n",
              "    <tr style=\"text-align: right;\">\n",
              "      <th></th>\n",
              "      <th>movie_id</th>\n",
              "      <th>movie_name</th>\n",
              "      <th>genre</th>\n",
              "      <th>plot</th>\n",
              "    </tr>\n",
              "  </thead>\n",
              "  <tbody>\n",
              "    <tr>\n",
              "      <th>0</th>\n",
              "      <td>975900</td>\n",
              "      <td>Ghosts of Mars</td>\n",
              "      <td>{\"/m/01jfsb\": \"Thriller\", \"/m/06n90\": \"Science...</td>\n",
              "      <td>Set in the second half of the 22nd century, th...</td>\n",
              "    </tr>\n",
              "    <tr>\n",
              "      <th>1</th>\n",
              "      <td>9363483</td>\n",
              "      <td>White Of The Eye</td>\n",
              "      <td>{\"/m/01jfsb\": \"Thriller\", \"/m/0glj9q\": \"Erotic...</td>\n",
              "      <td>A series of murders of rich young women throug...</td>\n",
              "    </tr>\n",
              "    <tr>\n",
              "      <th>2</th>\n",
              "      <td>261236</td>\n",
              "      <td>A Woman in Flames</td>\n",
              "      <td>{\"/m/07s9rl0\": \"Drama\"}</td>\n",
              "      <td>Eva, an upper class housewife, becomes frustra...</td>\n",
              "    </tr>\n",
              "    <tr>\n",
              "      <th>3</th>\n",
              "      <td>18998739</td>\n",
              "      <td>The Sorcerer's Apprentice</td>\n",
              "      <td>{\"/m/0hqxf\": \"Family Film\", \"/m/01hmnh\": \"Fant...</td>\n",
              "      <td>Every hundred years, the evil Morgana  returns...</td>\n",
              "    </tr>\n",
              "    <tr>\n",
              "      <th>4</th>\n",
              "      <td>6631279</td>\n",
              "      <td>Little city</td>\n",
              "      <td>{\"/m/06cvj\": \"Romantic comedy\", \"/m/0hj3n0w\": ...</td>\n",
              "      <td>Adam, a San Francisco-based artist who works a...</td>\n",
              "    </tr>\n",
              "  </tbody>\n",
              "</table>\n",
              "</div>"
            ],
            "text/plain": [
              "   movie_id  ...                                               plot\n",
              "0    975900  ...  Set in the second half of the 22nd century, th...\n",
              "1   9363483  ...  A series of murders of rich young women throug...\n",
              "2    261236  ...  Eva, an upper class housewife, becomes frustra...\n",
              "3  18998739  ...  Every hundred years, the evil Morgana  returns...\n",
              "4   6631279  ...  Adam, a San Francisco-based artist who works a...\n",
              "\n",
              "[5 rows x 4 columns]"
            ]
          },
          "metadata": {
            "tags": []
          },
          "execution_count": 14
        }
      ]
    },
    {
      "cell_type": "code",
      "metadata": {
        "id": "Na7O9J3bnUw1",
        "colab_type": "code",
        "colab": {
          "base_uri": "https://localhost:8080/",
          "height": 53
        },
        "outputId": "6fb98357-b5a7-4632-c482-4e3aad1cb229"
      },
      "source": [
        "# Cleaning the genre column\n",
        "df['genre'][0]"
      ],
      "execution_count": 15,
      "outputs": [
        {
          "output_type": "execute_result",
          "data": {
            "application/vnd.google.colaboratory.intrinsic": {
              "type": "string"
            },
            "text/plain": [
              "'{\"/m/01jfsb\": \"Thriller\", \"/m/06n90\": \"Science Fiction\", \"/m/03npn\": \"Horror\", \"/m/03k9fj\": \"Adventure\", \"/m/0fdjb\": \"Supernatural\", \"/m/02kdv5l\": \"Action\", \"/m/09zvmj\": \"Space western\"}'"
            ]
          },
          "metadata": {
            "tags": []
          },
          "execution_count": 15
        }
      ]
    },
    {
      "cell_type": "code",
      "metadata": {
        "id": "x-TOvUcjn6R_",
        "colab_type": "code",
        "colab": {
          "base_uri": "https://localhost:8080/",
          "height": 34
        },
        "outputId": "896fc606-b705-4f18-d44b-3cd7d4f92f0d"
      },
      "source": [
        "import json\n",
        "json.loads(df['genre'][0]).values()"
      ],
      "execution_count": 16,
      "outputs": [
        {
          "output_type": "execute_result",
          "data": {
            "text/plain": [
              "dict_values(['Thriller', 'Science Fiction', 'Horror', 'Adventure', 'Supernatural', 'Action', 'Space western'])"
            ]
          },
          "metadata": {
            "tags": []
          },
          "execution_count": 16
        }
      ]
    },
    {
      "cell_type": "code",
      "metadata": {
        "id": "ZT-7vVdXoAFG",
        "colab_type": "code",
        "colab": {
          "base_uri": "https://localhost:8080/",
          "height": 197
        },
        "outputId": "74ca61ef-8a25-4c44-a25b-93652876075d"
      },
      "source": [
        "df['genre'] = df['genre'].apply(lambda x: list(json.loads(x).values()))\n",
        "df.head()"
      ],
      "execution_count": 17,
      "outputs": [
        {
          "output_type": "execute_result",
          "data": {
            "text/html": [
              "<div>\n",
              "<style scoped>\n",
              "    .dataframe tbody tr th:only-of-type {\n",
              "        vertical-align: middle;\n",
              "    }\n",
              "\n",
              "    .dataframe tbody tr th {\n",
              "        vertical-align: top;\n",
              "    }\n",
              "\n",
              "    .dataframe thead th {\n",
              "        text-align: right;\n",
              "    }\n",
              "</style>\n",
              "<table border=\"1\" class=\"dataframe\">\n",
              "  <thead>\n",
              "    <tr style=\"text-align: right;\">\n",
              "      <th></th>\n",
              "      <th>movie_id</th>\n",
              "      <th>movie_name</th>\n",
              "      <th>genre</th>\n",
              "      <th>plot</th>\n",
              "    </tr>\n",
              "  </thead>\n",
              "  <tbody>\n",
              "    <tr>\n",
              "      <th>0</th>\n",
              "      <td>975900</td>\n",
              "      <td>Ghosts of Mars</td>\n",
              "      <td>[Thriller, Science Fiction, Horror, Adventure,...</td>\n",
              "      <td>Set in the second half of the 22nd century, th...</td>\n",
              "    </tr>\n",
              "    <tr>\n",
              "      <th>1</th>\n",
              "      <td>9363483</td>\n",
              "      <td>White Of The Eye</td>\n",
              "      <td>[Thriller, Erotic thriller, Psychological thri...</td>\n",
              "      <td>A series of murders of rich young women throug...</td>\n",
              "    </tr>\n",
              "    <tr>\n",
              "      <th>2</th>\n",
              "      <td>261236</td>\n",
              "      <td>A Woman in Flames</td>\n",
              "      <td>[Drama]</td>\n",
              "      <td>Eva, an upper class housewife, becomes frustra...</td>\n",
              "    </tr>\n",
              "    <tr>\n",
              "      <th>3</th>\n",
              "      <td>18998739</td>\n",
              "      <td>The Sorcerer's Apprentice</td>\n",
              "      <td>[Family Film, Fantasy, Adventure, World cinema]</td>\n",
              "      <td>Every hundred years, the evil Morgana  returns...</td>\n",
              "    </tr>\n",
              "    <tr>\n",
              "      <th>4</th>\n",
              "      <td>6631279</td>\n",
              "      <td>Little city</td>\n",
              "      <td>[Romantic comedy, Ensemble Film, Comedy-drama,...</td>\n",
              "      <td>Adam, a San Francisco-based artist who works a...</td>\n",
              "    </tr>\n",
              "  </tbody>\n",
              "</table>\n",
              "</div>"
            ],
            "text/plain": [
              "   movie_id  ...                                               plot\n",
              "0    975900  ...  Set in the second half of the 22nd century, th...\n",
              "1   9363483  ...  A series of murders of rich young women throug...\n",
              "2    261236  ...  Eva, an upper class housewife, becomes frustra...\n",
              "3  18998739  ...  Every hundred years, the evil Morgana  returns...\n",
              "4   6631279  ...  Adam, a San Francisco-based artist who works a...\n",
              "\n",
              "[5 rows x 4 columns]"
            ]
          },
          "metadata": {
            "tags": []
          },
          "execution_count": 17
        }
      ]
    },
    {
      "cell_type": "code",
      "metadata": {
        "id": "kVfREcm9ojgW",
        "colab_type": "code",
        "colab": {
          "base_uri": "https://localhost:8080/",
          "height": 52
        },
        "outputId": "3cc56d98-366f-46fb-ba43-f8123b3a9a3b"
      },
      "source": [
        "# Remove rows with 0 genre tags\n",
        "print(\"Before removing the rows: {}\".format(df.shape))\n",
        "df = df[df['genre'].apply(lambda x: False if len(x)==0 else True)]\n",
        "print(\"After removing the rows: {}\".format(df.shape))"
      ],
      "execution_count": 18,
      "outputs": [
        {
          "output_type": "stream",
          "text": [
            "Before removing the rows: (42204, 4)\n",
            "After removing the rows: (41793, 4)\n"
          ],
          "name": "stdout"
        }
      ]
    },
    {
      "cell_type": "markdown",
      "metadata": {
        "id": "Qo0M5vUqrLjl",
        "colab_type": "text"
      },
      "source": [
        "## **Data Visualization**\n",
        "• *Different types of genre's*<br/>"
      ]
    },
    {
      "cell_type": "code",
      "metadata": {
        "id": "ZvT8ANc_rUtV",
        "colab_type": "code",
        "colab": {
          "base_uri": "https://localhost:8080/",
          "height": 72
        },
        "outputId": "2255cb4c-b8ea-472c-c842-85e7922b324b"
      },
      "source": [
        "# Importing essential libraries\n",
        "import matplotlib.pyplot as plt\n",
        "import seaborn as sns"
      ],
      "execution_count": 19,
      "outputs": [
        {
          "output_type": "stream",
          "text": [
            "/usr/local/lib/python3.6/dist-packages/statsmodels/tools/_testing.py:19: FutureWarning: pandas.util.testing is deprecated. Use the functions in the public API at pandas.testing instead.\n",
            "  import pandas.util.testing as tm\n"
          ],
          "name": "stderr"
        }
      ]
    },
    {
      "cell_type": "code",
      "metadata": {
        "id": "082sweYEr-E9",
        "colab_type": "code",
        "colab": {
          "base_uri": "https://localhost:8080/",
          "height": 34
        },
        "outputId": "b0e65929-a417-408f-be96-dd967693ef43"
      },
      "source": [
        "# Calculating unique genres\n",
        "all_genres = list()\n",
        "temp = list()\n",
        "\n",
        "def total_unique_genre(x):\n",
        "  global all_genre, temp\n",
        "  x = x.reset_index()\n",
        "  for i in range(0, x.shape[0]):\n",
        "    temp = temp + x.iloc[i, 1]\n",
        "\n",
        "  all_genre = set(temp)\n",
        "  return len(all_genre)\n",
        "\n",
        "print('Total number of unique genres are: {}'.format(total_unique_genre(df['genre'])))"
      ],
      "execution_count": 20,
      "outputs": [
        {
          "output_type": "stream",
          "text": [
            "Total number of unique genres are: 363\n"
          ],
          "name": "stdout"
        }
      ]
    },
    {
      "cell_type": "code",
      "metadata": {
        "id": "iH2qhIEWMPAq",
        "colab_type": "code",
        "colab": {}
      },
      "source": [
        "# Using FreqDist to calculate the frequency of all the genres in the dataset\n",
        "from nltk.probability import FreqDist\n",
        "temp_with_count = FreqDist(temp)\n",
        "\n",
        "# Creating a dataframe of genre_count\n",
        "df_genre_count = pd.DataFrame({'Genre': list(temp_with_count.keys()),\n",
        "                               'Count': list(temp_with_count.values())})"
      ],
      "execution_count": 21,
      "outputs": []
    },
    {
      "cell_type": "code",
      "metadata": {
        "id": "Ecd6oD-tZedw",
        "colab_type": "code",
        "colab": {
          "base_uri": "https://localhost:8080/",
          "height": 894
        },
        "outputId": "200d0883-d176-481c-92d5-dd747e6f70c6"
      },
      "source": [
        "# Plotting the top 50 genres\n",
        "genre_top_50 = df_genre_count.sort_values(by=['Count'], ascending=False).iloc[0:50, :]\n",
        "plt.figure(figsize=(7,15))\n",
        "sns.barplot(x='Count', y='Genre', data=genre_top_50)\n",
        "plt.xlabel('Frequency Count')\n",
        "plt.ylabel('Genres')"
      ],
      "execution_count": 22,
      "outputs": [
        {
          "output_type": "execute_result",
          "data": {
            "text/plain": [
              "Text(0, 0.5, 'Genres')"
            ]
          },
          "metadata": {
            "tags": []
          },
          "execution_count": 22
        },
        {
          "output_type": "display_data",
          "data": {
            "image/png": "[encoded data removed]",
            "text/plain": [
              "<Figure size 504x1080 with 1 Axes>"
            ]
          },
          "metadata": {
            "tags": [],
            "needs_background": "light"
          }
        }
      ]
    },
    {
      "cell_type": "markdown",
      "metadata": {
        "id": "6VtTvySdeE8u",
        "colab_type": "text"
      },
      "source": [
        "## **Data Preprocessing**\n",
        "• *Clean plot summary*<br/>\n",
        "• *Remove stopwords*<br/>\n",
        "• *Stem plot summary*<br/>\n",
        "• *Convert Genre into Target variables using MultiLabelBinarizer*<br/>\n",
        "• *Split dataset into train and test set*<br/>\n",
        "• *Create features from corpus using TfidfVectorizer*<br/>"
      ]
    },
    {
      "cell_type": "code",
      "metadata": {
        "id": "kpowCVeoaBu9",
        "colab_type": "code",
        "colab": {
          "base_uri": "https://localhost:8080/",
          "height": 52
        },
        "outputId": "8fcd02c2-e399-49c5-e821-790a455d5ea7"
      },
      "source": [
        "# Importing essential libraries\n",
        "import re\n",
        "import nltk\n",
        "nltk.download('stopwords')\n",
        "from nltk.corpus import stopwords\n",
        "from nltk.stem import PorterStemmer"
      ],
      "execution_count": 23,
      "outputs": [
        {
          "output_type": "stream",
          "text": [
            "[nltk_data] Downloading package stopwords to /root/nltk_data...\n",
            "[nltk_data]   Unzipping corpora/stopwords.zip.\n"
          ],
          "name": "stdout"
        }
      ]
    },
    {
      "cell_type": "code",
      "metadata": {
        "id": "sQzUvCFHr9S5",
        "colab_type": "code",
        "colab": {}
      },
      "source": [
        "def plot_clean(text):\n",
        "  text = re.sub(pattern='[^a-zA-Z]', repl=' ', string=text)\n",
        "  text = text.lower()\n",
        "  text = ' '.join(text.split())\n",
        "  return text"
      ],
      "execution_count": 24,
      "outputs": []
    },
    {
      "cell_type": "code",
      "metadata": {
        "id": "lsNdu2oCvlIR",
        "colab_type": "code",
        "colab": {
          "base_uri": "https://localhost:8080/",
          "height": 197
        },
        "outputId": "b1fc483b-8c66-4cbd-8ed3-b2cd182431c4"
      },
      "source": [
        "df['clean_plot'] = df['plot'].apply(lambda x: plot_clean(x))\n",
        "df[['plot', 'clean_plot']].head()"
      ],
      "execution_count": 25,
      "outputs": [
        {
          "output_type": "execute_result",
          "data": {
            "text/html": [
              "<div>\n",
              "<style scoped>\n",
              "    .dataframe tbody tr th:only-of-type {\n",
              "        vertical-align: middle;\n",
              "    }\n",
              "\n",
              "    .dataframe tbody tr th {\n",
              "        vertical-align: top;\n",
              "    }\n",
              "\n",
              "    .dataframe thead th {\n",
              "        text-align: right;\n",
              "    }\n",
              "</style>\n",
              "<table border=\"1\" class=\"dataframe\">\n",
              "  <thead>\n",
              "    <tr style=\"text-align: right;\">\n",
              "      <th></th>\n",
              "      <th>plot</th>\n",
              "      <th>clean_plot</th>\n",
              "    </tr>\n",
              "  </thead>\n",
              "  <tbody>\n",
              "    <tr>\n",
              "      <th>0</th>\n",
              "      <td>Set in the second half of the 22nd century, th...</td>\n",
              "      <td>set in the second half of the nd century the f...</td>\n",
              "    </tr>\n",
              "    <tr>\n",
              "      <th>1</th>\n",
              "      <td>A series of murders of rich young women throug...</td>\n",
              "      <td>a series of murders of rich young women throug...</td>\n",
              "    </tr>\n",
              "    <tr>\n",
              "      <th>2</th>\n",
              "      <td>Eva, an upper class housewife, becomes frustra...</td>\n",
              "      <td>eva an upper class housewife becomes frustrate...</td>\n",
              "    </tr>\n",
              "    <tr>\n",
              "      <th>3</th>\n",
              "      <td>Every hundred years, the evil Morgana  returns...</td>\n",
              "      <td>every hundred years the evil morgana returns t...</td>\n",
              "    </tr>\n",
              "    <tr>\n",
              "      <th>4</th>\n",
              "      <td>Adam, a San Francisco-based artist who works a...</td>\n",
              "      <td>adam a san francisco based artist who works as...</td>\n",
              "    </tr>\n",
              "  </tbody>\n",
              "</table>\n",
              "</div>"
            ],
            "text/plain": [
              "                                                plot                                         clean_plot\n",
              "0  Set in the second half of the 22nd century, th...  set in the second half of the nd century the f...\n",
              "1  A series of murders of rich young women throug...  a series of murders of rich young women throug...\n",
              "2  Eva, an upper class housewife, becomes frustra...  eva an upper class housewife becomes frustrate...\n",
              "3  Every hundred years, the evil Morgana  returns...  every hundred years the evil morgana returns t...\n",
              "4  Adam, a San Francisco-based artist who works a...  adam a san francisco based artist who works as..."
            ]
          },
          "metadata": {
            "tags": []
          },
          "execution_count": 25
        }
      ]
    },
    {
      "cell_type": "code",
      "metadata": {
        "id": "jeXYSQkwK3TJ",
        "colab_type": "code",
        "colab": {}
      },
      "source": [
        "# Removing the stopwords from 'clean_plot'\n",
        "stopwords_set = set(stopwords.words('english'))\n",
        "\n",
        "def plot_stopwords(text):\n",
        "  words = text.split()\n",
        "  words = [word for word in words if not word in stopwords_set]\n",
        "  text = ' '.join(words)\n",
        "  return text"
      ],
      "execution_count": 26,
      "outputs": []
    },
    {
      "cell_type": "code",
      "metadata": {
        "id": "ImHqKMPaMrkJ",
        "colab_type": "code",
        "colab": {
          "base_uri": "https://localhost:8080/",
          "height": 197
        },
        "outputId": "9a72eae5-987b-4d50-c970-78ba5953323e"
      },
      "source": [
        "df['clean_noStopword_plot'] = df['clean_plot'].apply(lambda x: plot_stopwords(x))\n",
        "df[['clean_plot', 'clean_noStopword_plot']].head()"
      ],
      "execution_count": 27,
      "outputs": [
        {
          "output_type": "execute_result",
          "data": {
            "text/html": [
              "<div>\n",
              "<style scoped>\n",
              "    .dataframe tbody tr th:only-of-type {\n",
              "        vertical-align: middle;\n",
              "    }\n",
              "\n",
              "    .dataframe tbody tr th {\n",
              "        vertical-align: top;\n",
              "    }\n",
              "\n",
              "    .dataframe thead th {\n",
              "        text-align: right;\n",
              "    }\n",
              "</style>\n",
              "<table border=\"1\" class=\"dataframe\">\n",
              "  <thead>\n",
              "    <tr style=\"text-align: right;\">\n",
              "      <th></th>\n",
              "      <th>clean_plot</th>\n",
              "      <th>clean_noStopword_plot</th>\n",
              "    </tr>\n",
              "  </thead>\n",
              "  <tbody>\n",
              "    <tr>\n",
              "      <th>0</th>\n",
              "      <td>set in the second half of the nd century the f...</td>\n",
              "      <td>set second half nd century film depicts mars p...</td>\n",
              "    </tr>\n",
              "    <tr>\n",
              "      <th>1</th>\n",
              "      <td>a series of murders of rich young women throug...</td>\n",
              "      <td>series murders rich young women throughout ari...</td>\n",
              "    </tr>\n",
              "    <tr>\n",
              "      <th>2</th>\n",
              "      <td>eva an upper class housewife becomes frustrate...</td>\n",
              "      <td>eva upper class housewife becomes frustrated l...</td>\n",
              "    </tr>\n",
              "    <tr>\n",
              "      <th>3</th>\n",
              "      <td>every hundred years the evil morgana returns t...</td>\n",
              "      <td>every hundred years evil morgana returns claim...</td>\n",
              "    </tr>\n",
              "    <tr>\n",
              "      <th>4</th>\n",
              "      <td>adam a san francisco based artist who works as...</td>\n",
              "      <td>adam san francisco based artist works cab driv...</td>\n",
              "    </tr>\n",
              "  </tbody>\n",
              "</table>\n",
              "</div>"
            ],
            "text/plain": [
              "                                          clean_plot                              clean_noStopword_plot\n",
              "0  set in the second half of the nd century the f...  set second half nd century film depicts mars p...\n",
              "1  a series of murders of rich young women throug...  series murders rich young women throughout ari...\n",
              "2  eva an upper class housewife becomes frustrate...  eva upper class housewife becomes frustrated l...\n",
              "3  every hundred years the evil morgana returns t...  every hundred years evil morgana returns claim...\n",
              "4  adam a san francisco based artist who works as...  adam san francisco based artist works cab driv..."
            ]
          },
          "metadata": {
            "tags": []
          },
          "execution_count": 27
        }
      ]
    },
    {
      "cell_type": "code",
      "metadata": {
        "id": "5XMD5VPqKNro",
        "colab_type": "code",
        "colab": {}
      },
      "source": [
        "# Stemming the words from 'clean_noStopwords_plot'\n",
        "ps = PorterStemmer()\n",
        "\n",
        "def plot_stemming(text):\n",
        "  words = text.split()\n",
        "  words = [ps.stem(word) for word in words]\n",
        "  text = ' '.join(words)\n",
        "  return text"
      ],
      "execution_count": 28,
      "outputs": []
    },
    {
      "cell_type": "code",
      "metadata": {
        "colab_type": "code",
        "id": "swT1CcEoNMNs",
        "colab": {
          "base_uri": "https://localhost:8080/",
          "height": 197
        },
        "outputId": "d7159d6a-fcf7-4d72-9f60-bf1905286061"
      },
      "source": [
        "df['clean_noStopword_stem_plot'] = df['clean_noStopword_plot'].apply(lambda x: plot_stemming(x))\n",
        "df[['clean_noStopword_plot', 'clean_noStopword_stem_plot']].head()"
      ],
      "execution_count": 29,
      "outputs": [
        {
          "output_type": "execute_result",
          "data": {
            "text/html": [
              "<div>\n",
              "<style scoped>\n",
              "    .dataframe tbody tr th:only-of-type {\n",
              "        vertical-align: middle;\n",
              "    }\n",
              "\n",
              "    .dataframe tbody tr th {\n",
              "        vertical-align: top;\n",
              "    }\n",
              "\n",
              "    .dataframe thead th {\n",
              "        text-align: right;\n",
              "    }\n",
              "</style>\n",
              "<table border=\"1\" class=\"dataframe\">\n",
              "  <thead>\n",
              "    <tr style=\"text-align: right;\">\n",
              "      <th></th>\n",
              "      <th>clean_noStopword_plot</th>\n",
              "      <th>clean_noStopword_stem_plot</th>\n",
              "    </tr>\n",
              "  </thead>\n",
              "  <tbody>\n",
              "    <tr>\n",
              "      <th>0</th>\n",
              "      <td>set second half nd century film depicts mars p...</td>\n",
              "      <td>set second half nd centuri film depict mar pla...</td>\n",
              "    </tr>\n",
              "    <tr>\n",
              "      <th>1</th>\n",
              "      <td>series murders rich young women throughout ari...</td>\n",
              "      <td>seri murder rich young women throughout arizon...</td>\n",
              "    </tr>\n",
              "    <tr>\n",
              "      <th>2</th>\n",
              "      <td>eva upper class housewife becomes frustrated l...</td>\n",
              "      <td>eva upper class housewif becom frustrat leav a...</td>\n",
              "    </tr>\n",
              "    <tr>\n",
              "      <th>3</th>\n",
              "      <td>every hundred years evil morgana returns claim...</td>\n",
              "      <td>everi hundr year evil morgana return claim fin...</td>\n",
              "    </tr>\n",
              "    <tr>\n",
              "      <th>4</th>\n",
              "      <td>adam san francisco based artist works cab driv...</td>\n",
              "      <td>adam san francisco base artist work cab driver...</td>\n",
              "    </tr>\n",
              "  </tbody>\n",
              "</table>\n",
              "</div>"
            ],
            "text/plain": [
              "                               clean_noStopword_plot                         clean_noStopword_stem_plot\n",
              "0  set second half nd century film depicts mars p...  set second half nd centuri film depict mar pla...\n",
              "1  series murders rich young women throughout ari...  seri murder rich young women throughout arizon...\n",
              "2  eva upper class housewife becomes frustrated l...  eva upper class housewif becom frustrat leav a...\n",
              "3  every hundred years evil morgana returns claim...  everi hundr year evil morgana return claim fin...\n",
              "4  adam san francisco based artist works cab driv...  adam san francisco base artist work cab driver..."
            ]
          },
          "metadata": {
            "tags": []
          },
          "execution_count": 29
        }
      ]
    },
    {
      "cell_type": "code",
      "metadata": {
        "id": "tFpL89JzcEJe",
        "colab_type": "code",
        "colab": {}
      },
      "source": [
        "# Convert Genre into Target variables using MultiLabelBinarizer\n",
        "from sklearn.preprocessing import MultiLabelBinarizer\n",
        "mlb = MultiLabelBinarizer()\n",
        "y = mlb.fit_transform(df['genre'])"
      ],
      "execution_count": 30,
      "outputs": []
    },
    {
      "cell_type": "code",
      "metadata": {
        "id": "2I2N4f8djdUb",
        "colab_type": "code",
        "colab": {}
      },
      "source": [
        "X = df['clean_noStopword_stem_plot']"
      ],
      "execution_count": 31,
      "outputs": []
    },
    {
      "cell_type": "code",
      "metadata": {
        "id": "b51nZZsDi4YF",
        "colab_type": "code",
        "colab": {}
      },
      "source": [
        "# Splitting the dataset into train and test set\n",
        "from sklearn.model_selection import train_test_split\n",
        "X_train, X_test, y_train, y_test = train_test_split(X, y, test_size=0.20, random_state=0)"
      ],
      "execution_count": 32,
      "outputs": []
    },
    {
      "cell_type": "code",
      "metadata": {
        "id": "tYcoSeSzjxAL",
        "colab_type": "code",
        "colab": {}
      },
      "source": [
        "# Creating independent features using TfidfVectorizer\n",
        "from sklearn.feature_extraction.text import TfidfVectorizer\n",
        "tfidf = TfidfVectorizer(max_df=0.8, max_features=10000)\n",
        "X_train = tfidf.fit_transform(X_train)\n",
        "X_test = tfidf.transform(X_test)"
      ],
      "execution_count": 33,
      "outputs": []
    },
    {
      "cell_type": "markdown",
      "metadata": {
        "id": "gRKMvDfEljVs",
        "colab_type": "text"
      },
      "source": [
        "## **Model Building**"
      ]
    },
    {
      "cell_type": "code",
      "metadata": {
        "id": "_AWTj2PGkxRj",
        "colab_type": "code",
        "colab": {}
      },
      "source": [
        "# Logistic Regression Model\n",
        "# Importing essential libraries\n",
        "from sklearn.linear_model import LogisticRegression\n",
        "from sklearn.multiclass import OneVsRestClassifier"
      ],
      "execution_count": 34,
      "outputs": []
    },
    {
      "cell_type": "code",
      "metadata": {
        "id": "Ymbw0NARmcR9",
        "colab_type": "code",
        "colab": {}
      },
      "source": [
        "lr = LogisticRegression()\n",
        "ovr_clf = OneVsRestClassifier(lr)"
      ],
      "execution_count": 35,
      "outputs": []
    },
    {
      "cell_type": "code",
      "metadata": {
        "id": "CVDc8XX0mkT9",
        "colab_type": "code",
        "colab": {
          "base_uri": "https://localhost:8080/",
          "height": 407
        },
        "outputId": "d17e158e-29cd-44ec-8249-590bc276b762"
      },
      "source": [
        "# Fit model on train data\n",
        "ovr_clf.fit(X_train, y_train)"
      ],
      "execution_count": 36,
      "outputs": [
        {
          "output_type": "stream",
          "text": [
            "/usr/local/lib/python3.6/dist-packages/sklearn/multiclass.py:75: UserWarning: Label not 48 is present in all training examples.\n",
            "  str(classes[c]))\n",
            "/usr/local/lib/python3.6/dist-packages/sklearn/linear_model/_logistic.py:940: ConvergenceWarning: lbfgs failed to converge (status=1):\n",
            "STOP: TOTAL NO. of ITERATIONS REACHED LIMIT.\n",
            "\n",
            "Increase the number of iterations (max_iter) or scale the data as shown in:\n",
            "    https://scikit-learn.org/stable/modules/preprocessing.html\n",
            "Please also refer to the documentation for alternative solver options:\n",
            "    https://scikit-learn.org/stable/modules/linear_model.html#logistic-regression\n",
            "  extra_warning_msg=_LOGISTIC_SOLVER_CONVERGENCE_MSG)\n",
            "/usr/local/lib/python3.6/dist-packages/sklearn/multiclass.py:75: UserWarning: Label not 243 is present in all training examples.\n",
            "  str(classes[c]))\n"
          ],
          "name": "stderr"
        },
        {
          "output_type": "execute_result",
          "data": {
            "text/plain": [
              "OneVsRestClassifier(estimator=LogisticRegression(C=1.0, class_weight=None,\n",
              "                                                 dual=False, fit_intercept=True,\n",
              "                                                 intercept_scaling=1,\n",
              "                                                 l1_ratio=None, max_iter=100,\n",
              "                                                 multi_class='auto',\n",
              "                                                 n_jobs=None, penalty='l2',\n",
              "                                                 random_state=None,\n",
              "                                                 solver='lbfgs', tol=0.0001,\n",
              "                                                 verbose=0, warm_start=False),\n",
              "                    n_jobs=None)"
            ]
          },
          "metadata": {
            "tags": []
          },
          "execution_count": 36
        }
      ]
    },
    {
      "cell_type": "code",
      "metadata": {
        "id": "7acxFd3QnpSb",
        "colab_type": "code",
        "colab": {
          "base_uri": "https://localhost:8080/",
          "height": 318
        },
        "outputId": "3c01daba-2620-4cc0-e6dc-652696aa937c"
      },
      "source": [
        "# Predicting values for test set\n",
        "y_pred_ovr = ovr_clf.predict(X_test)\n",
        "y_pred_ovr[5]"
      ],
      "execution_count": 37,
      "outputs": [
        {
          "output_type": "execute_result",
          "data": {
            "text/plain": [
              "array([0, 0, 0, 0, 0, 0, 0, 0, 0, 0, 0, 0, 0, 0, 0, 0, 0, 0, 0, 0, 0, 0,\n",
              "       0, 0, 0, 0, 0, 0, 0, 0, 0, 0, 0, 0, 0, 0, 0, 0, 0, 0, 0, 0, 0, 0,\n",
              "       0, 0, 0, 0, 0, 0, 0, 0, 0, 0, 0, 0, 0, 0, 0, 0, 0, 0, 0, 0, 0, 0,\n",
              "       0, 0, 0, 0, 0, 0, 0, 0, 0, 0, 0, 0, 0, 0, 0, 0, 0, 0, 0, 0, 0, 0,\n",
              "       0, 0, 0, 0, 0, 0, 0, 0, 0, 0, 0, 0, 0, 0, 0, 0, 0, 0, 0, 0, 0, 0,\n",
              "       0, 0, 0, 0, 1, 0, 0, 0, 0, 0, 0, 0, 0, 0, 0, 0, 0, 0, 0, 0, 0, 0,\n",
              "       0, 0, 0, 0, 0, 0, 0, 0, 0, 0, 0, 0, 0, 0, 0, 0, 0, 0, 0, 0, 0, 0,\n",
              "       0, 0, 0, 0, 0, 0, 0, 0, 0, 0, 0, 0, 0, 0, 0, 0, 0, 0, 0, 0, 0, 0,\n",
              "       0, 0, 0, 0, 0, 0, 0, 0, 0, 0, 0, 0, 0, 0, 0, 0, 0, 0, 0, 0, 0, 0,\n",
              "       0, 0, 0, 0, 0, 0, 0, 0, 0, 0, 0, 0, 0, 0, 0, 0, 0, 0, 0, 0, 0, 0,\n",
              "       0, 0, 0, 0, 0, 0, 0, 0, 0, 0, 0, 0, 0, 0, 0, 0, 0, 0, 0, 0, 0, 0,\n",
              "       0, 0, 0, 0, 0, 0, 0, 0, 0, 0, 0, 0, 0, 0, 0, 0, 0, 0, 0, 0, 0, 0,\n",
              "       0, 0, 0, 0, 0, 0, 0, 0, 0, 0, 0, 0, 0, 0, 0, 0, 0, 0, 0, 0, 0, 0,\n",
              "       0, 0, 0, 0, 0, 0, 0, 0, 0, 0, 0, 0, 0, 0, 0, 0, 0, 0, 0, 0, 0, 0,\n",
              "       0, 0, 0, 0, 0, 0, 0, 0, 0, 0, 0, 0, 0, 0, 0, 0, 0, 0, 0, 0, 0, 0,\n",
              "       0, 0, 0, 0, 0, 0, 0, 0, 0, 0, 0, 0, 0, 0, 0, 0, 0, 0, 0, 0, 0, 0,\n",
              "       0, 0, 0, 0, 0, 0, 0, 0, 0, 0, 0])"
            ]
          },
          "metadata": {
            "tags": []
          },
          "execution_count": 37
        }
      ]
    },
    {
      "cell_type": "code",
      "metadata": {
        "id": "YOrVdRd8npBz",
        "colab_type": "code",
        "colab": {
          "base_uri": "https://localhost:8080/",
          "height": 34
        },
        "outputId": "2cb6de1c-8b1f-4e8d-934c-d4ad5b6133eb"
      },
      "source": [
        "mlb.inverse_transform(y_pred_ovr)[5]"
      ],
      "execution_count": 38,
      "outputs": [
        {
          "output_type": "execute_result",
          "data": {
            "text/plain": [
              "('Drama',)"
            ]
          },
          "metadata": {
            "tags": []
          },
          "execution_count": 38
        }
      ]
    },
    {
      "cell_type": "code",
      "metadata": {
        "id": "kpbHdEOWpAQE",
        "colab_type": "code",
        "colab": {
          "base_uri": "https://localhost:8080/",
          "height": 34
        },
        "outputId": "d91bf255-bebf-40af-d0fb-a90a802c1246"
      },
      "source": [
        "# Model Evaluation\n",
        "from sklearn.metrics import f1_score\n",
        "print(f1_score(y_test, y_pred_ovr, average=\"micro\"))"
      ],
      "execution_count": 39,
      "outputs": [
        {
          "output_type": "stream",
          "text": [
            "0.324498931732628\n"
          ],
          "name": "stdout"
        }
      ]
    },
    {
      "cell_type": "code",
      "metadata": {
        "id": "6RNldv87rcaa",
        "colab_type": "code",
        "colab": {}
      },
      "source": [
        "# Changing the threshold probability from 0.5 to 0.3\n",
        "y_pred_prob = ovr_clf.predict_proba(X_test)\n",
        "y_pred_new = (y_pred_prob >= 0.2).astype(int)"
      ],
      "execution_count": 40,
      "outputs": []
    },
    {
      "cell_type": "code",
      "metadata": {
        "id": "KvXkz9vesE76",
        "colab_type": "code",
        "colab": {
          "base_uri": "https://localhost:8080/",
          "height": 34
        },
        "outputId": "8e786b91-2f5e-4bdd-a26e-48120143f65b"
      },
      "source": [
        "f1_score(y_test, y_pred_new, average=\"micro\")"
      ],
      "execution_count": 41,
      "outputs": [
        {
          "output_type": "execute_result",
          "data": {
            "text/plain": [
              "0.47357308040352586"
            ]
          },
          "metadata": {
            "tags": []
          },
          "execution_count": 41
        }
      ]
    },
    {
      "cell_type": "markdown",
      "metadata": {
        "id": "a-KEL6k8soCx",
        "colab_type": "text"
      },
      "source": [
        "## **Predictions**"
      ]
    },
    {
      "cell_type": "code",
      "metadata": {
        "id": "KagFadgrsgWz",
        "colab_type": "code",
        "colab": {}
      },
      "source": [
        "# Creating a function\n",
        "def predict_genre_tags(text):\n",
        "    text = plot_clean(text)\n",
        "    text = plot_stopwords(text)\n",
        "    text = plot_stemming(text)\n",
        "    text_vec = tfidf.transform([text])\n",
        "    text_pred = ovr_clf.predict(text_vec)\n",
        "    return mlb.inverse_transform(text_pred)"
      ],
      "execution_count": 42,
      "outputs": []
    },
    {
      "cell_type": "code",
      "metadata": {
        "id": "B6do1W2EtTpD",
        "colab_type": "code",
        "colab": {
          "base_uri": "https://localhost:8080/",
          "height": 70
        },
        "outputId": "2cbd086f-2d25-416f-fbb3-e9aabedf1333"
      },
      "source": [
        "# Prediction 1\n",
        "movie_name = 'Titanic (1998)'\n",
        "plot_summary = \"After winning a trip on the RMS Titanic during a dockside card game, American Jack Dawson spots the society girl Rose DeWitt Bukater who is on her way to Philadelphia to marry her rich snob fiancé Caledon Hockley. Rose feels helplessly trapped by her situation and makes her way to the aft deck and thinks of suicide until she is rescued by Jack. Cal is therefore obliged to invite Jack to dine at their first-class table where he suffers through the slights of his snobbish hosts. In return, he spirits Rose off to third-class for an evening of dancing, giving her the time of her life. Deciding to forsake her intended future all together, Rose asks Jack, who has made his living making sketches on the streets of Paris, to draw her in the nude wearing the invaluable blue diamond Cal has given her. Cal finds out and has Jack locked away. Soon afterwards, the ship hits an iceberg and Rose must find Jack while both must run from Cal even as the ship sinks deeper into the freezing water.\"\n",
        "actual_genre = ['Drama', 'Romance']\n",
        "predicted_genre = predict_genre_tags(plot_summary)\n",
        "print('Movie: {}\\nPredicted genres: {}\\nActual genres: {}'.format(movie_name, predicted_genre[0], actual_genre))"
      ],
      "execution_count": 43,
      "outputs": [
        {
          "output_type": "stream",
          "text": [
            "Movie: Titanic (1998)\n",
            "Predicted genres: ('Drama',)\n",
            "Actual genres: ['Drama', 'Romance']\n"
          ],
          "name": "stdout"
        }
      ]
    },
    {
      "cell_type": "code",
      "metadata": {
        "id": "3NcizAZ7uhr7",
        "colab_type": "code",
        "colab": {
          "base_uri": "https://localhost:8080/",
          "height": 70
        },
        "outputId": "0215fb60-2a9e-4050-8bbc-fd5ee3557898"
      },
      "source": [
        "# Prediction 2\n",
        "movie_name = 'Avatar (2009)'\n",
        "plot_summary = \"On the lush alien world of Pandora live the Na'vi, beings who appear primitive but are highly evolved. Because the planet's environment is poisonous, human/Na'vi hybrids, called Avatars, must link to human minds to allow for free movement on Pandora. Jake Sully (Sam Worthington), a paralyzed former Marine, becomes mobile again through one such Avatar and falls in love with a Na'vi woman (Zoe Saldana). As a bond with her grows, he is drawn into a battle for the survival of her world.\"\n",
        "actual_genre = ['Action', 'Adventure', 'Fantasy']\n",
        "predicted_genre = predict_genre_tags(plot_summary)\n",
        "print('Movie: {}\\nPredicted genres: {}\\nActual genres: {}'.format(movie_name, predicted_genre[0], actual_genre))"
      ],
      "execution_count": 44,
      "outputs": [
        {
          "output_type": "stream",
          "text": [
            "Movie: Avatar (2009)\n",
            "Predicted genres: ()\n",
            "Actual genres: ['Action', 'Adventure', 'Fantasy']\n"
          ],
          "name": "stdout"
        }
      ]
    },
    {
      "cell_type": "code",
      "metadata": {
        "colab_type": "code",
        "id": "u9cLHG89FMDu",
        "colab": {
          "base_uri": "https://localhost:8080/",
          "height": 70
        },
        "outputId": "43b095d0-c8b7-490b-ed5b-acc9c7e314cc"
      },
      "source": [
        "# Prediction 3\n",
        "movie_name = 'Conjuring (2013)'\n",
        "plot_summary = \"In 1971, Carolyn and Roger Perron move their family into a dilapidated Rhode Island farm house and soon strange things start happening around it with escalating nightmarish terror. In desperation, Carolyn contacts the noted paranormal investigators, Ed and Lorraine Warren, to examine the house. What the Warrens discover is a whole area steeped in a satanic haunting that is now targeting the Perron family wherever they go. To stop this evil, the Warrens will have to call upon all their skills and spiritual strength to defeat this spectral menace at its source that threatens to destroy everyone involved.\"\n",
        "actual_genre = ['Horror', 'Thriller']\n",
        "predicted_genre = predict_genre_tags(plot_summary)\n",
        "print('Movie: {}\\nPredicted genres: {}\\nActual genres: {}'.format(movie_name, predicted_genre[0], actual_genre))"
      ],
      "execution_count": 45,
      "outputs": [
        {
          "output_type": "stream",
          "text": [
            "Movie: Conjuring (2013)\n",
            "Predicted genres: ('Horror',)\n",
            "Actual genres: ['Horror', 'Thriller']\n"
          ],
          "name": "stdout"
        }
      ]
    },
    {
      "cell_type": "code",
      "metadata": {
        "colab_type": "code",
        "id": "3hHb8WSeFRyf",
        "colab": {
          "base_uri": "https://localhost:8080/",
          "height": 70
        },
        "outputId": "03e64b76-f134-453a-ee83-74f0d3a3a94f"
      },
      "source": [
        "# Prediction 4\n",
        "movie_name = 'The Hangover (2009)'\n",
        "plot_summary = \"Three buddies wake up from a bachelor party in Las Vegas, with no memory of the previous night and the bachelor missing. They make their way around the city in order to find their friend before his wedding.\"\n",
        "actual_genre = ['Comedy']\n",
        "predicted_genre = predict_genre_tags(plot_summary)\n",
        "print('Movie: {}\\nPredicted genres: {}\\nActual genres: {}'.format(movie_name, predicted_genre[0], actual_genre))"
      ],
      "execution_count": 46,
      "outputs": [
        {
          "output_type": "stream",
          "text": [
            "Movie: The Hangover (2009)\n",
            "Predicted genres: ('Comedy', 'Romance Film')\n",
            "Actual genres: ['Comedy']\n"
          ],
          "name": "stdout"
        }
      ]
    },
    {
      "cell_type": "code",
      "metadata": {
        "colab_type": "code",
        "id": "amIn_dVjFMai",
        "colab": {
          "base_uri": "https://localhost:8080/",
          "height": 70
        },
        "outputId": "5aa67d4f-f953-4883-e3ae-405a8639cb3d"
      },
      "source": [
        "# Prediction 5\n",
        "movie_name = 'La La Land (2016)'\n",
        "plot_summary = \"The story of aspiring actress Mia and dedicated jazz musician Sebastian, who struggle to make ends meet while pursuing their dreams in a city known for destroying hopes and breaking hearts. With modern-day Los Angeles as the backdrop, this musical about everyday life explores what more important: a once-in-a-lifetime love or the spotlight.\"\n",
        "actual_genre = ['Comedy', 'Drama', 'Music']\n",
        "predicted_genre = predict_genre_tags(plot_summary)\n",
        "print('Movie: {}\\nPredicted genres: {}\\nActual genres: {}'.format(movie_name, predicted_genre[0], actual_genre))"
      ],
      "execution_count": 47,
      "outputs": [
        {
          "output_type": "stream",
          "text": [
            "Movie: La La Land (2016)\n",
            "Predicted genres: ('Drama',)\n",
            "Actual genres: ['Comedy', 'Drama', 'Music']\n"
          ],
          "name": "stdout"
        }
      ]
    }
  ]
}