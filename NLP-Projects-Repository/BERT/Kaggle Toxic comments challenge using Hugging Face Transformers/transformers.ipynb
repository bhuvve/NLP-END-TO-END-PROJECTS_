{
 "cells": [
  {
   "cell_type": "code",
   "execution_count": 1,
   "metadata": {
    "_cell_guid": "b1076dfc-b9ad-4769-8c92-a6c4dae69d19",
    "_uuid": "8f2839f25d086af736a60e9eeb907d3b93b6e0e5",
    "execution": {
     "iopub.execute_input": "2020-10-20T10:04:15.243945Z",
     "iopub.status.busy": "2020-10-20T10:04:15.243056Z",
     "iopub.status.idle": "2020-10-20T10:04:15.249412Z",
     "shell.execute_reply": "2020-10-20T10:04:15.248467Z"
    },
    "papermill": {
     "duration": 0.031173,
     "end_time": "2020-10-20T10:04:15.249531",
     "exception": false,
     "start_time": "2020-10-20T10:04:15.218358",
     "status": "completed"
    },
    "tags": []
   },
   "outputs": [
    {
     "name": "stdout",
     "output_type": "stream",
     "text": [
      "/kaggle/input/jigsaw-toxic-comment-classification-challenge/test.csv.zip\n",
      "/kaggle/input/jigsaw-toxic-comment-classification-challenge/sample_submission.csv.zip\n",
      "/kaggle/input/jigsaw-toxic-comment-classification-challenge/train.csv.zip\n",
      "/kaggle/input/jigsaw-toxic-comment-classification-challenge/test_labels.csv.zip\n"
     ]
    }
   ],
   "source": [
    "import numpy as np \n",
    "import pandas as pd \n",
    "import os\n",
    "\n",
    "for dirname, _, filenames in os.walk('/kaggle/input'):\n",
    "    for filename in filenames:\n",
    "        print(os.path.join(dirname, filename))"
   ]
  },
  {
   "cell_type": "code",
   "execution_count": 2,
   "metadata": {
    "_cell_guid": "79c7e3d0-c299-4dcb-8224-4455121ee9b0",
    "_kg_hide-output": true,
    "_uuid": "d629ff2d2480ee46fbb7e2d37f6b5fab8052498a",
    "collapsed": true,
    "execution": {
     "iopub.execute_input": "2020-10-20T10:04:15.291395Z",
     "iopub.status.busy": "2020-10-20T10:04:15.290531Z",
     "iopub.status.idle": "2020-10-20T10:04:27.268766Z",
     "shell.execute_reply": "2020-10-20T10:04:27.267259Z"
    },
    "papermill": {
     "duration": 12.00044,
     "end_time": "2020-10-20T10:04:27.268900",
     "exception": false,
     "start_time": "2020-10-20T10:04:15.268460",
     "status": "completed"
    },
    "tags": []
   },
   "outputs": [
    {
     "name": "stdout",
     "output_type": "stream",
     "text": [
      "Requirement already satisfied: transformers in /opt/conda/lib/python3.7/site-packages (3.0.2)\r\n",
      "Collecting clean-text\r\n",
      "  Downloading clean_text-0.3.0-py3-none-any.whl (9.6 kB)\r\n",
      "Requirement already satisfied: numpy in /opt/conda/lib/python3.7/site-packages (from transformers) (1.18.5)\r\n",
      "Requirement already satisfied: regex!=2019.12.17 in /opt/conda/lib/python3.7/site-packages (from transformers) (2020.4.4)\r\n",
      "Requirement already satisfied: sacremoses in /opt/conda/lib/python3.7/site-packages (from transformers) (0.0.43)\r\n",
      "Requirement already satisfied: requests in /opt/conda/lib/python3.7/site-packages (from transformers) (2.23.0)\r\n",
      "Requirement already satisfied: packaging in /opt/conda/lib/python3.7/site-packages (from transformers) (20.1)\r\n",
      "Requirement already satisfied: filelock in /opt/conda/lib/python3.7/site-packages (from transformers) (3.0.10)\r\n",
      "Requirement already satisfied: tqdm>=4.27 in /opt/conda/lib/python3.7/site-packages (from transformers) (4.45.0)\r\n",
      "Requirement already satisfied: tokenizers==0.8.1.rc1 in /opt/conda/lib/python3.7/site-packages (from transformers) (0.8.1rc1)\r\n",
      "Requirement already satisfied: sentencepiece!=0.1.92 in /opt/conda/lib/python3.7/site-packages (from transformers) (0.1.91)\r\n",
      "Collecting ftfy<6.0,>=5.8\r\n",
      "  Downloading ftfy-5.8.tar.gz (64 kB)\r\n",
      "\u001b[K     |████████████████████████████████| 64 kB 1.0 MB/s \r\n",
      "\u001b[?25hRequirement already satisfied: emoji in /opt/conda/lib/python3.7/site-packages (from clean-text) (0.6.0)\r\n",
      "Requirement already satisfied: joblib in /opt/conda/lib/python3.7/site-packages (from sacremoses->transformers) (0.14.1)\r\n",
      "Requirement already satisfied: click in /opt/conda/lib/python3.7/site-packages (from sacremoses->transformers) (7.1.1)\r\n",
      "Requirement already satisfied: six in /opt/conda/lib/python3.7/site-packages (from sacremoses->transformers) (1.14.0)\r\n",
      "Requirement already satisfied: urllib3!=1.25.0,!=1.25.1,<1.26,>=1.21.1 in /opt/conda/lib/python3.7/site-packages (from requests->transformers) (1.24.3)\r\n",
      "Requirement already satisfied: idna<3,>=2.5 in /opt/conda/lib/python3.7/site-packages (from requests->transformers) (2.9)\r\n",
      "Requirement already satisfied: chardet<4,>=3.0.2 in /opt/conda/lib/python3.7/site-packages (from requests->transformers) (3.0.4)\r\n",
      "Requirement already satisfied: certifi>=2017.4.17 in /opt/conda/lib/python3.7/site-packages (from requests->transformers) (2020.6.20)\r\n",
      "Requirement already satisfied: pyparsing>=2.0.2 in /opt/conda/lib/python3.7/site-packages (from packaging->transformers) (2.4.7)\r\n",
      "Requirement already satisfied: wcwidth in /opt/conda/lib/python3.7/site-packages (from ftfy<6.0,>=5.8->clean-text) (0.1.9)\r\n",
      "Building wheels for collected packages: ftfy\r\n",
      "  Building wheel for ftfy (setup.py) ... \u001b[?25l-\b \b\\\b \bdone\r\n",
      "\u001b[?25h  Created wheel for ftfy: filename=ftfy-5.8-py3-none-any.whl size=45612 sha256=ac324d42a87d20775d59dc942f438736c109467ad7caacf81b2218c2afc0e158\r\n",
      "  Stored in directory: /root/.cache/pip/wheels/49/1c/fc/8b19700f939810cd8fd9495ae34934b246279791288eda1c31\r\n",
      "Successfully built ftfy\r\n",
      "Installing collected packages: ftfy, clean-text\r\n",
      "Successfully installed clean-text-0.3.0 ftfy-5.8\r\n",
      "\u001b[33mWARNING: You are using pip version 20.2.3; however, version 20.2.4 is available.\r\n",
      "You should consider upgrading via the '/opt/conda/bin/python3.7 -m pip install --upgrade pip' command.\u001b[0m\r\n"
     ]
    }
   ],
   "source": [
    "!pip install transformers clean-text"
   ]
  },
  {
   "cell_type": "code",
   "execution_count": 3,
   "metadata": {
    "execution": {
     "iopub.execute_input": "2020-10-20T10:04:27.325075Z",
     "iopub.status.busy": "2020-10-20T10:04:27.324275Z",
     "iopub.status.idle": "2020-10-20T10:04:28.555413Z",
     "shell.execute_reply": "2020-10-20T10:04:28.556310Z"
    },
    "papermill": {
     "duration": 1.261275,
     "end_time": "2020-10-20T10:04:28.556474",
     "exception": false,
     "start_time": "2020-10-20T10:04:27.295199",
     "status": "completed"
    },
    "tags": []
   },
   "outputs": [],
   "source": [
    "train_path = '../input/jigsaw-toxic-comment-classification-challenge/train.csv.zip'\n",
    "\n",
    "data = pd.read_csv(train_path)"
   ]
  },
  {
   "cell_type": "code",
   "execution_count": 4,
   "metadata": {
    "execution": {
     "iopub.execute_input": "2020-10-20T10:04:28.632713Z",
     "iopub.status.busy": "2020-10-20T10:04:28.631938Z",
     "iopub.status.idle": "2020-10-20T10:04:28.636957Z",
     "shell.execute_reply": "2020-10-20T10:04:28.638113Z"
    },
    "papermill": {
     "duration": 0.045752,
     "end_time": "2020-10-20T10:04:28.638369",
     "exception": false,
     "start_time": "2020-10-20T10:04:28.592617",
     "status": "completed"
    },
    "tags": []
   },
   "outputs": [
    {
     "name": "stdout",
     "output_type": "stream",
     "text": [
      "Number of Records: 159571, Number of features/columns: 8\n"
     ]
    }
   ],
   "source": [
    "print('Number of Records: {}, Number of features/columns: {}'.format(data.shape[0], data.shape[1]))"
   ]
  },
  {
   "cell_type": "code",
   "execution_count": 5,
   "metadata": {
    "execution": {
     "iopub.execute_input": "2020-10-20T10:04:28.695893Z",
     "iopub.status.busy": "2020-10-20T10:04:28.695326Z",
     "iopub.status.idle": "2020-10-20T10:04:28.739127Z",
     "shell.execute_reply": "2020-10-20T10:04:28.738459Z"
    },
    "papermill": {
     "duration": 0.072253,
     "end_time": "2020-10-20T10:04:28.739253",
     "exception": false,
     "start_time": "2020-10-20T10:04:28.667000",
     "status": "completed"
    },
    "tags": []
   },
   "outputs": [
    {
     "name": "stdout",
     "output_type": "stream",
     "text": [
      "Null values: 0\n"
     ]
    }
   ],
   "source": [
    "print('Null values: {}'.format(data.isnull().values.sum()))"
   ]
  },
  {
   "cell_type": "code",
   "execution_count": 6,
   "metadata": {
    "execution": {
     "iopub.execute_input": "2020-10-20T10:04:28.806483Z",
     "iopub.status.busy": "2020-10-20T10:04:28.805764Z",
     "iopub.status.idle": "2020-10-20T10:04:28.809492Z",
     "shell.execute_reply": "2020-10-20T10:04:28.809022Z"
    },
    "papermill": {
     "duration": 0.044491,
     "end_time": "2020-10-20T10:04:28.809588",
     "exception": false,
     "start_time": "2020-10-20T10:04:28.765097",
     "status": "completed"
    },
    "tags": []
   },
   "outputs": [],
   "source": [
    "target_columns = list(data.columns)[2:]\n",
    "y_labels = data[target_columns].values"
   ]
  },
  {
   "cell_type": "code",
   "execution_count": 7,
   "metadata": {
    "execution": {
     "iopub.execute_input": "2020-10-20T10:04:28.865842Z",
     "iopub.status.busy": "2020-10-20T10:04:28.865043Z",
     "iopub.status.idle": "2020-10-20T10:04:37.634944Z",
     "shell.execute_reply": "2020-10-20T10:04:37.633813Z"
    },
    "papermill": {
     "duration": 8.800308,
     "end_time": "2020-10-20T10:04:37.635099",
     "exception": false,
     "start_time": "2020-10-20T10:04:28.834791",
     "status": "completed"
    },
    "tags": []
   },
   "outputs": [
    {
     "name": "stderr",
     "output_type": "stream",
     "text": [
      "\u001b[34m\u001b[1mwandb\u001b[0m: \u001b[33mWARNING\u001b[0m W&B installed but not logged in.  Run `wandb login` or set the WANDB_API_KEY env variable.\n"
     ]
    }
   ],
   "source": [
    "from transformers import DistilBertTokenizer, DistilBertConfig, TFDistilBertModel\n",
    "from sklearn.model_selection import train_test_split\n",
    "import tensorflow as tf\n",
    "from tqdm import tqdm\n",
    "from cleantext import clean"
   ]
  },
  {
   "cell_type": "code",
   "execution_count": 8,
   "metadata": {
    "execution": {
     "iopub.execute_input": "2020-10-20T10:04:37.698697Z",
     "iopub.status.busy": "2020-10-20T10:04:37.697831Z",
     "iopub.status.idle": "2020-10-20T10:04:38.228645Z",
     "shell.execute_reply": "2020-10-20T10:04:38.228157Z"
    },
    "papermill": {
     "duration": 0.567162,
     "end_time": "2020-10-20T10:04:38.228754",
     "exception": false,
     "start_time": "2020-10-20T10:04:37.661592",
     "status": "completed"
    },
    "tags": []
   },
   "outputs": [
    {
     "data": {
      "application/vnd.jupyter.widget-view+json": {
       "model_id": "209a23078a84403eb51d327d3a340272",
       "version_major": 2,
       "version_minor": 0
      },
      "text/plain": [
       "HBox(children=(FloatProgress(value=0.0, description='Downloading', max=231508.0, style=ProgressStyle(descripti…"
      ]
     },
     "metadata": {},
     "output_type": "display_data"
    },
    {
     "name": "stdout",
     "output_type": "stream",
     "text": [
      "\n"
     ]
    }
   ],
   "source": [
    "distil_bert = 'distilbert-base-uncased'\n",
    "\n",
    "tokenizer = DistilBertTokenizer.from_pretrained(distil_bert, do_lower_case=True, add_special_tokens=True,\n",
    "                                                max_length=128, pad_to_max_length=True)"
   ]
  },
  {
   "cell_type": "code",
   "execution_count": 9,
   "metadata": {
    "execution": {
     "iopub.execute_input": "2020-10-20T10:04:38.292495Z",
     "iopub.status.busy": "2020-10-20T10:04:38.291227Z",
     "iopub.status.idle": "2020-10-20T10:04:38.293778Z",
     "shell.execute_reply": "2020-10-20T10:04:38.294272Z"
    },
    "papermill": {
     "duration": 0.03843,
     "end_time": "2020-10-20T10:04:38.294386",
     "exception": false,
     "start_time": "2020-10-20T10:04:38.255956",
     "status": "completed"
    },
    "tags": []
   },
   "outputs": [],
   "source": [
    "def cleaning(text):\n",
    "    return clean(text, no_line_breaks=True, no_urls=True, no_punct=True)\n",
    "\n",
    "def tokenize(sentences, tokenizer):\n",
    "    \n",
    "    input_ids = []\n",
    "    input_masks = []\n",
    "    \n",
    "    for sentence in tqdm(sentences):\n",
    "        inputs = tokenizer.encode_plus(sentence, add_special_tokens=True, \n",
    "                                       max_length=128, pad_to_max_length=True, \n",
    "                                       return_attention_mask=True, return_token_type_ids=True)\n",
    "        \n",
    "        input_ids.append(inputs['input_ids'])\n",
    "        input_masks.append(inputs['attention_mask'])       \n",
    "        \n",
    "    return np.asarray(input_ids, dtype='int32'),np.asarray(input_masks, dtype='int32')"
   ]
  },
  {
   "cell_type": "code",
   "execution_count": 10,
   "metadata": {
    "_kg_hide-output": true,
    "execution": {
     "iopub.execute_input": "2020-10-20T10:04:38.377106Z",
     "iopub.status.busy": "2020-10-20T10:04:38.376302Z",
     "iopub.status.idle": "2020-10-20T10:18:25.056546Z",
     "shell.execute_reply": "2020-10-20T10:18:25.055877Z"
    },
    "papermill": {
     "duration": 826.735263,
     "end_time": "2020-10-20T10:18:25.056673",
     "exception": false,
     "start_time": "2020-10-20T10:04:38.321410",
     "status": "completed"
    },
    "tags": []
   },
   "outputs": [
    {
     "name": "stderr",
     "output_type": "stream",
     "text": [
      "100%|██████████| 159571/159571 [06:11<00:00, 429.57it/s]\n"
     ]
    }
   ],
   "source": [
    "data['comment_text'] = data['comment_text'].apply(cleaning)\n",
    "input_ids, input_masks = tokenize(data['comment_text'], tokenizer)"
   ]
  },
  {
   "cell_type": "code",
   "execution_count": 11,
   "metadata": {
    "execution": {
     "iopub.execute_input": "2020-10-20T10:18:27.693145Z",
     "iopub.status.busy": "2020-10-20T10:18:27.692356Z",
     "iopub.status.idle": "2020-10-20T10:19:03.281816Z",
     "shell.execute_reply": "2020-10-20T10:19:03.281117Z"
    },
    "papermill": {
     "duration": 37.045686,
     "end_time": "2020-10-20T10:19:03.281956",
     "exception": false,
     "start_time": "2020-10-20T10:18:26.236270",
     "status": "completed"
    },
    "tags": []
   },
   "outputs": [
    {
     "data": {
      "application/vnd.jupyter.widget-view+json": {
       "model_id": "85b2bafe3f0e42ef9590b6761660fdc1",
       "version_major": 2,
       "version_minor": 0
      },
      "text/plain": [
       "HBox(children=(FloatProgress(value=0.0, description='Downloading', max=363423424.0, style=ProgressStyle(descri…"
      ]
     },
     "metadata": {},
     "output_type": "display_data"
    },
    {
     "name": "stdout",
     "output_type": "stream",
     "text": [
      "\n"
     ]
    }
   ],
   "source": [
    "config = DistilBertConfig(dropout=0.2, attention_dropout=0.2)\n",
    "\n",
    "config.output_hidden_states = False\n",
    "\n",
    "transformer_model = TFDistilBertModel.from_pretrained(distil_bert, config=config)\n",
    "\n",
    "input_ids_in = tf.keras.layers.Input(shape=(128,), name='input_token', dtype='int32')\n",
    "input_masks_in = tf.keras.layers.Input(shape=(128,), name='masked_token', dtype='int32')\n",
    "\n",
    "embedding_layer = transformer_model(input_ids_in, attention_mask=input_masks_in)[0]\n",
    "X = tf.keras.layers.Bidirectional(tf.keras.layers.LSTM(50, \n",
    "                                                       return_sequences=True, \n",
    "                                                       dropout=0.1, \n",
    "                                                       recurrent_dropout=0.1))(embedding_layer)\n",
    "X = tf.keras.layers.GlobalMaxPool1D()(X)\n",
    "X = tf.keras.layers.Dense(50, activation='relu')(X)\n",
    "X = tf.keras.layers.Dropout(0.2)(X)\n",
    "X = tf.keras.layers.Dense(6, activation='sigmoid')(X)\n",
    "\n",
    "model = tf.keras.models.Model(inputs=[input_ids_in, input_masks_in], outputs=X)\n",
    "\n",
    "for layer in model.layers[:3]:\n",
    "    layer.trainable = False"
   ]
  },
  {
   "cell_type": "code",
   "execution_count": 12,
   "metadata": {
    "execution": {
     "iopub.execute_input": "2020-10-20T10:19:05.549949Z",
     "iopub.status.busy": "2020-10-20T10:19:05.549078Z",
     "iopub.status.idle": "2020-10-20T10:19:05.560585Z",
     "shell.execute_reply": "2020-10-20T10:19:05.559624Z"
    },
    "papermill": {
     "duration": 1.166887,
     "end_time": "2020-10-20T10:19:05.560687",
     "exception": false,
     "start_time": "2020-10-20T10:19:04.393800",
     "status": "completed"
    },
    "tags": []
   },
   "outputs": [
    {
     "name": "stdout",
     "output_type": "stream",
     "text": [
      "Model: \"functional_1\"\n",
      "__________________________________________________________________________________________________\n",
      "Layer (type)                    Output Shape         Param #     Connected to                     \n",
      "==================================================================================================\n",
      "input_token (InputLayer)        [(None, 128)]        0                                            \n",
      "__________________________________________________________________________________________________\n",
      "masked_token (InputLayer)       [(None, 128)]        0                                            \n",
      "__________________________________________________________________________________________________\n",
      "tf_distil_bert_model (TFDistilB ((None, 128, 768),)  66362880    input_token[0][0]                \n",
      "                                                                 masked_token[0][0]               \n",
      "__________________________________________________________________________________________________\n",
      "bidirectional (Bidirectional)   (None, 128, 100)     327600      tf_distil_bert_model[0][0]       \n",
      "__________________________________________________________________________________________________\n",
      "global_max_pooling1d (GlobalMax (None, 100)          0           bidirectional[0][0]              \n",
      "__________________________________________________________________________________________________\n",
      "dense (Dense)                   (None, 50)           5050        global_max_pooling1d[0][0]       \n",
      "__________________________________________________________________________________________________\n",
      "dropout_19 (Dropout)            (None, 50)           0           dense[0][0]                      \n",
      "__________________________________________________________________________________________________\n",
      "dense_1 (Dense)                 (None, 6)            306         dropout_19[0][0]                 \n",
      "==================================================================================================\n",
      "Total params: 66,695,836\n",
      "Trainable params: 332,956\n",
      "Non-trainable params: 66,362,880\n",
      "__________________________________________________________________________________________________\n"
     ]
    }
   ],
   "source": [
    "model.summary()"
   ]
  },
  {
   "cell_type": "code",
   "execution_count": 13,
   "metadata": {
    "execution": {
     "iopub.execute_input": "2020-10-20T10:19:07.818024Z",
     "iopub.status.busy": "2020-10-20T10:19:07.817040Z",
     "iopub.status.idle": "2020-10-20T10:19:07.825455Z",
     "shell.execute_reply": "2020-10-20T10:19:07.824798Z"
    },
    "papermill": {
     "duration": 1.142965,
     "end_time": "2020-10-20T10:19:07.825570",
     "exception": false,
     "start_time": "2020-10-20T10:19:06.682605",
     "status": "completed"
    },
    "tags": []
   },
   "outputs": [],
   "source": [
    "model.compile(optimizer='adam', loss='categorical_crossentropy', metrics=['accuracy'])"
   ]
  },
  {
   "cell_type": "code",
   "execution_count": 14,
   "metadata": {
    "execution": {
     "iopub.execute_input": "2020-10-20T10:19:10.685710Z",
     "iopub.status.busy": "2020-10-20T10:19:10.680849Z",
     "iopub.status.idle": "2020-10-20T10:19:10.742046Z",
     "shell.execute_reply": "2020-10-20T10:19:10.741460Z"
    },
    "papermill": {
     "duration": 1.443446,
     "end_time": "2020-10-20T10:19:10.742162",
     "exception": false,
     "start_time": "2020-10-20T10:19:09.298716",
     "status": "completed"
    },
    "tags": []
   },
   "outputs": [],
   "source": [
    "X_train_id, X_test_id, X_train_mask, X_test_mask, y_train, y_test = train_test_split(input_ids, \n",
    "                                                                                     input_masks, \n",
    "                                                                                     y_labels,\n",
    "                                                                                     test_size=0.2, \n",
    "                                                                                     random_state=42)"
   ]
  },
  {
   "cell_type": "code",
   "execution_count": 15,
   "metadata": {
    "execution": {
     "iopub.execute_input": "2020-10-20T10:19:12.978561Z",
     "iopub.status.busy": "2020-10-20T10:19:12.977406Z",
     "iopub.status.idle": "2020-10-20T10:59:11.632044Z",
     "shell.execute_reply": "2020-10-20T10:59:11.632760Z"
    },
    "papermill": {
     "duration": 2399.769804,
     "end_time": "2020-10-20T10:59:11.633086",
     "exception": false,
     "start_time": "2020-10-20T10:19:11.863282",
     "status": "completed"
    },
    "tags": []
   },
   "outputs": [
    {
     "name": "stdout",
     "output_type": "stream",
     "text": [
      "1995/1995 [==============================] - 2384s 1s/step - loss: 0.2845 - accuracy: 0.9886 - val_loss: 0.2740 - val_accuracy: 0.9881\n"
     ]
    }
   ],
   "source": [
    "hist = model.fit([X_train_id, X_train_mask], \n",
    "                 y_train, \n",
    "                 validation_data=([X_test_id, X_test_mask], y_test),\n",
    "                 epochs=1,\n",
    "                 batch_size=64)"
   ]
  },
  {
   "cell_type": "code",
   "execution_count": 16,
   "metadata": {
    "execution": {
     "iopub.execute_input": "2020-10-20T10:59:15.550777Z",
     "iopub.status.busy": "2020-10-20T10:59:15.548975Z",
     "iopub.status.idle": "2020-10-20T10:59:15.551535Z",
     "shell.execute_reply": "2020-10-20T10:59:15.552009Z"
    },
    "papermill": {
     "duration": 1.954725,
     "end_time": "2020-10-20T10:59:15.552134",
     "exception": false,
     "start_time": "2020-10-20T10:59:13.597409",
     "status": "completed"
    },
    "tags": []
   },
   "outputs": [],
   "source": [
    "model.save_weights('toxic.h5')"
   ]
  },
  {
   "cell_type": "code",
   "execution_count": 17,
   "metadata": {
    "execution": {
     "iopub.execute_input": "2020-10-20T10:59:19.524756Z",
     "iopub.status.busy": "2020-10-20T10:59:19.523857Z",
     "iopub.status.idle": "2020-10-20T10:59:19.538561Z",
     "shell.execute_reply": "2020-10-20T10:59:19.539476Z"
    },
    "papermill": {
     "duration": 2.055439,
     "end_time": "2020-10-20T10:59:19.539655",
     "exception": false,
     "start_time": "2020-10-20T10:59:17.484216",
     "status": "completed"
    },
    "tags": []
   },
   "outputs": [
    {
     "name": "stderr",
     "output_type": "stream",
     "text": [
      "100%|██████████| 20/20 [00:00<00:00, 2518.35it/s]\n"
     ]
    }
   ],
   "source": [
    "sample_text = 'I hate you, you idiot!'\n",
    "clean_txt = cleaning(sample_text)\n",
    "input_ids_test, input_masks_test = tokenize(clean_txt, tokenizer)"
   ]
  },
  {
   "cell_type": "code",
   "execution_count": 18,
   "metadata": {
    "execution": {
     "iopub.execute_input": "2020-10-20T10:59:23.873427Z",
     "iopub.status.busy": "2020-10-20T10:59:23.872527Z",
     "iopub.status.idle": "2020-10-20T10:59:26.230854Z",
     "shell.execute_reply": "2020-10-20T10:59:26.231475Z"
    },
    "papermill": {
     "duration": 4.289504,
     "end_time": "2020-10-20T10:59:26.231654",
     "exception": false,
     "start_time": "2020-10-20T10:59:21.942150",
     "status": "completed"
    },
    "tags": []
   },
   "outputs": [
    {
     "name": "stdout",
     "output_type": "stream",
     "text": [
      "toxic\n"
     ]
    }
   ],
   "source": [
    "preds = model.predict([input_ids_test, input_masks_test])[0]\n",
    "prediction = target_columns[np.argmax(preds, axis=0)]\n",
    "print(prediction)"
   ]
  },
  {
   "cell_type": "markdown",
   "metadata": {
    "papermill": {
     "duration": 1.826596,
     "end_time": "2020-10-20T10:59:29.927503",
     "exception": false,
     "start_time": "2020-10-20T10:59:28.100907",
     "status": "completed"
    },
    "tags": []
   },
   "source": [
    "**SUBMISSION**"
   ]
  },
  {
   "cell_type": "code",
   "execution_count": 19,
   "metadata": {
    "execution": {
     "iopub.execute_input": "2020-10-20T10:59:33.876424Z",
     "iopub.status.busy": "2020-10-20T10:59:33.875731Z",
     "iopub.status.idle": "2020-10-20T10:59:34.114762Z",
     "shell.execute_reply": "2020-10-20T10:59:34.115436Z"
    },
    "papermill": {
     "duration": 2.071154,
     "end_time": "2020-10-20T10:59:34.115634",
     "exception": false,
     "start_time": "2020-10-20T10:59:32.044480",
     "status": "completed"
    },
    "tags": []
   },
   "outputs": [
    {
     "data": {
      "text/html": [
       "<div>\n",
       "<style scoped>\n",
       "    .dataframe tbody tr th:only-of-type {\n",
       "        vertical-align: middle;\n",
       "    }\n",
       "\n",
       "    .dataframe tbody tr th {\n",
       "        vertical-align: top;\n",
       "    }\n",
       "\n",
       "    .dataframe thead th {\n",
       "        text-align: right;\n",
       "    }\n",
       "</style>\n",
       "<table border=\"1\" class=\"dataframe\">\n",
       "  <thead>\n",
       "    <tr style=\"text-align: right;\">\n",
       "      <th></th>\n",
       "      <th>id</th>\n",
       "      <th>toxic</th>\n",
       "      <th>severe_toxic</th>\n",
       "      <th>obscene</th>\n",
       "      <th>threat</th>\n",
       "      <th>insult</th>\n",
       "      <th>identity_hate</th>\n",
       "    </tr>\n",
       "  </thead>\n",
       "  <tbody>\n",
       "    <tr>\n",
       "      <th>0</th>\n",
       "      <td>00001cee341fdb12</td>\n",
       "      <td>0.5</td>\n",
       "      <td>0.5</td>\n",
       "      <td>0.5</td>\n",
       "      <td>0.5</td>\n",
       "      <td>0.5</td>\n",
       "      <td>0.5</td>\n",
       "    </tr>\n",
       "    <tr>\n",
       "      <th>1</th>\n",
       "      <td>0000247867823ef7</td>\n",
       "      <td>0.5</td>\n",
       "      <td>0.5</td>\n",
       "      <td>0.5</td>\n",
       "      <td>0.5</td>\n",
       "      <td>0.5</td>\n",
       "      <td>0.5</td>\n",
       "    </tr>\n",
       "    <tr>\n",
       "      <th>2</th>\n",
       "      <td>00013b17ad220c46</td>\n",
       "      <td>0.5</td>\n",
       "      <td>0.5</td>\n",
       "      <td>0.5</td>\n",
       "      <td>0.5</td>\n",
       "      <td>0.5</td>\n",
       "      <td>0.5</td>\n",
       "    </tr>\n",
       "    <tr>\n",
       "      <th>3</th>\n",
       "      <td>00017563c3f7919a</td>\n",
       "      <td>0.5</td>\n",
       "      <td>0.5</td>\n",
       "      <td>0.5</td>\n",
       "      <td>0.5</td>\n",
       "      <td>0.5</td>\n",
       "      <td>0.5</td>\n",
       "    </tr>\n",
       "    <tr>\n",
       "      <th>4</th>\n",
       "      <td>00017695ad8997eb</td>\n",
       "      <td>0.5</td>\n",
       "      <td>0.5</td>\n",
       "      <td>0.5</td>\n",
       "      <td>0.5</td>\n",
       "      <td>0.5</td>\n",
       "      <td>0.5</td>\n",
       "    </tr>\n",
       "  </tbody>\n",
       "</table>\n",
       "</div>"
      ],
      "text/plain": [
       "                 id  toxic  severe_toxic  obscene  threat  insult  \\\n",
       "0  00001cee341fdb12    0.5           0.5      0.5     0.5     0.5   \n",
       "1  0000247867823ef7    0.5           0.5      0.5     0.5     0.5   \n",
       "2  00013b17ad220c46    0.5           0.5      0.5     0.5     0.5   \n",
       "3  00017563c3f7919a    0.5           0.5      0.5     0.5     0.5   \n",
       "4  00017695ad8997eb    0.5           0.5      0.5     0.5     0.5   \n",
       "\n",
       "   identity_hate  \n",
       "0            0.5  \n",
       "1            0.5  \n",
       "2            0.5  \n",
       "3            0.5  \n",
       "4            0.5  "
      ]
     },
     "execution_count": 19,
     "metadata": {},
     "output_type": "execute_result"
    }
   ],
   "source": [
    "sample_submission_path = '../input/jigsaw-toxic-comment-classification-challenge/sample_submission.csv.zip'\n",
    "sample_submission = pd.read_csv(sample_submission_path)\n",
    "sample_submission.head()"
   ]
  },
  {
   "cell_type": "code",
   "execution_count": 20,
   "metadata": {
    "execution": {
     "iopub.execute_input": "2020-10-20T10:59:37.772812Z",
     "iopub.status.busy": "2020-10-20T10:59:37.772134Z",
     "iopub.status.idle": "2020-10-20T10:59:38.879919Z",
     "shell.execute_reply": "2020-10-20T10:59:38.878668Z"
    },
    "papermill": {
     "duration": 2.948936,
     "end_time": "2020-10-20T10:59:38.880102",
     "exception": false,
     "start_time": "2020-10-20T10:59:35.931166",
     "status": "completed"
    },
    "tags": []
   },
   "outputs": [],
   "source": [
    "test_path = '../input/jigsaw-toxic-comment-classification-challenge/test.csv.zip'\n",
    "df_test = pd.read_csv(test_path)"
   ]
  },
  {
   "cell_type": "code",
   "execution_count": 21,
   "metadata": {
    "execution": {
     "iopub.execute_input": "2020-10-20T10:59:43.286190Z",
     "iopub.status.busy": "2020-10-20T10:59:43.285495Z",
     "iopub.status.idle": "2020-10-20T10:59:43.291319Z",
     "shell.execute_reply": "2020-10-20T10:59:43.290770Z"
    },
    "papermill": {
     "duration": 2.196702,
     "end_time": "2020-10-20T10:59:43.291426",
     "exception": false,
     "start_time": "2020-10-20T10:59:41.094724",
     "status": "completed"
    },
    "tags": []
   },
   "outputs": [
    {
     "data": {
      "text/html": [
       "<div>\n",
       "<style scoped>\n",
       "    .dataframe tbody tr th:only-of-type {\n",
       "        vertical-align: middle;\n",
       "    }\n",
       "\n",
       "    .dataframe tbody tr th {\n",
       "        vertical-align: top;\n",
       "    }\n",
       "\n",
       "    .dataframe thead th {\n",
       "        text-align: right;\n",
       "    }\n",
       "</style>\n",
       "<table border=\"1\" class=\"dataframe\">\n",
       "  <thead>\n",
       "    <tr style=\"text-align: right;\">\n",
       "      <th></th>\n",
       "      <th>id</th>\n",
       "      <th>comment_text</th>\n",
       "    </tr>\n",
       "  </thead>\n",
       "  <tbody>\n",
       "    <tr>\n",
       "      <th>0</th>\n",
       "      <td>00001cee341fdb12</td>\n",
       "      <td>Yo bitch Ja Rule is more succesful then you'll...</td>\n",
       "    </tr>\n",
       "    <tr>\n",
       "      <th>1</th>\n",
       "      <td>0000247867823ef7</td>\n",
       "      <td>== From RfC == \\n\\n The title is fine as it is...</td>\n",
       "    </tr>\n",
       "    <tr>\n",
       "      <th>2</th>\n",
       "      <td>00013b17ad220c46</td>\n",
       "      <td>\" \\n\\n == Sources == \\n\\n * Zawe Ashton on Lap...</td>\n",
       "    </tr>\n",
       "    <tr>\n",
       "      <th>3</th>\n",
       "      <td>00017563c3f7919a</td>\n",
       "      <td>:If you have a look back at the source, the in...</td>\n",
       "    </tr>\n",
       "    <tr>\n",
       "      <th>4</th>\n",
       "      <td>00017695ad8997eb</td>\n",
       "      <td>I don't anonymously edit articles at all.</td>\n",
       "    </tr>\n",
       "  </tbody>\n",
       "</table>\n",
       "</div>"
      ],
      "text/plain": [
       "                 id                                       comment_text\n",
       "0  00001cee341fdb12  Yo bitch Ja Rule is more succesful then you'll...\n",
       "1  0000247867823ef7  == From RfC == \\n\\n The title is fine as it is...\n",
       "2  00013b17ad220c46  \" \\n\\n == Sources == \\n\\n * Zawe Ashton on Lap...\n",
       "3  00017563c3f7919a  :If you have a look back at the source, the in...\n",
       "4  00017695ad8997eb          I don't anonymously edit articles at all."
      ]
     },
     "execution_count": 21,
     "metadata": {},
     "output_type": "execute_result"
    }
   ],
   "source": [
    "df_test.head()"
   ]
  },
  {
   "cell_type": "code",
   "execution_count": 22,
   "metadata": {
    "execution": {
     "iopub.execute_input": "2020-10-20T10:59:47.020838Z",
     "iopub.status.busy": "2020-10-20T10:59:47.009025Z",
     "iopub.status.idle": "2020-10-20T11:12:55.422775Z",
     "shell.execute_reply": "2020-10-20T11:12:55.423687Z"
    },
    "papermill": {
     "duration": 790.267178,
     "end_time": "2020-10-20T11:12:55.423920",
     "exception": false,
     "start_time": "2020-10-20T10:59:45.156742",
     "status": "completed"
    },
    "tags": []
   },
   "outputs": [
    {
     "name": "stderr",
     "output_type": "stream",
     "text": [
      "100%|██████████| 153164/153164 [06:03<00:00, 421.89it/s]\n"
     ]
    }
   ],
   "source": [
    "ids = df_test['id']\n",
    "X_t = df_test['comment_text'].apply(cleaning)\n",
    "sub_input_ids, sub_input_masks = tokenize(X_t, tokenizer)"
   ]
  },
  {
   "cell_type": "code",
   "execution_count": 23,
   "metadata": {
    "execution": {
     "iopub.execute_input": "2020-10-20T11:13:01.815853Z",
     "iopub.status.busy": "2020-10-20T11:13:01.814811Z",
     "iopub.status.idle": "2020-10-20T11:24:25.049469Z",
     "shell.execute_reply": "2020-10-20T11:24:25.050777Z"
    },
    "papermill": {
     "duration": 686.628382,
     "end_time": "2020-10-20T11:24:25.051013",
     "exception": false,
     "start_time": "2020-10-20T11:12:58.422631",
     "status": "completed"
    },
    "tags": []
   },
   "outputs": [],
   "source": [
    "predictions = model.predict([sub_input_ids, sub_input_masks])"
   ]
  },
  {
   "cell_type": "code",
   "execution_count": 24,
   "metadata": {
    "execution": {
     "iopub.execute_input": "2020-10-20T11:24:31.290612Z",
     "iopub.status.busy": "2020-10-20T11:24:31.288754Z",
     "iopub.status.idle": "2020-10-20T11:24:31.291281Z",
     "shell.execute_reply": "2020-10-20T11:24:31.291738Z"
    },
    "papermill": {
     "duration": 2.963767,
     "end_time": "2020-10-20T11:24:31.291860",
     "exception": false,
     "start_time": "2020-10-20T11:24:28.328093",
     "status": "completed"
    },
    "tags": []
   },
   "outputs": [],
   "source": [
    "ids = pd.Series(ids)\n",
    "y_preds = pd.DataFrame(predictions, columns=target_columns)"
   ]
  },
  {
   "cell_type": "code",
   "execution_count": 25,
   "metadata": {
    "execution": {
     "iopub.execute_input": "2020-10-20T11:24:37.239323Z",
     "iopub.status.busy": "2020-10-20T11:24:37.236674Z",
     "iopub.status.idle": "2020-10-20T11:24:37.247529Z",
     "shell.execute_reply": "2020-10-20T11:24:37.246824Z"
    },
    "papermill": {
     "duration": 3.056752,
     "end_time": "2020-10-20T11:24:37.247698",
     "exception": false,
     "start_time": "2020-10-20T11:24:34.190946",
     "status": "completed"
    },
    "tags": []
   },
   "outputs": [],
   "source": [
    "final_submission = pd.concat([ids, y_preds], axis=1)"
   ]
  },
  {
   "cell_type": "code",
   "execution_count": 26,
   "metadata": {
    "execution": {
     "iopub.execute_input": "2020-10-20T11:24:43.065067Z",
     "iopub.status.busy": "2020-10-20T11:24:43.064354Z",
     "iopub.status.idle": "2020-10-20T11:24:43.067981Z",
     "shell.execute_reply": "2020-10-20T11:24:43.068480Z"
    },
    "papermill": {
     "duration": 2.88153,
     "end_time": "2020-10-20T11:24:43.068601",
     "exception": false,
     "start_time": "2020-10-20T11:24:40.187071",
     "status": "completed"
    },
    "tags": []
   },
   "outputs": [
    {
     "data": {
      "text/html": [
       "<div>\n",
       "<style scoped>\n",
       "    .dataframe tbody tr th:only-of-type {\n",
       "        vertical-align: middle;\n",
       "    }\n",
       "\n",
       "    .dataframe tbody tr th {\n",
       "        vertical-align: top;\n",
       "    }\n",
       "\n",
       "    .dataframe thead th {\n",
       "        text-align: right;\n",
       "    }\n",
       "</style>\n",
       "<table border=\"1\" class=\"dataframe\">\n",
       "  <thead>\n",
       "    <tr style=\"text-align: right;\">\n",
       "      <th></th>\n",
       "      <th>id</th>\n",
       "      <th>toxic</th>\n",
       "      <th>severe_toxic</th>\n",
       "      <th>obscene</th>\n",
       "      <th>threat</th>\n",
       "      <th>insult</th>\n",
       "      <th>identity_hate</th>\n",
       "    </tr>\n",
       "  </thead>\n",
       "  <tbody>\n",
       "    <tr>\n",
       "      <th>0</th>\n",
       "      <td>00001cee341fdb12</td>\n",
       "      <td>0.892861</td>\n",
       "      <td>0.445832</td>\n",
       "      <td>0.882156</td>\n",
       "      <td>0.071673</td>\n",
       "      <td>0.767476</td>\n",
       "      <td>0.524940</td>\n",
       "    </tr>\n",
       "    <tr>\n",
       "      <th>1</th>\n",
       "      <td>0000247867823ef7</td>\n",
       "      <td>0.998242</td>\n",
       "      <td>0.002765</td>\n",
       "      <td>0.179622</td>\n",
       "      <td>0.001741</td>\n",
       "      <td>0.073882</td>\n",
       "      <td>0.005871</td>\n",
       "    </tr>\n",
       "    <tr>\n",
       "      <th>2</th>\n",
       "      <td>00013b17ad220c46</td>\n",
       "      <td>0.996876</td>\n",
       "      <td>0.005555</td>\n",
       "      <td>0.190328</td>\n",
       "      <td>0.003438</td>\n",
       "      <td>0.077510</td>\n",
       "      <td>0.015770</td>\n",
       "    </tr>\n",
       "    <tr>\n",
       "      <th>3</th>\n",
       "      <td>00017563c3f7919a</td>\n",
       "      <td>0.998900</td>\n",
       "      <td>0.002071</td>\n",
       "      <td>0.093645</td>\n",
       "      <td>0.007377</td>\n",
       "      <td>0.059176</td>\n",
       "      <td>0.006362</td>\n",
       "    </tr>\n",
       "    <tr>\n",
       "      <th>4</th>\n",
       "      <td>00017695ad8997eb</td>\n",
       "      <td>0.998466</td>\n",
       "      <td>0.002392</td>\n",
       "      <td>0.086849</td>\n",
       "      <td>0.005945</td>\n",
       "      <td>0.053424</td>\n",
       "      <td>0.010384</td>\n",
       "    </tr>\n",
       "  </tbody>\n",
       "</table>\n",
       "</div>"
      ],
      "text/plain": [
       "                 id     toxic  severe_toxic   obscene    threat    insult  \\\n",
       "0  00001cee341fdb12  0.892861      0.445832  0.882156  0.071673  0.767476   \n",
       "1  0000247867823ef7  0.998242      0.002765  0.179622  0.001741  0.073882   \n",
       "2  00013b17ad220c46  0.996876      0.005555  0.190328  0.003438  0.077510   \n",
       "3  00017563c3f7919a  0.998900      0.002071  0.093645  0.007377  0.059176   \n",
       "4  00017695ad8997eb  0.998466      0.002392  0.086849  0.005945  0.053424   \n",
       "\n",
       "   identity_hate  \n",
       "0       0.524940  \n",
       "1       0.005871  \n",
       "2       0.015770  \n",
       "3       0.006362  \n",
       "4       0.010384  "
      ]
     },
     "execution_count": 26,
     "metadata": {},
     "output_type": "execute_result"
    }
   ],
   "source": [
    "final_submission.head()"
   ]
  },
  {
   "cell_type": "code",
   "execution_count": 27,
   "metadata": {
    "execution": {
     "iopub.execute_input": "2020-10-20T11:24:49.315801Z",
     "iopub.status.busy": "2020-10-20T11:24:49.315179Z",
     "iopub.status.idle": "2020-10-20T11:24:51.276648Z",
     "shell.execute_reply": "2020-10-20T11:24:51.275571Z"
    },
    "papermill": {
     "duration": 5.309072,
     "end_time": "2020-10-20T11:24:51.276763",
     "exception": false,
     "start_time": "2020-10-20T11:24:45.967691",
     "status": "completed"
    },
    "tags": []
   },
   "outputs": [],
   "source": [
    "final_submission.to_csv('submission.csv', index=False)"
   ]
  }
 ],
 "metadata": {
  "kernelspec": {
   "display_name": "Python 3",
   "language": "python",
   "name": "python3"
  },
  "language_info": {
   "codemirror_mode": {
    "name": "ipython",
    "version": 3
   },
   "file_extension": ".py",
   "mimetype": "text/x-python",
   "name": "python",
   "nbconvert_exporter": "python",
   "pygments_lexer": "ipython3",
   "version": "3.7.6"
  },
  "papermill": {
   "duration": 4845.138045,
   "end_time": "2020-10-20T11:24:55.976236",
   "environment_variables": {},
   "exception": null,
   "input_path": "__notebook__.ipynb",
   "output_path": "__notebook__.ipynb",
   "parameters": {},
   "start_time": "2020-10-20T10:04:10.838191",
   "version": "2.1.0"
  },
  "widgets": {
   "application/vnd.jupyter.widget-state+json": {
    "state": {
     "01d93dbf3d474397932dbbe574be642f": {
      "model_module": "@jupyter-widgets/controls",
      "model_module_version": "1.5.0",
      "model_name": "HTMLModel",
      "state": {
       "_dom_classes": [],
       "_model_module": "@jupyter-widgets/controls",
       "_model_module_version": "1.5.0",
       "_model_name": "HTMLModel",
       "_view_count": null,
       "_view_module": "@jupyter-widgets/controls",
       "_view_module_version": "1.5.0",
       "_view_name": "HTMLView",
       "description": "",
       "description_tooltip": null,
       "layout": "IPY_MODEL_b916cecf277945c48f6e609039f2b626",
       "placeholder": "​",
       "style": "IPY_MODEL_25d87b885d4c41e1873138623b643bb6",
       "value": " 232k/232k [00:00&lt;00:00, 1.87MB/s]"
      }
     },
     "0879cc6fbb844b448a1a2f4b237f302f": {
      "model_module": "@jupyter-widgets/controls",
      "model_module_version": "1.5.0",
      "model_name": "FloatProgressModel",
      "state": {
       "_dom_classes": [],
       "_model_module": "@jupyter-widgets/controls",
       "_model_module_version": "1.5.0",
       "_model_name": "FloatProgressModel",
       "_view_count": null,
       "_view_module": "@jupyter-widgets/controls",
       "_view_module_version": "1.5.0",
       "_view_name": "ProgressView",
       "bar_style": "success",
       "description": "Downloading: 100%",
       "description_tooltip": null,
       "layout": "IPY_MODEL_8710d2108f3649908e8c2bc8f8d69980",
       "max": 231508,
       "min": 0,
       "orientation": "horizontal",
       "style": "IPY_MODEL_905cb33a58b54887b998fbee55941701",
       "value": 231508
      }
     },
     "1075a594608b45dd9ef78721fb803bed": {
      "model_module": "@jupyter-widgets/controls",
      "model_module_version": "1.5.0",
      "model_name": "ProgressStyleModel",
      "state": {
       "_model_module": "@jupyter-widgets/controls",
       "_model_module_version": "1.5.0",
       "_model_name": "ProgressStyleModel",
       "_view_count": null,
       "_view_module": "@jupyter-widgets/base",
       "_view_module_version": "1.2.0",
       "_view_name": "StyleView",
       "bar_color": null,
       "description_width": "initial"
      }
     },
     "1e3503603b9340db994f09168f0b0130": {
      "model_module": "@jupyter-widgets/base",
      "model_module_version": "1.2.0",
      "model_name": "LayoutModel",
      "state": {
       "_model_module": "@jupyter-widgets/base",
       "_model_module_version": "1.2.0",
       "_model_name": "LayoutModel",
       "_view_count": null,
       "_view_module": "@jupyter-widgets/base",
       "_view_module_version": "1.2.0",
       "_view_name": "LayoutView",
       "align_content": null,
       "align_items": null,
       "align_self": null,
       "border": null,
       "bottom": null,
       "display": null,
       "flex": null,
       "flex_flow": null,
       "grid_area": null,
       "grid_auto_columns": null,
       "grid_auto_flow": null,
       "grid_auto_rows": null,
       "grid_column": null,
       "grid_gap": null,
       "grid_row": null,
       "grid_template_areas": null,
       "grid_template_columns": null,
       "grid_template_rows": null,
       "height": null,
       "justify_content": null,
       "justify_items": null,
       "left": null,
       "margin": null,
       "max_height": null,
       "max_width": null,
       "min_height": null,
       "min_width": null,
       "object_fit": null,
       "object_position": null,
       "order": null,
       "overflow": null,
       "overflow_x": null,
       "overflow_y": null,
       "padding": null,
       "right": null,
       "top": null,
       "visibility": null,
       "width": null
      }
     },
     "209a23078a84403eb51d327d3a340272": {
      "model_module": "@jupyter-widgets/controls",
      "model_module_version": "1.5.0",
      "model_name": "HBoxModel",
      "state": {
       "_dom_classes": [],
       "_model_module": "@jupyter-widgets/controls",
       "_model_module_version": "1.5.0",
       "_model_name": "HBoxModel",
       "_view_count": null,
       "_view_module": "@jupyter-widgets/controls",
       "_view_module_version": "1.5.0",
       "_view_name": "HBoxView",
       "box_style": "",
       "children": [
        "IPY_MODEL_0879cc6fbb844b448a1a2f4b237f302f",
        "IPY_MODEL_01d93dbf3d474397932dbbe574be642f"
       ],
       "layout": "IPY_MODEL_c0647b8e875a4ccc9c3358c38968ff86"
      }
     },
     "25d87b885d4c41e1873138623b643bb6": {
      "model_module": "@jupyter-widgets/controls",
      "model_module_version": "1.5.0",
      "model_name": "DescriptionStyleModel",
      "state": {
       "_model_module": "@jupyter-widgets/controls",
       "_model_module_version": "1.5.0",
       "_model_name": "DescriptionStyleModel",
       "_view_count": null,
       "_view_module": "@jupyter-widgets/base",
       "_view_module_version": "1.2.0",
       "_view_name": "StyleView",
       "description_width": ""
      }
     },
     "392a60b44ae94952926899ba1a306e90": {
      "model_module": "@jupyter-widgets/controls",
      "model_module_version": "1.5.0",
      "model_name": "FloatProgressModel",
      "state": {
       "_dom_classes": [],
       "_model_module": "@jupyter-widgets/controls",
       "_model_module_version": "1.5.0",
       "_model_name": "FloatProgressModel",
       "_view_count": null,
       "_view_module": "@jupyter-widgets/controls",
       "_view_module_version": "1.5.0",
       "_view_name": "ProgressView",
       "bar_style": "success",
       "description": "Downloading: 100%",
       "description_tooltip": null,
       "layout": "IPY_MODEL_7019d6b77476478c915e4f363648efda",
       "max": 363423424,
       "min": 0,
       "orientation": "horizontal",
       "style": "IPY_MODEL_1075a594608b45dd9ef78721fb803bed",
       "value": 363423424
      }
     },
     "5717637b247d4e829c86ce2122afb508": {
      "model_module": "@jupyter-widgets/controls",
      "model_module_version": "1.5.0",
      "model_name": "DescriptionStyleModel",
      "state": {
       "_model_module": "@jupyter-widgets/controls",
       "_model_module_version": "1.5.0",
       "_model_name": "DescriptionStyleModel",
       "_view_count": null,
       "_view_module": "@jupyter-widgets/base",
       "_view_module_version": "1.2.0",
       "_view_name": "StyleView",
       "description_width": ""
      }
     },
     "7019d6b77476478c915e4f363648efda": {
      "model_module": "@jupyter-widgets/base",
      "model_module_version": "1.2.0",
      "model_name": "LayoutModel",
      "state": {
       "_model_module": "@jupyter-widgets/base",
       "_model_module_version": "1.2.0",
       "_model_name": "LayoutModel",
       "_view_count": null,
       "_view_module": "@jupyter-widgets/base",
       "_view_module_version": "1.2.0",
       "_view_name": "LayoutView",
       "align_content": null,
       "align_items": null,
       "align_self": null,
       "border": null,
       "bottom": null,
       "display": null,
       "flex": null,
       "flex_flow": null,
       "grid_area": null,
       "grid_auto_columns": null,
       "grid_auto_flow": null,
       "grid_auto_rows": null,
       "grid_column": null,
       "grid_gap": null,
       "grid_row": null,
       "grid_template_areas": null,
       "grid_template_columns": null,
       "grid_template_rows": null,
       "height": null,
       "justify_content": null,
       "justify_items": null,
       "left": null,
       "margin": null,
       "max_height": null,
       "max_width": null,
       "min_height": null,
       "min_width": null,
       "object_fit": null,
       "object_position": null,
       "order": null,
       "overflow": null,
       "overflow_x": null,
       "overflow_y": null,
       "padding": null,
       "right": null,
       "top": null,
       "visibility": null,
       "width": null
      }
     },
     "7bcf882061cd45dfb98b43f596cb4b93": {
      "model_module": "@jupyter-widgets/base",
      "model_module_version": "1.2.0",
      "model_name": "LayoutModel",
      "state": {
       "_model_module": "@jupyter-widgets/base",
       "_model_module_version": "1.2.0",
       "_model_name": "LayoutModel",
       "_view_count": null,
       "_view_module": "@jupyter-widgets/base",
       "_view_module_version": "1.2.0",
       "_view_name": "LayoutView",
       "align_content": null,
       "align_items": null,
       "align_self": null,
       "border": null,
       "bottom": null,
       "display": null,
       "flex": null,
       "flex_flow": null,
       "grid_area": null,
       "grid_auto_columns": null,
       "grid_auto_flow": null,
       "grid_auto_rows": null,
       "grid_column": null,
       "grid_gap": null,
       "grid_row": null,
       "grid_template_areas": null,
       "grid_template_columns": null,
       "grid_template_rows": null,
       "height": null,
       "justify_content": null,
       "justify_items": null,
       "left": null,
       "margin": null,
       "max_height": null,
       "max_width": null,
       "min_height": null,
       "min_width": null,
       "object_fit": null,
       "object_position": null,
       "order": null,
       "overflow": null,
       "overflow_x": null,
       "overflow_y": null,
       "padding": null,
       "right": null,
       "top": null,
       "visibility": null,
       "width": null
      }
     },
     "85b2bafe3f0e42ef9590b6761660fdc1": {
      "model_module": "@jupyter-widgets/controls",
      "model_module_version": "1.5.0",
      "model_name": "HBoxModel",
      "state": {
       "_dom_classes": [],
       "_model_module": "@jupyter-widgets/controls",
       "_model_module_version": "1.5.0",
       "_model_name": "HBoxModel",
       "_view_count": null,
       "_view_module": "@jupyter-widgets/controls",
       "_view_module_version": "1.5.0",
       "_view_name": "HBoxView",
       "box_style": "",
       "children": [
        "IPY_MODEL_392a60b44ae94952926899ba1a306e90",
        "IPY_MODEL_fe56a347dce0404d847a4fb3c92f9731"
       ],
       "layout": "IPY_MODEL_7bcf882061cd45dfb98b43f596cb4b93"
      }
     },
     "8710d2108f3649908e8c2bc8f8d69980": {
      "model_module": "@jupyter-widgets/base",
      "model_module_version": "1.2.0",
      "model_name": "LayoutModel",
      "state": {
       "_model_module": "@jupyter-widgets/base",
       "_model_module_version": "1.2.0",
       "_model_name": "LayoutModel",
       "_view_count": null,
       "_view_module": "@jupyter-widgets/base",
       "_view_module_version": "1.2.0",
       "_view_name": "LayoutView",
       "align_content": null,
       "align_items": null,
       "align_self": null,
       "border": null,
       "bottom": null,
       "display": null,
       "flex": null,
       "flex_flow": null,
       "grid_area": null,
       "grid_auto_columns": null,
       "grid_auto_flow": null,
       "grid_auto_rows": null,
       "grid_column": null,
       "grid_gap": null,
       "grid_row": null,
       "grid_template_areas": null,
       "grid_template_columns": null,
       "grid_template_rows": null,
       "height": null,
       "justify_content": null,
       "justify_items": null,
       "left": null,
       "margin": null,
       "max_height": null,
       "max_width": null,
       "min_height": null,
       "min_width": null,
       "object_fit": null,
       "object_position": null,
       "order": null,
       "overflow": null,
       "overflow_x": null,
       "overflow_y": null,
       "padding": null,
       "right": null,
       "top": null,
       "visibility": null,
       "width": null
      }
     },
     "905cb33a58b54887b998fbee55941701": {
      "model_module": "@jupyter-widgets/controls",
      "model_module_version": "1.5.0",
      "model_name": "ProgressStyleModel",
      "state": {
       "_model_module": "@jupyter-widgets/controls",
       "_model_module_version": "1.5.0",
       "_model_name": "ProgressStyleModel",
       "_view_count": null,
       "_view_module": "@jupyter-widgets/base",
       "_view_module_version": "1.2.0",
       "_view_name": "StyleView",
       "bar_color": null,
       "description_width": "initial"
      }
     },
     "b916cecf277945c48f6e609039f2b626": {
      "model_module": "@jupyter-widgets/base",
      "model_module_version": "1.2.0",
      "model_name": "LayoutModel",
      "state": {
       "_model_module": "@jupyter-widgets/base",
       "_model_module_version": "1.2.0",
       "_model_name": "LayoutModel",
       "_view_count": null,
       "_view_module": "@jupyter-widgets/base",
       "_view_module_version": "1.2.0",
       "_view_name": "LayoutView",
       "align_content": null,
       "align_items": null,
       "align_self": null,
       "border": null,
       "bottom": null,
       "display": null,
       "flex": null,
       "flex_flow": null,
       "grid_area": null,
       "grid_auto_columns": null,
       "grid_auto_flow": null,
       "grid_auto_rows": null,
       "grid_column": null,
       "grid_gap": null,
       "grid_row": null,
       "grid_template_areas": null,
       "grid_template_columns": null,
       "grid_template_rows": null,
       "height": null,
       "justify_content": null,
       "justify_items": null,
       "left": null,
       "margin": null,
       "max_height": null,
       "max_width": null,
       "min_height": null,
       "min_width": null,
       "object_fit": null,
       "object_position": null,
       "order": null,
       "overflow": null,
       "overflow_x": null,
       "overflow_y": null,
       "padding": null,
       "right": null,
       "top": null,
       "visibility": null,
       "width": null
      }
     },
     "c0647b8e875a4ccc9c3358c38968ff86": {
      "model_module": "@jupyter-widgets/base",
      "model_module_version": "1.2.0",
      "model_name": "LayoutModel",
      "state": {
       "_model_module": "@jupyter-widgets/base",
       "_model_module_version": "1.2.0",
       "_model_name": "LayoutModel",
       "_view_count": null,
       "_view_module": "@jupyter-widgets/base",
       "_view_module_version": "1.2.0",
       "_view_name": "LayoutView",
       "align_content": null,
       "align_items": null,
       "align_self": null,
       "border": null,
       "bottom": null,
       "display": null,
       "flex": null,
       "flex_flow": null,
       "grid_area": null,
       "grid_auto_columns": null,
       "grid_auto_flow": null,
       "grid_auto_rows": null,
       "grid_column": null,
       "grid_gap": null,
       "grid_row": null,
       "grid_template_areas": null,
       "grid_template_columns": null,
       "grid_template_rows": null,
       "height": null,
       "justify_content": null,
       "justify_items": null,
       "left": null,
       "margin": null,
       "max_height": null,
       "max_width": null,
       "min_height": null,
       "min_width": null,
       "object_fit": null,
       "object_position": null,
       "order": null,
       "overflow": null,
       "overflow_x": null,
       "overflow_y": null,
       "padding": null,
       "right": null,
       "top": null,
       "visibility": null,
       "width": null
      }
     },
     "fe56a347dce0404d847a4fb3c92f9731": {
      "model_module": "@jupyter-widgets/controls",
      "model_module_version": "1.5.0",
      "model_name": "HTMLModel",
      "state": {
       "_dom_classes": [],
       "_model_module": "@jupyter-widgets/controls",
       "_model_module_version": "1.5.0",
       "_model_name": "HTMLModel",
       "_view_count": null,
       "_view_module": "@jupyter-widgets/controls",
       "_view_module_version": "1.5.0",
       "_view_name": "HTMLView",
       "description": "",
       "description_tooltip": null,
       "layout": "IPY_MODEL_1e3503603b9340db994f09168f0b0130",
       "placeholder": "​",
       "style": "IPY_MODEL_5717637b247d4e829c86ce2122afb508",
       "value": " 363M/363M [00:29&lt;00:00, 12.2MB/s]"
      }
     }
    },
    "version_major": 2,
    "version_minor": 0
   }
  }
 },
 "nbformat": 4,
 "nbformat_minor": 4
}
