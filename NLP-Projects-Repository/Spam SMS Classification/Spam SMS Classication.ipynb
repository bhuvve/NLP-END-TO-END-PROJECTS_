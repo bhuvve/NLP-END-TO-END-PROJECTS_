{
  "nbformat": 4,
  "nbformat_minor": 0,
  "metadata": {
    "colab": {
      "name": "Spam SMS Classication.ipynb",
      "provenance": [],
      "collapsed_sections": [],
      "toc_visible": true
    },
    "kernelspec": {
      "display_name": "Python 3",
      "language": "python",
      "name": "python3"
    },
    "language_info": {
      "codemirror_mode": {
        "name": "ipython",
        "version": 3
      },
      "file_extension": ".py",
      "mimetype": "text/x-python",
      "name": "python",
      "nbconvert_exporter": "python",
      "pygments_lexer": "ipython3",
      "version": "3.7.4"
    }
  },
  "cells": [
    {
      "cell_type": "code",
      "metadata": {
        "colab_type": "code",
        "id": "CuLTKUtDkeNy",
        "colab": {}
      },
      "source": [
        "# Importing essential libraries\n",
        "import numpy as np\n",
        "import pandas as pd"
      ],
      "execution_count": 1,
      "outputs": []
    },
    {
      "cell_type": "code",
      "metadata": {
        "colab_type": "code",
        "id": "-JugX3xqksdz",
        "colab": {}
      },
      "source": [
        "# Loading the dataset\n",
        "df = pd.read_csv('Spam SMS Collection', sep='\\t', names=['label', 'message'])"
      ],
      "execution_count": 2,
      "outputs": []
    },
    {
      "cell_type": "markdown",
      "metadata": {
        "colab_type": "text",
        "id": "1Rkt2A1-lLmU"
      },
      "source": [
        "# **Exploratory Data Analysis (EDA)**\n",
        "* Exploring NaN values in dataset\n",
        "* Plotting countplots for Spam vs. Ham\n",
        "\n"
      ]
    },
    {
      "cell_type": "code",
      "metadata": {
        "colab_type": "code",
        "id": "tzna42NelFhk",
        "colab": {
          "base_uri": "https://localhost:8080/",
          "height": 34
        },
        "outputId": "0ce03feb-a0ad-4b97-8792-a8713ad9819e"
      },
      "source": [
        "df.shape"
      ],
      "execution_count": 3,
      "outputs": [
        {
          "output_type": "execute_result",
          "data": {
            "text/plain": [
              "(5572, 2)"
            ]
          },
          "metadata": {
            "tags": []
          },
          "execution_count": 3
        }
      ]
    },
    {
      "cell_type": "code",
      "metadata": {
        "colab_type": "code",
        "id": "6sBEdM7LlDIw",
        "colab": {
          "base_uri": "https://localhost:8080/",
          "height": 34
        },
        "outputId": "fdc9465d-8206-4d23-d608-88de76fdb362"
      },
      "source": [
        "df.columns"
      ],
      "execution_count": 4,
      "outputs": [
        {
          "output_type": "execute_result",
          "data": {
            "text/plain": [
              "Index(['label', 'message'], dtype='object')"
            ]
          },
          "metadata": {
            "tags": []
          },
          "execution_count": 4
        }
      ]
    },
    {
      "cell_type": "code",
      "metadata": {
        "id": "D2Y-K4vTBFtI",
        "colab_type": "code",
        "colab": {
          "base_uri": "https://localhost:8080/",
          "height": 70
        },
        "outputId": "7163c3f4-8cad-477e-85cd-65bf4d658298"
      },
      "source": [
        "df.dtypes"
      ],
      "execution_count": 5,
      "outputs": [
        {
          "output_type": "execute_result",
          "data": {
            "text/plain": [
              "label      object\n",
              "message    object\n",
              "dtype: object"
            ]
          },
          "metadata": {
            "tags": []
          },
          "execution_count": 5
        }
      ]
    },
    {
      "cell_type": "code",
      "metadata": {
        "colab_type": "code",
        "id": "qcTIhSlRlHrb",
        "colab": {
          "base_uri": "https://localhost:8080/",
          "height": 197
        },
        "outputId": "e4eaf79e-ed78-439e-a8c1-6db0852e222b"
      },
      "source": [
        "df.head()"
      ],
      "execution_count": 6,
      "outputs": [
        {
          "output_type": "execute_result",
          "data": {
            "text/html": [
              "<div>\n",
              "<style scoped>\n",
              "    .dataframe tbody tr th:only-of-type {\n",
              "        vertical-align: middle;\n",
              "    }\n",
              "\n",
              "    .dataframe tbody tr th {\n",
              "        vertical-align: top;\n",
              "    }\n",
              "\n",
              "    .dataframe thead th {\n",
              "        text-align: right;\n",
              "    }\n",
              "</style>\n",
              "<table border=\"1\" class=\"dataframe\">\n",
              "  <thead>\n",
              "    <tr style=\"text-align: right;\">\n",
              "      <th></th>\n",
              "      <th>label</th>\n",
              "      <th>message</th>\n",
              "    </tr>\n",
              "  </thead>\n",
              "  <tbody>\n",
              "    <tr>\n",
              "      <th>0</th>\n",
              "      <td>ham</td>\n",
              "      <td>Go until jurong point, crazy.. Available only ...</td>\n",
              "    </tr>\n",
              "    <tr>\n",
              "      <th>1</th>\n",
              "      <td>ham</td>\n",
              "      <td>Ok lar... Joking wif u oni...</td>\n",
              "    </tr>\n",
              "    <tr>\n",
              "      <th>2</th>\n",
              "      <td>spam</td>\n",
              "      <td>Free entry in 2 a wkly comp to win FA Cup fina...</td>\n",
              "    </tr>\n",
              "    <tr>\n",
              "      <th>3</th>\n",
              "      <td>ham</td>\n",
              "      <td>U dun say so early hor... U c already then say...</td>\n",
              "    </tr>\n",
              "    <tr>\n",
              "      <th>4</th>\n",
              "      <td>ham</td>\n",
              "      <td>Nah I don't think he goes to usf, he lives aro...</td>\n",
              "    </tr>\n",
              "  </tbody>\n",
              "</table>\n",
              "</div>"
            ],
            "text/plain": [
              "  label                                            message\n",
              "0   ham  Go until jurong point, crazy.. Available only ...\n",
              "1   ham                      Ok lar... Joking wif u oni...\n",
              "2  spam  Free entry in 2 a wkly comp to win FA Cup fina...\n",
              "3   ham  U dun say so early hor... U c already then say...\n",
              "4   ham  Nah I don't think he goes to usf, he lives aro..."
            ]
          },
          "metadata": {
            "tags": []
          },
          "execution_count": 6
        }
      ]
    },
    {
      "cell_type": "code",
      "metadata": {
        "id": "ZF5n2VL8J1wC",
        "colab_type": "code",
        "colab": {
          "base_uri": "https://localhost:8080/",
          "height": 197
        },
        "outputId": "24564d19-39da-4fa0-a3cb-0e3f4cad41a0"
      },
      "source": [
        "df.tail()"
      ],
      "execution_count": 7,
      "outputs": [
        {
          "output_type": "execute_result",
          "data": {
            "text/html": [
              "<div>\n",
              "<style scoped>\n",
              "    .dataframe tbody tr th:only-of-type {\n",
              "        vertical-align: middle;\n",
              "    }\n",
              "\n",
              "    .dataframe tbody tr th {\n",
              "        vertical-align: top;\n",
              "    }\n",
              "\n",
              "    .dataframe thead th {\n",
              "        text-align: right;\n",
              "    }\n",
              "</style>\n",
              "<table border=\"1\" class=\"dataframe\">\n",
              "  <thead>\n",
              "    <tr style=\"text-align: right;\">\n",
              "      <th></th>\n",
              "      <th>label</th>\n",
              "      <th>message</th>\n",
              "    </tr>\n",
              "  </thead>\n",
              "  <tbody>\n",
              "    <tr>\n",
              "      <th>5567</th>\n",
              "      <td>spam</td>\n",
              "      <td>This is the 2nd time we have tried 2 contact u...</td>\n",
              "    </tr>\n",
              "    <tr>\n",
              "      <th>5568</th>\n",
              "      <td>ham</td>\n",
              "      <td>Will ü b going to esplanade fr home?</td>\n",
              "    </tr>\n",
              "    <tr>\n",
              "      <th>5569</th>\n",
              "      <td>ham</td>\n",
              "      <td>Pity, * was in mood for that. So...any other s...</td>\n",
              "    </tr>\n",
              "    <tr>\n",
              "      <th>5570</th>\n",
              "      <td>ham</td>\n",
              "      <td>The guy did some bitching but I acted like i'd...</td>\n",
              "    </tr>\n",
              "    <tr>\n",
              "      <th>5571</th>\n",
              "      <td>ham</td>\n",
              "      <td>Rofl. Its true to its name</td>\n",
              "    </tr>\n",
              "  </tbody>\n",
              "</table>\n",
              "</div>"
            ],
            "text/plain": [
              "     label                                            message\n",
              "5567  spam  This is the 2nd time we have tried 2 contact u...\n",
              "5568   ham               Will ü b going to esplanade fr home?\n",
              "5569   ham  Pity, * was in mood for that. So...any other s...\n",
              "5570   ham  The guy did some bitching but I acted like i'd...\n",
              "5571   ham                         Rofl. Its true to its name"
            ]
          },
          "metadata": {
            "tags": []
          },
          "execution_count": 7
        }
      ]
    },
    {
      "cell_type": "code",
      "metadata": {
        "id": "KjBi50n3BJk_",
        "colab_type": "code",
        "colab": {
          "base_uri": "https://localhost:8080/",
          "height": 176
        },
        "outputId": "020bef5f-0eae-4645-e05c-55650c16bcdc"
      },
      "source": [
        "df.info()"
      ],
      "execution_count": 8,
      "outputs": [
        {
          "output_type": "stream",
          "text": [
            "<class 'pandas.core.frame.DataFrame'>\n",
            "RangeIndex: 5572 entries, 0 to 5571\n",
            "Data columns (total 2 columns):\n",
            " #   Column   Non-Null Count  Dtype \n",
            "---  ------   --------------  ----- \n",
            " 0   label    5572 non-null   object\n",
            " 1   message  5572 non-null   object\n",
            "dtypes: object(2)\n",
            "memory usage: 87.2+ KB\n"
          ],
          "name": "stdout"
        }
      ]
    },
    {
      "cell_type": "code",
      "metadata": {
        "id": "Ipncn2wWGnCR",
        "colab_type": "code",
        "colab": {
          "base_uri": "https://localhost:8080/",
          "height": 167
        },
        "outputId": "46d1d29b-73a3-4205-a2ce-4ceba8b1d63b"
      },
      "source": [
        "df.describe(include='object')"
      ],
      "execution_count": 9,
      "outputs": [
        {
          "output_type": "execute_result",
          "data": {
            "text/html": [
              "<div>\n",
              "<style scoped>\n",
              "    .dataframe tbody tr th:only-of-type {\n",
              "        vertical-align: middle;\n",
              "    }\n",
              "\n",
              "    .dataframe tbody tr th {\n",
              "        vertical-align: top;\n",
              "    }\n",
              "\n",
              "    .dataframe thead th {\n",
              "        text-align: right;\n",
              "    }\n",
              "</style>\n",
              "<table border=\"1\" class=\"dataframe\">\n",
              "  <thead>\n",
              "    <tr style=\"text-align: right;\">\n",
              "      <th></th>\n",
              "      <th>label</th>\n",
              "      <th>message</th>\n",
              "    </tr>\n",
              "  </thead>\n",
              "  <tbody>\n",
              "    <tr>\n",
              "      <th>count</th>\n",
              "      <td>5572</td>\n",
              "      <td>5572</td>\n",
              "    </tr>\n",
              "    <tr>\n",
              "      <th>unique</th>\n",
              "      <td>2</td>\n",
              "      <td>5169</td>\n",
              "    </tr>\n",
              "    <tr>\n",
              "      <th>top</th>\n",
              "      <td>ham</td>\n",
              "      <td>Sorry, I'll call later</td>\n",
              "    </tr>\n",
              "    <tr>\n",
              "      <th>freq</th>\n",
              "      <td>4825</td>\n",
              "      <td>30</td>\n",
              "    </tr>\n",
              "  </tbody>\n",
              "</table>\n",
              "</div>"
            ],
            "text/plain": [
              "       label                 message\n",
              "count   5572                    5572\n",
              "unique     2                    5169\n",
              "top      ham  Sorry, I'll call later\n",
              "freq    4825                      30"
            ]
          },
          "metadata": {
            "tags": []
          },
          "execution_count": 9
        }
      ]
    },
    {
      "cell_type": "markdown",
      "metadata": {
        "id": "RI-zu8fXBQoc",
        "colab_type": "text"
      },
      "source": [
        "_**Note: No NaN values** in the dataset._"
      ]
    },
    {
      "cell_type": "code",
      "metadata": {
        "id": "8NpIBm-GJWJ6",
        "colab_type": "code",
        "colab": {}
      },
      "source": [
        "# Mapping values for label\n",
        "df['label'] = df['label'].map({'ham': 0, 'spam': 1})"
      ],
      "execution_count": 10,
      "outputs": []
    },
    {
      "cell_type": "code",
      "metadata": {
        "id": "fJzlOdnuJsIw",
        "colab_type": "code",
        "colab": {
          "base_uri": "https://localhost:8080/",
          "height": 197
        },
        "outputId": "7f4706d7-2e70-4d90-fd02-170b96b0d2a7"
      },
      "source": [
        "df.head()"
      ],
      "execution_count": 11,
      "outputs": [
        {
          "output_type": "execute_result",
          "data": {
            "text/html": [
              "<div>\n",
              "<style scoped>\n",
              "    .dataframe tbody tr th:only-of-type {\n",
              "        vertical-align: middle;\n",
              "    }\n",
              "\n",
              "    .dataframe tbody tr th {\n",
              "        vertical-align: top;\n",
              "    }\n",
              "\n",
              "    .dataframe thead th {\n",
              "        text-align: right;\n",
              "    }\n",
              "</style>\n",
              "<table border=\"1\" class=\"dataframe\">\n",
              "  <thead>\n",
              "    <tr style=\"text-align: right;\">\n",
              "      <th></th>\n",
              "      <th>label</th>\n",
              "      <th>message</th>\n",
              "    </tr>\n",
              "  </thead>\n",
              "  <tbody>\n",
              "    <tr>\n",
              "      <th>0</th>\n",
              "      <td>0</td>\n",
              "      <td>Go until jurong point, crazy.. Available only ...</td>\n",
              "    </tr>\n",
              "    <tr>\n",
              "      <th>1</th>\n",
              "      <td>0</td>\n",
              "      <td>Ok lar... Joking wif u oni...</td>\n",
              "    </tr>\n",
              "    <tr>\n",
              "      <th>2</th>\n",
              "      <td>1</td>\n",
              "      <td>Free entry in 2 a wkly comp to win FA Cup fina...</td>\n",
              "    </tr>\n",
              "    <tr>\n",
              "      <th>3</th>\n",
              "      <td>0</td>\n",
              "      <td>U dun say so early hor... U c already then say...</td>\n",
              "    </tr>\n",
              "    <tr>\n",
              "      <th>4</th>\n",
              "      <td>0</td>\n",
              "      <td>Nah I don't think he goes to usf, he lives aro...</td>\n",
              "    </tr>\n",
              "  </tbody>\n",
              "</table>\n",
              "</div>"
            ],
            "text/plain": [
              "   label                                            message\n",
              "0      0  Go until jurong point, crazy.. Available only ...\n",
              "1      0                      Ok lar... Joking wif u oni...\n",
              "2      1  Free entry in 2 a wkly comp to win FA Cup fina...\n",
              "3      0  U dun say so early hor... U c already then say...\n",
              "4      0  Nah I don't think he goes to usf, he lives aro..."
            ]
          },
          "metadata": {
            "tags": []
          },
          "execution_count": 11
        }
      ]
    },
    {
      "cell_type": "code",
      "metadata": {
        "id": "noXpzSrQJ465",
        "colab_type": "code",
        "colab": {
          "base_uri": "https://localhost:8080/",
          "height": 197
        },
        "outputId": "e788cdf1-1c78-4a6b-e08b-ce581b933334"
      },
      "source": [
        "df.tail()"
      ],
      "execution_count": 12,
      "outputs": [
        {
          "output_type": "execute_result",
          "data": {
            "text/html": [
              "<div>\n",
              "<style scoped>\n",
              "    .dataframe tbody tr th:only-of-type {\n",
              "        vertical-align: middle;\n",
              "    }\n",
              "\n",
              "    .dataframe tbody tr th {\n",
              "        vertical-align: top;\n",
              "    }\n",
              "\n",
              "    .dataframe thead th {\n",
              "        text-align: right;\n",
              "    }\n",
              "</style>\n",
              "<table border=\"1\" class=\"dataframe\">\n",
              "  <thead>\n",
              "    <tr style=\"text-align: right;\">\n",
              "      <th></th>\n",
              "      <th>label</th>\n",
              "      <th>message</th>\n",
              "    </tr>\n",
              "  </thead>\n",
              "  <tbody>\n",
              "    <tr>\n",
              "      <th>5567</th>\n",
              "      <td>1</td>\n",
              "      <td>This is the 2nd time we have tried 2 contact u...</td>\n",
              "    </tr>\n",
              "    <tr>\n",
              "      <th>5568</th>\n",
              "      <td>0</td>\n",
              "      <td>Will ü b going to esplanade fr home?</td>\n",
              "    </tr>\n",
              "    <tr>\n",
              "      <th>5569</th>\n",
              "      <td>0</td>\n",
              "      <td>Pity, * was in mood for that. So...any other s...</td>\n",
              "    </tr>\n",
              "    <tr>\n",
              "      <th>5570</th>\n",
              "      <td>0</td>\n",
              "      <td>The guy did some bitching but I acted like i'd...</td>\n",
              "    </tr>\n",
              "    <tr>\n",
              "      <th>5571</th>\n",
              "      <td>0</td>\n",
              "      <td>Rofl. Its true to its name</td>\n",
              "    </tr>\n",
              "  </tbody>\n",
              "</table>\n",
              "</div>"
            ],
            "text/plain": [
              "      label                                            message\n",
              "5567      1  This is the 2nd time we have tried 2 contact u...\n",
              "5568      0               Will ü b going to esplanade fr home?\n",
              "5569      0  Pity, * was in mood for that. So...any other s...\n",
              "5570      0  The guy did some bitching but I acted like i'd...\n",
              "5571      0                         Rofl. Its true to its name"
            ]
          },
          "metadata": {
            "tags": []
          },
          "execution_count": 12
        }
      ]
    },
    {
      "cell_type": "code",
      "metadata": {
        "colab_type": "code",
        "id": "HRy7PIlClJiT",
        "colab": {
          "base_uri": "https://localhost:8080/",
          "height": 72
        },
        "outputId": "59684f57-6c04-472c-d188-c61f3960d4c1"
      },
      "source": [
        "# Importing essential libraries for visualization\n",
        "import matplotlib.pyplot as plt\n",
        "import seaborn as sns\n",
        "%matplotlib inline"
      ],
      "execution_count": 13,
      "outputs": [
        {
          "output_type": "stream",
          "text": [
            "/usr/local/lib/python3.6/dist-packages/statsmodels/tools/_testing.py:19: FutureWarning: pandas.util.testing is deprecated. Use the functions in the public API at pandas.testing instead.\n",
            "  import pandas.util.testing as tm\n"
          ],
          "name": "stderr"
        }
      ]
    },
    {
      "cell_type": "code",
      "metadata": {
        "colab_type": "code",
        "id": "Xpzp7cqdljhd",
        "colab": {
          "base_uri": "https://localhost:8080/",
          "height": 513
        },
        "outputId": "545c2957-b82c-4ef9-bbe7-c66dd215eb88"
      },
      "source": [
        "# Countplot for Spam vs. Ham as imbalanced dataset\n",
        "plt.figure(figsize=(8,8))\n",
        "g = sns.countplot(x='label', data=df)\n",
        "p = plt.title('Countplot for Spam vs. Ham as imbalanced dataset')\n",
        "p = plt.xlabel('Is SMS Spam?')\n",
        "p = plt.ylabel('Count')"
      ],
      "execution_count": 14,
      "outputs": [
        {
          "output_type": "display_data",
          "data": {
            "image/png": "[encoded data removed]",
            "text/plain": [
              "<Figure size 576x576 with 1 Axes>"
            ]
          },
          "metadata": {
            "tags": [],
            "needs_background": "light"
          }
        }
      ]
    },
    {
      "cell_type": "markdown",
      "metadata": {
        "id": "CzNro4H9_Qb3",
        "colab_type": "text"
      },
      "source": [
        "_**Insight:** From the above countplot, it is evident that the **dataset is imbalanced**._"
      ]
    },
    {
      "cell_type": "markdown",
      "metadata": {
        "id": "19UoPYemgITc",
        "colab_type": "text"
      },
      "source": [
        "# **Feature Engineering**\n",
        "*   Handling imbalanced dataset using Oversampling\n",
        "*   Creating new features e.g. word_count, contains_currency_symbol, contains_numbers, etc.\n",
        "\n"
      ]
    },
    {
      "cell_type": "code",
      "metadata": {
        "id": "YUjh1AFEgOab",
        "colab_type": "code",
        "colab": {
          "base_uri": "https://localhost:8080/",
          "height": 52
        },
        "outputId": "81a5d752-67eb-4a3d-b8d7-b678c84c9edc"
      },
      "source": [
        "# Handling imbalanced dataset using Oversampling\n",
        "only_spam = df[df['label']==1]\n",
        "print('Number of Spam records: {}'.format(only_spam.shape[0]))\n",
        "print('Number of Ham records: {}'.format(df.shape[0]-only_spam.shape[0]))"
      ],
      "execution_count": 15,
      "outputs": [
        {
          "output_type": "stream",
          "text": [
            "Number of Spam records: 747\n",
            "Number of Ham records: 4825\n"
          ],
          "name": "stdout"
        }
      ]
    },
    {
      "cell_type": "code",
      "metadata": {
        "id": "EPMQ8YDJgOWH",
        "colab_type": "code",
        "colab": {
          "base_uri": "https://localhost:8080/",
          "height": 34
        },
        "outputId": "70cf892d-3753-4322-e7bc-2afee6bfaf04"
      },
      "source": [
        "count = int((df.shape[0]-only_spam.shape[0])/only_spam.shape[0])\n",
        "for i in range(0, count-1):\n",
        "  df = pd.concat([df, only_spam])\n",
        "\n",
        "df.shape"
      ],
      "execution_count": 16,
      "outputs": [
        {
          "output_type": "execute_result",
          "data": {
            "text/plain": [
              "(9307, 2)"
            ]
          },
          "metadata": {
            "tags": []
          },
          "execution_count": 16
        }
      ]
    },
    {
      "cell_type": "code",
      "metadata": {
        "id": "oKgIDjAbMsdT",
        "colab_type": "code",
        "colab": {
          "base_uri": "https://localhost:8080/",
          "height": 513
        },
        "outputId": "d8f933eb-91fb-4592-d87b-12356e432388"
      },
      "source": [
        "# Countplot for Spam vs. Ham as balanced dataset\n",
        "plt.figure(figsize=(8,8))\n",
        "g = sns.countplot(x='label', data=df)\n",
        "p = plt.title('Countplot for Spam vs. Ham as balanced dataset')\n",
        "p = plt.xlabel('Is SMS Spam?')\n",
        "p = plt.ylabel('Count')"
      ],
      "execution_count": 17,
      "outputs": [
        {
          "output_type": "display_data",
          "data": {
            "image/png": "[encoded data removed]",
            "text/plain": [
              "<Figure size 576x576 with 1 Axes>"
            ]
          },
          "metadata": {
            "tags": [],
            "needs_background": "light"
          }
        }
      ]
    },
    {
      "cell_type": "code",
      "metadata": {
        "id": "BGyIBoY4NICC",
        "colab_type": "code",
        "colab": {}
      },
      "source": [
        "# Creating new feature word_count\n",
        "df['word_count'] = df['message'].apply(lambda x: len(x.split()))"
      ],
      "execution_count": 18,
      "outputs": []
    },
    {
      "cell_type": "code",
      "metadata": {
        "id": "Dx2yYqZAU3xj",
        "colab_type": "code",
        "colab": {
          "base_uri": "https://localhost:8080/",
          "height": 197
        },
        "outputId": "8b1ba000-261e-45c3-9e76-2bbe2e1f84b3"
      },
      "source": [
        "df.head()"
      ],
      "execution_count": 19,
      "outputs": [
        {
          "output_type": "execute_result",
          "data": {
            "text/html": [
              "<div>\n",
              "<style scoped>\n",
              "    .dataframe tbody tr th:only-of-type {\n",
              "        vertical-align: middle;\n",
              "    }\n",
              "\n",
              "    .dataframe tbody tr th {\n",
              "        vertical-align: top;\n",
              "    }\n",
              "\n",
              "    .dataframe thead th {\n",
              "        text-align: right;\n",
              "    }\n",
              "</style>\n",
              "<table border=\"1\" class=\"dataframe\">\n",
              "  <thead>\n",
              "    <tr style=\"text-align: right;\">\n",
              "      <th></th>\n",
              "      <th>label</th>\n",
              "      <th>message</th>\n",
              "      <th>word_count</th>\n",
              "    </tr>\n",
              "  </thead>\n",
              "  <tbody>\n",
              "    <tr>\n",
              "      <th>0</th>\n",
              "      <td>0</td>\n",
              "      <td>Go until jurong point, crazy.. Available only ...</td>\n",
              "      <td>20</td>\n",
              "    </tr>\n",
              "    <tr>\n",
              "      <th>1</th>\n",
              "      <td>0</td>\n",
              "      <td>Ok lar... Joking wif u oni...</td>\n",
              "      <td>6</td>\n",
              "    </tr>\n",
              "    <tr>\n",
              "      <th>2</th>\n",
              "      <td>1</td>\n",
              "      <td>Free entry in 2 a wkly comp to win FA Cup fina...</td>\n",
              "      <td>28</td>\n",
              "    </tr>\n",
              "    <tr>\n",
              "      <th>3</th>\n",
              "      <td>0</td>\n",
              "      <td>U dun say so early hor... U c already then say...</td>\n",
              "      <td>11</td>\n",
              "    </tr>\n",
              "    <tr>\n",
              "      <th>4</th>\n",
              "      <td>0</td>\n",
              "      <td>Nah I don't think he goes to usf, he lives aro...</td>\n",
              "      <td>13</td>\n",
              "    </tr>\n",
              "  </tbody>\n",
              "</table>\n",
              "</div>"
            ],
            "text/plain": [
              "   label                                            message  word_count\n",
              "0      0  Go until jurong point, crazy.. Available only ...          20\n",
              "1      0                      Ok lar... Joking wif u oni...           6\n",
              "2      1  Free entry in 2 a wkly comp to win FA Cup fina...          28\n",
              "3      0  U dun say so early hor... U c already then say...          11\n",
              "4      0  Nah I don't think he goes to usf, he lives aro...          13"
            ]
          },
          "metadata": {
            "tags": []
          },
          "execution_count": 19
        }
      ]
    },
    {
      "cell_type": "code",
      "metadata": {
        "id": "dRdACe8cONu9",
        "colab_type": "code",
        "colab": {
          "base_uri": "https://localhost:8080/",
          "height": 441
        },
        "outputId": "6c2c4f54-213d-4a4c-a2e9-4c591df177b9"
      },
      "source": [
        "plt.figure(figsize=(12, 6))\n",
        "\n",
        "# 1-row, 2-column, go to the first subplot\n",
        "plt.subplot(1, 2, 1)\n",
        "g = sns.distplot(a=df[df['label']==0].word_count)\n",
        "p = plt.title('Distribution of word_count for Ham messages')\n",
        "\n",
        "# 1-row, 2-column, go to the second subplot\n",
        "plt.subplot(1, 2, 2)\n",
        "g = sns.distplot(a=df[df['label']==1].word_count, color='red')\n",
        "p = plt.title('Distribution of word_count for Spam messages')\n",
        "\n",
        "plt.tight_layout()\n",
        "plt.show()"
      ],
      "execution_count": 20,
      "outputs": [
        {
          "output_type": "display_data",
          "data": {
            "image/png": "[encoded data removed]",
            "text/plain": [
              "<Figure size 864x432 with 2 Axes>"
            ]
          },
          "metadata": {
            "tags": [],
            "needs_background": "light"
          }
        }
      ]
    },
    {
      "cell_type": "markdown",
      "metadata": {
        "id": "aCAT3fDHQKmr",
        "colab_type": "text"
      },
      "source": [
        "_**Insight:** **Spam messages** word_count fall in the range of **15-30 words**, whereas majority of the **Ham messages** fall in the range of **below 25 words**._"
      ]
    },
    {
      "cell_type": "code",
      "metadata": {
        "id": "Bxntzd8jSEDE",
        "colab_type": "code",
        "colab": {}
      },
      "source": [
        "# Creating feature contains_currency_symbol\n",
        "def currency(x):\n",
        "  currency_symbols = ['€', '$', '¥', '£', '₹']\n",
        "  for i in currency_symbols:\n",
        "    if i in x:\n",
        "      return 1\n",
        "  return 0\n",
        "\n",
        "df['contains_currency_symbol'] = df['message'].apply(currency)"
      ],
      "execution_count": 21,
      "outputs": []
    },
    {
      "cell_type": "code",
      "metadata": {
        "id": "7lBLNtDiUlDM",
        "colab_type": "code",
        "colab": {
          "base_uri": "https://localhost:8080/",
          "height": 197
        },
        "outputId": "d3967e1a-2f42-46e4-8eda-ed7dd139bdea"
      },
      "source": [
        "df.tail()"
      ],
      "execution_count": 22,
      "outputs": [
        {
          "output_type": "execute_result",
          "data": {
            "text/html": [
              "<div>\n",
              "<style scoped>\n",
              "    .dataframe tbody tr th:only-of-type {\n",
              "        vertical-align: middle;\n",
              "    }\n",
              "\n",
              "    .dataframe tbody tr th {\n",
              "        vertical-align: top;\n",
              "    }\n",
              "\n",
              "    .dataframe thead th {\n",
              "        text-align: right;\n",
              "    }\n",
              "</style>\n",
              "<table border=\"1\" class=\"dataframe\">\n",
              "  <thead>\n",
              "    <tr style=\"text-align: right;\">\n",
              "      <th></th>\n",
              "      <th>label</th>\n",
              "      <th>message</th>\n",
              "      <th>word_count</th>\n",
              "      <th>contains_currency_symbol</th>\n",
              "    </tr>\n",
              "  </thead>\n",
              "  <tbody>\n",
              "    <tr>\n",
              "      <th>5537</th>\n",
              "      <td>1</td>\n",
              "      <td>Want explicit SEX in 30 secs? Ring 02073162414...</td>\n",
              "      <td>16</td>\n",
              "      <td>0</td>\n",
              "    </tr>\n",
              "    <tr>\n",
              "      <th>5540</th>\n",
              "      <td>1</td>\n",
              "      <td>ASKED 3MOBILE IF 0870 CHATLINES INCLU IN FREE ...</td>\n",
              "      <td>33</td>\n",
              "      <td>1</td>\n",
              "    </tr>\n",
              "    <tr>\n",
              "      <th>5547</th>\n",
              "      <td>1</td>\n",
              "      <td>Had your contract mobile 11 Mnths? Latest Moto...</td>\n",
              "      <td>28</td>\n",
              "      <td>0</td>\n",
              "    </tr>\n",
              "    <tr>\n",
              "      <th>5566</th>\n",
              "      <td>1</td>\n",
              "      <td>REMINDER FROM O2: To get 2.50 pounds free call...</td>\n",
              "      <td>28</td>\n",
              "      <td>0</td>\n",
              "    </tr>\n",
              "    <tr>\n",
              "      <th>5567</th>\n",
              "      <td>1</td>\n",
              "      <td>This is the 2nd time we have tried 2 contact u...</td>\n",
              "      <td>30</td>\n",
              "      <td>1</td>\n",
              "    </tr>\n",
              "  </tbody>\n",
              "</table>\n",
              "</div>"
            ],
            "text/plain": [
              "      label  ... contains_currency_symbol\n",
              "5537      1  ...                        0\n",
              "5540      1  ...                        1\n",
              "5547      1  ...                        0\n",
              "5566      1  ...                        0\n",
              "5567      1  ...                        1\n",
              "\n",
              "[5 rows x 4 columns]"
            ]
          },
          "metadata": {
            "tags": []
          },
          "execution_count": 22
        }
      ]
    },
    {
      "cell_type": "code",
      "metadata": {
        "id": "YMZcauWZYHKV",
        "colab_type": "code",
        "colab": {
          "base_uri": "https://localhost:8080/",
          "height": 513
        },
        "outputId": "feeb320f-f57e-43de-aa4c-2693bf0c867a"
      },
      "source": [
        "# Countplot for contains_currency_symbol\n",
        "plt.figure(figsize=(8,8))\n",
        "g = sns.countplot(x='contains_currency_symbol', data=df, hue='label')\n",
        "p = plt.title('Countplot for contain_currency')\n",
        "p = plt.xlabel('Does SMS contain currency symbol?')\n",
        "p = plt.ylabel('Count')\n",
        "p = plt.legend(labels=['Ham', 'Spam'], loc=9)"
      ],
      "execution_count": 23,
      "outputs": [
        {
          "output_type": "display_data",
          "data": {
            "image/png": "[encoded data removed]",
            "text/plain": [
              "<Figure size 576x576 with 1 Axes>"
            ]
          },
          "metadata": {
            "tags": [],
            "needs_background": "light"
          }
        }
      ]
    },
    {
      "cell_type": "markdown",
      "metadata": {
        "id": "w-fLzXMsYY2N",
        "colab_type": "text"
      },
      "source": [
        "_**Insight: Almost 1/3 of Spam messages contain currency symbols**, and currency symbols are **rarely used in Ham messages.**_"
      ]
    },
    {
      "cell_type": "code",
      "metadata": {
        "id": "OqgKvMkTVCJL",
        "colab_type": "code",
        "colab": {}
      },
      "source": [
        "# Creating feature contains_number\n",
        "def numbers(x):\n",
        "  for i in x:\n",
        "    if ord(i)>=48 and ord(i)<=57:\n",
        "      return 1\n",
        "  return 0\n",
        "\n",
        "df['contains_number'] = df['message'].apply(numbers)"
      ],
      "execution_count": 24,
      "outputs": []
    },
    {
      "cell_type": "code",
      "metadata": {
        "id": "dLrxUfDsVmgj",
        "colab_type": "code",
        "colab": {
          "base_uri": "https://localhost:8080/",
          "height": 197
        },
        "outputId": "f178fcc1-3cba-49a8-ccc7-290bd6b87282"
      },
      "source": [
        "df.head()"
      ],
      "execution_count": 25,
      "outputs": [
        {
          "output_type": "execute_result",
          "data": {
            "text/html": [
              "<div>\n",
              "<style scoped>\n",
              "    .dataframe tbody tr th:only-of-type {\n",
              "        vertical-align: middle;\n",
              "    }\n",
              "\n",
              "    .dataframe tbody tr th {\n",
              "        vertical-align: top;\n",
              "    }\n",
              "\n",
              "    .dataframe thead th {\n",
              "        text-align: right;\n",
              "    }\n",
              "</style>\n",
              "<table border=\"1\" class=\"dataframe\">\n",
              "  <thead>\n",
              "    <tr style=\"text-align: right;\">\n",
              "      <th></th>\n",
              "      <th>label</th>\n",
              "      <th>message</th>\n",
              "      <th>word_count</th>\n",
              "      <th>contains_currency_symbol</th>\n",
              "      <th>contains_number</th>\n",
              "    </tr>\n",
              "  </thead>\n",
              "  <tbody>\n",
              "    <tr>\n",
              "      <th>0</th>\n",
              "      <td>0</td>\n",
              "      <td>Go until jurong point, crazy.. Available only ...</td>\n",
              "      <td>20</td>\n",
              "      <td>0</td>\n",
              "      <td>0</td>\n",
              "    </tr>\n",
              "    <tr>\n",
              "      <th>1</th>\n",
              "      <td>0</td>\n",
              "      <td>Ok lar... Joking wif u oni...</td>\n",
              "      <td>6</td>\n",
              "      <td>0</td>\n",
              "      <td>0</td>\n",
              "    </tr>\n",
              "    <tr>\n",
              "      <th>2</th>\n",
              "      <td>1</td>\n",
              "      <td>Free entry in 2 a wkly comp to win FA Cup fina...</td>\n",
              "      <td>28</td>\n",
              "      <td>0</td>\n",
              "      <td>1</td>\n",
              "    </tr>\n",
              "    <tr>\n",
              "      <th>3</th>\n",
              "      <td>0</td>\n",
              "      <td>U dun say so early hor... U c already then say...</td>\n",
              "      <td>11</td>\n",
              "      <td>0</td>\n",
              "      <td>0</td>\n",
              "    </tr>\n",
              "    <tr>\n",
              "      <th>4</th>\n",
              "      <td>0</td>\n",
              "      <td>Nah I don't think he goes to usf, he lives aro...</td>\n",
              "      <td>13</td>\n",
              "      <td>0</td>\n",
              "      <td>0</td>\n",
              "    </tr>\n",
              "  </tbody>\n",
              "</table>\n",
              "</div>"
            ],
            "text/plain": [
              "   label  ... contains_number\n",
              "0      0  ...               0\n",
              "1      0  ...               0\n",
              "2      1  ...               1\n",
              "3      0  ...               0\n",
              "4      0  ...               0\n",
              "\n",
              "[5 rows x 5 columns]"
            ]
          },
          "metadata": {
            "tags": []
          },
          "execution_count": 25
        }
      ]
    },
    {
      "cell_type": "code",
      "metadata": {
        "id": "SylEzeOlV0Kj",
        "colab_type": "code",
        "colab": {
          "base_uri": "https://localhost:8080/",
          "height": 513
        },
        "outputId": "e4b2752a-f85c-427e-b541-0675d0642a53"
      },
      "source": [
        "# Countplot for contains_number\n",
        "plt.figure(figsize=(8,8))\n",
        "g = sns.countplot(x='contains_number', data=df, hue='label')\n",
        "p = plt.title('Countplot for contain_numbers')\n",
        "p = plt.xlabel('Does SMS contain number?')\n",
        "p = plt.ylabel('Count')\n",
        "p = plt.legend(labels=['Ham', 'Spam'], loc=9)"
      ],
      "execution_count": 26,
      "outputs": [
        {
          "output_type": "display_data",
          "data": {
            "image/png": "[encoded data removed]",
            "text/plain": [
              "<Figure size 576x576 with 1 Axes>"
            ]
          },
          "metadata": {
            "tags": [],
            "needs_background": "light"
          }
        }
      ]
    },
    {
      "cell_type": "markdown",
      "metadata": {
        "id": "fJTf9Z9GXKfN",
        "colab_type": "text"
      },
      "source": [
        "_**Insight:** It is evident that **most of the Spam messages contain numbers,** and **majority of the Ham messages donot contain numbers.**_"
      ]
    },
    {
      "cell_type": "markdown",
      "metadata": {
        "colab_type": "text",
        "id": "uLCtNBBQnRDR"
      },
      "source": [
        "# **Data Cleaning**\n",
        "* Removing special character and numbers using regular expression\n",
        "* Converting the entire sms into lower case\n",
        "* Tokenizing the sms by words\n",
        "* Removing the stop words\n",
        "* Lemmatizing the words\n",
        "* Joining the lemmatized words\n",
        "* Building a corpus of messages"
      ]
    },
    {
      "cell_type": "code",
      "metadata": {
        "colab_type": "code",
        "id": "d2IlhceAnQb7",
        "colab": {
          "base_uri": "https://localhost:8080/",
          "height": 87
        },
        "outputId": "b313713d-3b6e-438d-9a70-a8ed996f75c0"
      },
      "source": [
        "# Importing essential libraries for performing NLP\n",
        "import nltk\n",
        "import re\n",
        "nltk.download('stopwords')\n",
        "nltk.download('wordnet')\n",
        "from nltk.corpus import stopwords\n",
        "from nltk.stem import WordNetLemmatizer"
      ],
      "execution_count": 27,
      "outputs": [
        {
          "output_type": "stream",
          "text": [
            "[nltk_data] Downloading package stopwords to /root/nltk_data...\n",
            "[nltk_data]   Package stopwords is already up-to-date!\n",
            "[nltk_data] Downloading package wordnet to /root/nltk_data...\n",
            "[nltk_data]   Package wordnet is already up-to-date!\n"
          ],
          "name": "stdout"
        }
      ]
    },
    {
      "cell_type": "code",
      "metadata": {
        "colab_type": "code",
        "id": "GBzPDWYglyeS",
        "colab": {}
      },
      "source": [
        "# Cleaning the messages\n",
        "corpus = []\n",
        "wnl = WordNetLemmatizer()\n",
        "\n",
        "for sms_string in list(df.message):\n",
        "\n",
        "  # Cleaning special character from the sms\n",
        "  message = re.sub(pattern='[^a-zA-Z]', repl=' ', string=sms_string)\n",
        "\n",
        "  # Converting the entire sms into lower case\n",
        "  message = message.lower()\n",
        "\n",
        "  # Tokenizing the sms by words\n",
        "  words = message.split()\n",
        "\n",
        "  # Removing the stop words\n",
        "  filtered_words = [word for word in words if word not in set(stopwords.words('english'))]\n",
        "\n",
        "  # Lemmatizing the words\n",
        "  lemmatized_words = [wnl.lemmatize(word) for word in filtered_words]\n",
        "\n",
        "  # Joining the lemmatized words\n",
        "  message = ' '.join(lemmatized_words)\n",
        "\n",
        "  # Building a corpus of messages\n",
        "  corpus.append(message)"
      ],
      "execution_count": 28,
      "outputs": []
    },
    {
      "cell_type": "code",
      "metadata": {
        "colab_type": "code",
        "id": "u-qBfMYzpyoS",
        "colab": {
          "base_uri": "https://localhost:8080/",
          "height": 70
        },
        "outputId": "a19c2945-92cf-4dea-a7fe-9b5744a7d2aa"
      },
      "source": [
        "corpus[0:3]"
      ],
      "execution_count": 29,
      "outputs": [
        {
          "output_type": "execute_result",
          "data": {
            "text/plain": [
              "['go jurong point crazy available bugis n great world la e buffet cine got amore wat',\n",
              " 'ok lar joking wif u oni',\n",
              " 'free entry wkly comp win fa cup final tkts st may text fa receive entry question std txt rate c apply']"
            ]
          },
          "metadata": {
            "tags": []
          },
          "execution_count": 29
        }
      ]
    },
    {
      "cell_type": "code",
      "metadata": {
        "colab_type": "code",
        "id": "XDL2Jfcbp6hi",
        "colab": {}
      },
      "source": [
        "# Creating the Bag of Words model\n",
        "from sklearn.feature_extraction.text import TfidfVectorizer\n",
        "tfidf = TfidfVectorizer(max_features=500)\n",
        "vectors = tfidf.fit_transform(corpus).toarray()\n",
        "feature_names = tfidf.get_feature_names()\n",
        "\n",
        "# Extracting independent and dependent variables from the dataset\n",
        "X = pd.DataFrame(vectors, columns=feature_names)\n",
        "y = df['label']"
      ],
      "execution_count": 30,
      "outputs": []
    },
    {
      "cell_type": "markdown",
      "metadata": {
        "colab_type": "text",
        "id": "yvo6cT8rrKas"
      },
      "source": [
        "# **Model Building & Evaluation**\n",
        "_**Metric: F1-Score**_\n",
        "\n",
        "* Multiomail Naive Bayes: 0.943\n",
        "* Decision Tree: 0.98\n",
        "* **Random Forest (Ensemble): 0.994**\n",
        "* Voting (Multinomial Naive Bayes + Decision Tree): 0.98\n"
      ]
    },
    {
      "cell_type": "code",
      "metadata": {
        "id": "-GI83Ie5SEak",
        "colab_type": "code",
        "colab": {}
      },
      "source": [
        "from sklearn.model_selection import cross_val_score\n",
        "from sklearn.metrics import classification_report, confusion_matrix\n",
        "from sklearn.model_selection import train_test_split"
      ],
      "execution_count": 31,
      "outputs": []
    },
    {
      "cell_type": "code",
      "metadata": {
        "id": "kMzc9nvtUgMk",
        "colab_type": "code",
        "colab": {}
      },
      "source": [
        "X_train, X_test, y_train, y_test = train_test_split(X, y, test_size=0.2, random_state=42)"
      ],
      "execution_count": 32,
      "outputs": []
    },
    {
      "cell_type": "code",
      "metadata": {
        "colab_type": "code",
        "id": "ZsqsZ6OorYHq",
        "colab": {
          "base_uri": "https://localhost:8080/",
          "height": 52
        },
        "outputId": "7f89c8c2-656e-44f8-ebc3-2a1ed55bd188"
      },
      "source": [
        "# Fitting Naive Bayes to the Training set\n",
        "from sklearn.naive_bayes import MultinomialNB\n",
        "mnb = MultinomialNB()\n",
        "cv = cross_val_score(mnb, X, y, scoring='f1', cv=10)\n",
        "print('--- Average F1-Score for MNB model: {} ---'.format(round(cv.mean(), 3)))\n",
        "print('Standard Deviation: {}'.format(round(cv.std(), 3)))"
      ],
      "execution_count": 33,
      "outputs": [
        {
          "output_type": "stream",
          "text": [
            "--- Average F1-Score for MNB model: 0.943 ---\n",
            "Standard Deviation: 0.004\n"
          ],
          "name": "stdout"
        }
      ]
    },
    {
      "cell_type": "code",
      "metadata": {
        "colab_type": "code",
        "id": "INb9wkThW45r",
        "colab": {
          "base_uri": "https://localhost:8080/",
          "height": 194
        },
        "outputId": "26122edc-5dd8-47af-9a96-89ca68b69196"
      },
      "source": [
        "# Classification report for MNB model\n",
        "mnb = MultinomialNB()\n",
        "mnb.fit(X_train, y_train)\n",
        "y_pred = mnb.predict(X_test)\n",
        "\n",
        "print('--- Classification report for MNB model ---')\n",
        "print(classification_report(y_test, y_pred))"
      ],
      "execution_count": 34,
      "outputs": [
        {
          "output_type": "stream",
          "text": [
            "--- Classification report for MNB model ---\n",
            "              precision    recall  f1-score   support\n",
            "\n",
            "           0       0.94      0.94      0.94       959\n",
            "           1       0.94      0.94      0.94       903\n",
            "\n",
            "    accuracy                           0.94      1862\n",
            "   macro avg       0.94      0.94      0.94      1862\n",
            "weighted avg       0.94      0.94      0.94      1862\n",
            "\n"
          ],
          "name": "stdout"
        }
      ]
    },
    {
      "cell_type": "code",
      "metadata": {
        "id": "5bjAauN_XMNN",
        "colab_type": "code",
        "colab": {
          "base_uri": "https://localhost:8080/",
          "height": 350
        },
        "outputId": "50f1f3dc-45b6-4a68-cec4-9039ab4a791b"
      },
      "source": [
        "# Confusion matrix of MNB model\n",
        "cm = confusion_matrix(y_test, y_pred)\n",
        "\n",
        "plt.figure(figsize=(8,5))\n",
        "axis_labels = ['ham', 'spam']\n",
        "g = sns.heatmap(data=cm, annot=True, cmap=\"Blues\", xticklabels=axis_labels, yticklabels=axis_labels, fmt='g', cbar_kws={\"shrink\": 0.5})\n",
        "p = plt.xlabel('Actual values')\n",
        "p = plt.ylabel('Predicted values')\n",
        "p = plt.title('--- Confusion Matrix for Multinomial Naive Bayes model ---')"
      ],
      "execution_count": 35,
      "outputs": [
        {
          "output_type": "display_data",
          "data": {
            "image/png": "[encoded data removed]",
            "text/plain": [
              "<Figure size 576x360 with 2 Axes>"
            ]
          },
          "metadata": {
            "tags": [],
            "needs_background": "light"
          }
        }
      ]
    },
    {
      "cell_type": "code",
      "metadata": {
        "id": "rhkwwq3Hb-M-",
        "colab_type": "code",
        "colab": {
          "base_uri": "https://localhost:8080/",
          "height": 52
        },
        "outputId": "bd40ba18-8911-422d-fd09-ac1a33881f42"
      },
      "source": [
        "# Fitting Random Forest to the Training set\n",
        "from sklearn.tree import DecisionTreeClassifier\n",
        "dt = DecisionTreeClassifier()\n",
        "cv = cross_val_score(dt, X, y, scoring='f1', cv=10)\n",
        "print('--- Average F1-Score for Decision Tree model: {} ---'.format(round(cv.mean(), 3)))\n",
        "print('Standard Deviation: {}'.format(round(cv.std(), 3)))"
      ],
      "execution_count": 36,
      "outputs": [
        {
          "output_type": "stream",
          "text": [
            "--- Average F1-Score for Decision Tree model: 0.98 ---\n",
            "Standard Deviation: 0.004\n"
          ],
          "name": "stdout"
        }
      ]
    },
    {
      "cell_type": "code",
      "metadata": {
        "id": "uFB2qr6YchC-",
        "colab_type": "code",
        "colab": {
          "base_uri": "https://localhost:8080/",
          "height": 194
        },
        "outputId": "ccb32627-16f4-4fab-e276-0e7b9ab1085b"
      },
      "source": [
        "# Classification report for Decision Tree model\n",
        "dt = DecisionTreeClassifier()\n",
        "dt.fit(X_train, y_train)\n",
        "y_pred = dt.predict(X_test)\n",
        "\n",
        "print('--- Classification report for Decision Tree model ---')\n",
        "print(classification_report(y_test, y_pred))"
      ],
      "execution_count": 37,
      "outputs": [
        {
          "output_type": "stream",
          "text": [
            "--- Classification report for Decision Tree model ---\n",
            "              precision    recall  f1-score   support\n",
            "\n",
            "           0       1.00      0.97      0.98       959\n",
            "           1       0.97      1.00      0.98       903\n",
            "\n",
            "    accuracy                           0.98      1862\n",
            "   macro avg       0.98      0.98      0.98      1862\n",
            "weighted avg       0.98      0.98      0.98      1862\n",
            "\n"
          ],
          "name": "stdout"
        }
      ]
    },
    {
      "cell_type": "code",
      "metadata": {
        "id": "vcNIfLAMc_cN",
        "colab_type": "code",
        "colab": {
          "base_uri": "https://localhost:8080/",
          "height": 350
        },
        "outputId": "9815c4bb-fb7a-40e4-b0b1-5cebb5b89f4a"
      },
      "source": [
        "# Confusion matrix of Decision Tree model\n",
        "cm = confusion_matrix(y_test, y_pred)\n",
        "\n",
        "plt.figure(figsize=(8,5))\n",
        "axis_labels = ['ham', 'spam']\n",
        "g = sns.heatmap(data=cm, annot=True, cmap=\"Blues\", xticklabels=axis_labels, yticklabels=axis_labels, fmt='g', cbar_kws={\"shrink\": 0.5})\n",
        "p = plt.xlabel('Actual values')\n",
        "p = plt.ylabel('Predicted values')\n",
        "p = plt.title('--- Confusion Matrix for Decision Tree model ---')"
      ],
      "execution_count": 38,
      "outputs": [
        {
          "output_type": "display_data",
          "data": {
            "image/png": "[encoded data removed]",
            "text/plain": [
              "<Figure size 576x360 with 2 Axes>"
            ]
          },
          "metadata": {
            "tags": [],
            "needs_background": "light"
          }
        }
      ]
    },
    {
      "cell_type": "code",
      "metadata": {
        "id": "kOuy-BaLSqd5",
        "colab_type": "code",
        "colab": {
          "base_uri": "https://localhost:8080/",
          "height": 52
        },
        "outputId": "95e0b838-2b7e-47ef-cc72-ed8cf1800a77"
      },
      "source": [
        "# Fitting Random Forest to the Training set\n",
        "from sklearn.ensemble import RandomForestClassifier\n",
        "rf = RandomForestClassifier(n_estimators=10)\n",
        "cv = cross_val_score(rf, X, y, scoring='f1', cv=10)\n",
        "print('--- Average F1-Score for Random Forest model: {} ---'.format(round(cv.mean(), 3)))\n",
        "print('Standard Deviation: {}'.format(round(cv.std(), 3)))"
      ],
      "execution_count": 39,
      "outputs": [
        {
          "output_type": "stream",
          "text": [
            "--- Average F1-Score for Random Forest model: 0.994 ---\n",
            "Standard Deviation: 0.003\n"
          ],
          "name": "stdout"
        }
      ]
    },
    {
      "cell_type": "code",
      "metadata": {
        "colab_type": "code",
        "id": "F02lOVivsrna",
        "colab": {
          "base_uri": "https://localhost:8080/",
          "height": 194
        },
        "outputId": "b22f7c39-fac6-44ce-882e-26be51c5cae2"
      },
      "source": [
        "# Classification report for Random Forest model\n",
        "rf = RandomForestClassifier(n_estimators=20)\n",
        "rf.fit(X_train, y_train)\n",
        "y_pred = rf.predict(X_test)\n",
        "\n",
        "print('--- Classification report for Random Forest model ---')\n",
        "print(classification_report(y_test, y_pred))"
      ],
      "execution_count": 40,
      "outputs": [
        {
          "output_type": "stream",
          "text": [
            "--- Classification report for Random Forest model ---\n",
            "              precision    recall  f1-score   support\n",
            "\n",
            "           0       1.00      0.99      0.99       959\n",
            "           1       0.99      1.00      0.99       903\n",
            "\n",
            "    accuracy                           0.99      1862\n",
            "   macro avg       0.99      0.99      0.99      1862\n",
            "weighted avg       0.99      0.99      0.99      1862\n",
            "\n"
          ],
          "name": "stdout"
        }
      ]
    },
    {
      "cell_type": "code",
      "metadata": {
        "id": "Q-UL5fUSWL_N",
        "colab_type": "code",
        "colab": {
          "base_uri": "https://localhost:8080/",
          "height": 350
        },
        "outputId": "9864a1ba-0a6d-45e1-d934-b09acacc602b"
      },
      "source": [
        "# Confusion matrix of Random Forest model\n",
        "cm = confusion_matrix(y_test, y_pred)\n",
        "\n",
        "plt.figure(figsize=(8,5))\n",
        "axis_labels = ['ham', 'spam']\n",
        "g = sns.heatmap(data=cm, annot=True, cmap=\"Blues\", xticklabels=axis_labels, yticklabels=axis_labels, fmt='g', cbar_kws={\"shrink\": 0.5})\n",
        "p = plt.xlabel('Actual values')\n",
        "p = plt.ylabel('Predicted values')\n",
        "p = plt.title('--- Confusion Matrix for Random Forest model ---')"
      ],
      "execution_count": 41,
      "outputs": [
        {
          "output_type": "display_data",
          "data": {
            "image/png": "[encoded data removed]",
            "text/plain": [
              "<Figure size 576x360 with 2 Axes>"
            ]
          },
          "metadata": {
            "tags": [],
            "needs_background": "light"
          }
        }
      ]
    },
    {
      "cell_type": "markdown",
      "metadata": {
        "id": "ySKNOiwaop3f",
        "colab_type": "text"
      },
      "source": [
        "_**Note:** Decision Tree & MNB algorithms are selected and fed to Voting algorithm to increase the F1-Score!_"
      ]
    },
    {
      "cell_type": "code",
      "metadata": {
        "id": "scx5eN7TaE3V",
        "colab_type": "code",
        "colab": {
          "base_uri": "https://localhost:8080/",
          "height": 52
        },
        "outputId": "f5f90bcb-f538-487a-9521-783aac3540a3"
      },
      "source": [
        "# Fitting Decision Tree and MNB to VotingClassifier\n",
        "from sklearn.ensemble import VotingClassifier\n",
        "vc = VotingClassifier([('decision_tree', dt), ('m_naive_bayes', mnb)], weights=[2,1])\n",
        "cv = cross_val_score(vc, X, y, cv=10, scoring='f1')\n",
        "\n",
        "print('--- Average F1-Score for VotingClassifier model: {} ---'.format(round(cv.mean(), 3)))\n",
        "print('Standard Deviation: {}'.format(round(cv.std(), 3)))"
      ],
      "execution_count": 42,
      "outputs": [
        {
          "output_type": "stream",
          "text": [
            "--- Average F1-Score for VotingClassifier model: 0.98 ---\n",
            "Standard Deviation: 0.003\n"
          ],
          "name": "stdout"
        }
      ]
    },
    {
      "cell_type": "markdown",
      "metadata": {
        "id": "Cy6K6Ps0oKnq",
        "colab_type": "text"
      },
      "source": [
        "_**Note:** Voting algorithm did not out-perform Random Forest algorithm, hence **Random Forest algorithm is selected for predicting the results of this problem statement.**_\n"
      ]
    },
    {
      "cell_type": "markdown",
      "metadata": {
        "colab_type": "text",
        "id": "LAtjiTWSuaYD"
      },
      "source": [
        "# **Making Predictions**"
      ]
    },
    {
      "cell_type": "code",
      "metadata": {
        "colab_type": "code",
        "id": "culehxsLuZ0a",
        "colab": {}
      },
      "source": [
        "def predict_spam(sample_message):\n",
        "  sample_message = re.sub(pattern='[^a-zA-Z]',repl=' ', string = sample_message)\n",
        "  sample_message = sample_message.lower()\n",
        "  sample_message_words = sample_message.split()\n",
        "  sample_message_words = [word for word in sample_message_words if not word in set(stopwords.words('english'))]\n",
        "  final_message = [wnl.lemmatize(word) for word in sample_message_words]\n",
        "  final_message = ' '.join(final_message)\n",
        "\n",
        "  temp = tfidf.transform([final_message]).toarray()\n",
        "  return rf.predict(temp)"
      ],
      "execution_count": 43,
      "outputs": []
    },
    {
      "cell_type": "code",
      "metadata": {
        "colab_type": "code",
        "id": "QzJJjG8fu7OI",
        "colab": {
          "base_uri": "https://localhost:8080/",
          "height": 34
        },
        "outputId": "4af7897b-034b-4beb-85b0-3d199f285039"
      },
      "source": [
        "# Prediction 1 - Lottery text message\n",
        "sample_message = 'IMPORTANT - You could be entitled up to £3,160 in compensation from mis-sold PPI on a credit card or loan. Please reply PPI for info or STOP to opt out.'\n",
        "\n",
        "if predict_spam(sample_message):\n",
        "  print('Gotcha! This is a SPAM message.')\n",
        "else:\n",
        "  print('This is a HAM (normal) message.')"
      ],
      "execution_count": 44,
      "outputs": [
        {
          "output_type": "stream",
          "text": [
            "Gotcha! This is a SPAM message.\n"
          ],
          "name": "stdout"
        }
      ]
    },
    {
      "cell_type": "code",
      "metadata": {
        "colab_type": "code",
        "id": "Wl4QRloavhNa",
        "colab": {
          "base_uri": "https://localhost:8080/",
          "height": 34
        },
        "outputId": "6d2bf1e6-975c-46ee-8c8b-5758dec130bd"
      },
      "source": [
        "# Prediction 2 - Casual text chat\n",
        "sample_message = 'Came to think of it. I have never got a spam message before.'\n",
        "\n",
        "if predict_spam(sample_message):\n",
        "  print('Gotcha! This is a SPAM message.')\n",
        "else:\n",
        "  print('This is a HAM (normal) message.')"
      ],
      "execution_count": 45,
      "outputs": [
        {
          "output_type": "stream",
          "text": [
            "This is a HAM (normal) message.\n"
          ],
          "name": "stdout"
        }
      ]
    },
    {
      "cell_type": "code",
      "metadata": {
        "id": "b3y7O714gAu3",
        "colab_type": "code",
        "colab": {
          "base_uri": "https://localhost:8080/",
          "height": 34
        },
        "outputId": "35a741d8-16b6-4350-ebf6-22093d050f73"
      },
      "source": [
        "# Prediction 3 - Transaction confirmation text message\n",
        "sample_message = 'Sam, your rent payment for Jan 19 has been received. $1,300 will be drafted from your Wells Fargo Account ******0000 within 24-48 business hours. Thank you!'\n",
        "\n",
        "if predict_spam(sample_message):\n",
        "  print('Gotcha! This is a SPAM message.')\n",
        "else:\n",
        "  print('This is a HAM (normal) message.')"
      ],
      "execution_count": 46,
      "outputs": [
        {
          "output_type": "stream",
          "text": [
            "This is a HAM (normal) message.\n"
          ],
          "name": "stdout"
        }
      ]
    },
    {
      "cell_type": "code",
      "metadata": {
        "id": "5Qa7U43sh4__",
        "colab_type": "code",
        "colab": {
          "base_uri": "https://localhost:8080/",
          "height": 34
        },
        "outputId": "5a07d8e3-68c9-4d38-c292-e0abec5a8b62"
      },
      "source": [
        "# Predicting values 4 - Feedback message\n",
        "sample_message = 'Tammy, thanks for choosing Carl’s Car Wash for your express polish. We would love to hear your thoughts on the service. Feel free to text back with any feedback. Safe driving!'\n",
        "\n",
        "if predict_spam(sample_message):\n",
        "  print('Gotcha! This is a SPAM message.')\n",
        "else:\n",
        "  print('This is a HAM (normal) message.')"
      ],
      "execution_count": 47,
      "outputs": [
        {
          "output_type": "stream",
          "text": [
            "Gotcha! This is a SPAM message.\n"
          ],
          "name": "stdout"
        }
      ]
    }
  ]
}