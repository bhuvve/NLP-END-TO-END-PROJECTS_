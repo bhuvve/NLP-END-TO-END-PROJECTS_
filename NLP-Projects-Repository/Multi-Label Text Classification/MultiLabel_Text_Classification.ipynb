{
  "nbformat": 4,
  "nbformat_minor": 0,
  "metadata": {
    "colab": {
      "name": "MultiLabel_Text_Classification.ipynb",
      "provenance": [],
      "collapsed_sections": []
    },
    "kernelspec": {
      "name": "python3",
      "display_name": "Python 3"
    },
    "accelerator": "GPU"
  },
  "cells": [
    {
      "cell_type": "code",
      "metadata": {
        "id": "7SLye4qomujs",
        "colab_type": "code",
        "colab": {}
      },
      "source": [
        "from google.colab import drive\n",
        "drive.mount('/content/gdrive')"
      ],
      "execution_count": null,
      "outputs": []
    },
    {
      "cell_type": "code",
      "metadata": {
        "id": "u7LnWSmCrtg6",
        "colab_type": "code",
        "colab": {}
      },
      "source": [
        "from sklearn.preprocessing import MultiLabelBinarizer\n",
        "from sklearn.feature_extraction.text import TfidfVectorizer\n",
        "from sklearn.model_selection import train_test_split\n",
        "from sklearn.linear_model import SGDClassifier\n",
        "from sklearn.linear_model import LogisticRegression\n",
        "from sklearn.multiclass import OneVsRestClassifier\n",
        "from sklearn.svm import SVC\n",
        "import pandas as pd\n",
        "import numpy as np\n",
        "import ast"
      ],
      "execution_count": 1,
      "outputs": []
    },
    {
      "cell_type": "code",
      "metadata": {
        "id": "MuwZzqe8r9cF",
        "colab_type": "code",
        "colab": {}
      },
      "source": [
        "df = pd.read_csv('/content/gdrive/My Drive/stackoverflow.csv', index_col=0) "
      ],
      "execution_count": 2,
      "outputs": []
    },
    {
      "cell_type": "code",
      "metadata": {
        "id": "64Qnw-Xrsfnz",
        "colab_type": "code",
        "colab": {}
      },
      "source": [
        "df['Tags'] = df['Tags'].apply(lambda x: ast.literal_eval(x)) #converting 'TAGS' column to list of different categories"
      ],
      "execution_count": 3,
      "outputs": []
    },
    {
      "cell_type": "code",
      "metadata": {
        "id": "uFgKtOuIshoY",
        "colab_type": "code",
        "colab": {}
      },
      "source": [
        "binarizer = MultiLabelBinarizer()"
      ],
      "execution_count": 4,
      "outputs": []
    },
    {
      "cell_type": "code",
      "metadata": {
        "id": "ln0k03ipxUzH",
        "colab_type": "code",
        "colab": {}
      },
      "source": [
        "y = binarizer.fit_transform(df['Tags'])"
      ],
      "execution_count": 5,
      "outputs": []
    },
    {
      "cell_type": "code",
      "metadata": {
        "id": "HO32PWOfzz7n",
        "colab_type": "code",
        "colab": {}
      },
      "source": [
        "tfidf = TfidfVectorizer(max_features=5000, analyzer='word', ngram_range=(1,2), stop_words='english')\n",
        "X = tfidf.fit_transform(df['Text'])"
      ],
      "execution_count": 12,
      "outputs": []
    },
    {
      "cell_type": "code",
      "metadata": {
        "id": "A6V0C12Y02rY",
        "colab_type": "code",
        "colab": {}
      },
      "source": [
        "x_train, x_test, y_train, y_test = train_test_split(X, y, test_size=0.2, random_state=42)"
      ],
      "execution_count": 13,
      "outputs": []
    },
    {
      "cell_type": "markdown",
      "metadata": {
        "id": "q1W6ZP9P2APA",
        "colab_type": "text"
      },
      "source": [
        "**MODELLING**"
      ]
    },
    {
      "cell_type": "code",
      "metadata": {
        "id": "8u0Qy8ZD2Crf",
        "colab_type": "code",
        "colab": {}
      },
      "source": [
        "sgd = SGDClassifier()\n",
        "logistic_regression = LogisticRegression(solver='lbfgs')\n",
        "svc = SVC()"
      ],
      "execution_count": 8,
      "outputs": []
    },
    {
      "cell_type": "code",
      "metadata": {
        "id": "bEbAxh9T31Eo",
        "colab_type": "code",
        "colab": {}
      },
      "source": [
        "def jacard_score(y_true, y_pred):\n",
        "    jacard = np.minimum(y_true, y_pred).sum(axis=1)/np.maximum(y_true, y_pred).sum(axis=1)\n",
        "    return round(jacard.mean()*100, 2)\n",
        "\n",
        "def display_score(y_pred, clf):\n",
        "    print('[INFO] Classifier: {}'.format(clf.__class__.__name__))\n",
        "    print('[INFO] Jacard score: {}'.format(jacard_score(y_test, y_pred)))\n",
        "    print()"
      ],
      "execution_count": 9,
      "outputs": []
    },
    {
      "cell_type": "code",
      "metadata": {
        "id": "YVbGXhTx2lBE",
        "colab_type": "code",
        "colab": {
          "base_uri": "https://localhost:8080/",
          "height": 121
        },
        "outputId": "04048ee2-6c8b-466a-cb31-acf78cef0429"
      },
      "source": [
        "for classifier in [sgd, logistic_regression]:\n",
        "    clf = OneVsRestClassifier(classifier)\n",
        "    clf.fit(x_train, y_train)\n",
        "    y_pred = clf.predict(x_test)\n",
        "    display_score(y_pred, classifier)"
      ],
      "execution_count": 14,
      "outputs": [
        {
          "output_type": "stream",
          "text": [
            "[INFO] Classifier: SGDClassifier\n",
            "[INFO] Jacard score: 52.32\n",
            "\n",
            "[INFO] Classifier: LogisticRegression\n",
            "[INFO] Jacard score: 51.86\n",
            "\n"
          ],
          "name": "stdout"
        }
      ]
    },
    {
      "cell_type": "markdown",
      "metadata": {
        "id": "Mp_SS5y959uM",
        "colab_type": "text"
      },
      "source": [
        "**Model Testing**"
      ]
    },
    {
      "cell_type": "code",
      "metadata": {
        "id": "1nt-dKly6ALn",
        "colab_type": "code",
        "colab": {
          "base_uri": "https://localhost:8080/",
          "height": 34
        },
        "outputId": "03995154-7a26-4f0b-91cc-5a62071d71b7"
      },
      "source": [
        "test = ['how to use opencv libraries in java like we use in python']\n",
        "x = tfidf.transform(test)\n",
        "pred = clf.predict(x)\n",
        "binarizer.inverse_transform(pred)"
      ],
      "execution_count": 15,
      "outputs": [
        {
          "output_type": "execute_result",
          "data": {
            "text/plain": [
              "[('java', 'python')]"
            ]
          },
          "metadata": {
            "tags": []
          },
          "execution_count": 15
        }
      ]
    },
    {
      "cell_type": "code",
      "metadata": {
        "id": "AyQgyMeL8zcI",
        "colab_type": "code",
        "colab": {}
      },
      "source": [
        ""
      ],
      "execution_count": null,
      "outputs": []
    }
  ]
}