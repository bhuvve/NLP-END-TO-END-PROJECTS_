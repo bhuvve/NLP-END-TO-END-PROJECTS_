{
  "nbformat": 4,
  "nbformat_minor": 0,
  "metadata": {
    "colab": {
      "name": "Vectorization techniques.ipynb",
      "provenance": [],
      "collapsed_sections": []
    },
    "kernelspec": {
      "name": "python3",
      "display_name": "Python 3"
    },
    "language_info": {
      "name": "python"
    }
  },
  "cells": [
    {
      "cell_type": "markdown",
      "metadata": {
        "id": "ZjNxBugK07y6"
      },
      "source": [
        "###**Count Vectorization**"
      ]
    },
    {
      "cell_type": "code",
      "metadata": {
        "id": "Tyg-SgNtuGSy"
      },
      "source": [
        "from sklearn.feature_extraction.text import CountVectorizer"
      ],
      "execution_count": null,
      "outputs": []
    },
    {
      "cell_type": "code",
      "metadata": {
        "id": "GpMP0PWcuKtO"
      },
      "source": [
        "sample_text = [\n",
        "    'My name is Yash Kelkar',\n",
        "    'I am in my final year of graduation',\n",
        "    'I like to play video games',\n",
        "    'My favourite outdoor sport is badminton'\n",
        "]"
      ],
      "execution_count": null,
      "outputs": []
    },
    {
      "cell_type": "code",
      "metadata": {
        "colab": {
          "base_uri": "https://localhost:8080/"
        },
        "id": "Q_Au99N2uKoz",
        "outputId": "b012be5f-a112-434b-d5ff-f71cc5a52f81"
      },
      "source": [
        "cv = CountVectorizer()\n",
        "X = cv.fit_transform(sample_text)\n",
        "X = X.toarray()\n",
        "\n",
        "print(X.shape)\n",
        "print(X)"
      ],
      "execution_count": null,
      "outputs": [
        {
          "output_type": "stream",
          "text": [
            "(4, 20)\n",
            "[[0 0 0 0 0 0 0 1 1 0 1 1 0 0 0 0 0 0 1 0]\n",
            " [1 0 0 1 0 1 1 0 0 0 1 0 1 0 0 0 0 0 0 1]\n",
            " [0 0 0 0 1 0 0 0 0 1 0 0 0 0 1 0 1 1 0 0]\n",
            " [0 1 1 0 0 0 0 1 0 0 1 0 0 1 0 1 0 0 0 0]]\n"
          ],
          "name": "stdout"
        }
      ]
    },
    {
      "cell_type": "code",
      "metadata": {
        "colab": {
          "base_uri": "https://localhost:8080/"
        },
        "id": "oAt0PB4guKkK",
        "outputId": "b8e0b3c1-ac6c-4a07-c075-79f0041a6907"
      },
      "source": [
        "# all unique words in our docs\n",
        "cols = cv.get_feature_names()\n",
        "print(cols)"
      ],
      "execution_count": null,
      "outputs": [
        {
          "output_type": "stream",
          "text": [
            "['am', 'badminton', 'favourite', 'final', 'games', 'graduation', 'in', 'is', 'kelkar', 'like', 'my', 'name', 'of', 'outdoor', 'play', 'sport', 'to', 'video', 'yash', 'year']\n"
          ],
          "name": "stdout"
        }
      ]
    },
    {
      "cell_type": "markdown",
      "metadata": {
        "id": "iaD_BpXa3OpU"
      },
      "source": [
        "###**N-gram Vectorization**"
      ]
    },
    {
      "cell_type": "code",
      "metadata": {
        "colab": {
          "base_uri": "https://localhost:8080/"
        },
        "id": "tZWV75O10P4K",
        "outputId": "6a6c6bf7-a474-4dfb-cdf8-3eb2ee6e83ac"
      },
      "source": [
        "ngram = CountVectorizer(ngram_range=(1,3))\n",
        "X = ngram.fit_transform(sample_text)\n",
        "X = X.toarray()\n",
        "\n",
        "print(X.shape)\n",
        "print(X)"
      ],
      "execution_count": null,
      "outputs": [
        {
          "output_type": "stream",
          "text": [
            "(4, 54)\n",
            "[[0 0 0 0 0 0 0 0 0 0 0 0 0 0 0 1 0 1 1 1 0 0 0 1 0 0 0 0 1 1 1 1 1 0 0 0\n",
            "  0 0 0 0 0 0 0 0 0 0 0 0 0 1 1 0 0 0]\n",
            " [1 1 1 0 0 0 0 1 1 1 0 1 1 1 1 0 0 0 0 0 0 0 0 1 0 0 1 1 0 0 0 0 0 1 1 0\n",
            "  0 0 0 0 0 0 0 0 0 0 0 0 0 0 0 1 1 1]\n",
            " [0 0 0 0 0 0 0 0 0 0 1 0 0 0 0 0 0 0 0 0 1 1 1 0 0 0 0 0 0 0 0 0 0 0 0 0\n",
            "  0 0 1 1 1 0 0 0 1 1 1 1 1 0 0 0 0 0]\n",
            " [0 0 0 1 1 1 1 0 0 0 0 0 0 0 0 1 1 0 0 0 0 0 0 1 1 1 0 0 0 0 0 0 0 0 0 1\n",
            "  1 1 0 0 0 1 1 1 0 0 0 0 0 0 0 0 0 0]]\n"
          ],
          "name": "stdout"
        }
      ]
    },
    {
      "cell_type": "code",
      "metadata": {
        "colab": {
          "base_uri": "https://localhost:8080/"
        },
        "id": "CFA_CgLF3UZ1",
        "outputId": "23db8950-1f5c-4cd6-f5b0-1ae5d9c3e6ae"
      },
      "source": [
        "ngrams = ngram.get_feature_names()\n",
        "print(ngrams)"
      ],
      "execution_count": null,
      "outputs": [
        {
          "output_type": "stream",
          "text": [
            "['am', 'am in', 'am in my', 'badminton', 'favourite', 'favourite outdoor', 'favourite outdoor sport', 'final', 'final year', 'final year of', 'games', 'graduation', 'in', 'in my', 'in my final', 'is', 'is badminton', 'is yash', 'is yash kelkar', 'kelkar', 'like', 'like to', 'like to play', 'my', 'my favourite', 'my favourite outdoor', 'my final', 'my final year', 'my name', 'my name is', 'name', 'name is', 'name is yash', 'of', 'of graduation', 'outdoor', 'outdoor sport', 'outdoor sport is', 'play', 'play video', 'play video games', 'sport', 'sport is', 'sport is badminton', 'to', 'to play', 'to play video', 'video', 'video games', 'yash', 'yash kelkar', 'year', 'year of', 'year of graduation']\n"
          ],
          "name": "stdout"
        }
      ]
    },
    {
      "cell_type": "markdown",
      "metadata": {
        "id": "vIbfb9447l4s"
      },
      "source": [
        "###**TF-IDF Vectorization**"
      ]
    },
    {
      "cell_type": "code",
      "metadata": {
        "id": "UbNAIi8X3UVY"
      },
      "source": [
        "from sklearn.feature_extraction.text import TfidfVectorizer"
      ],
      "execution_count": null,
      "outputs": []
    },
    {
      "cell_type": "code",
      "metadata": {
        "colab": {
          "base_uri": "https://localhost:8080/"
        },
        "id": "2m2CQnSz3UTD",
        "outputId": "aad52491-17df-4cd1-dd2a-5f636b18fb1a"
      },
      "source": [
        "tfidf = TfidfVectorizer()\n",
        "X = tfidf.fit_transform(sample_text)\n",
        "X = X.toarray()\n",
        "\n",
        "print(X.shape)\n",
        "print(X)"
      ],
      "execution_count": null,
      "outputs": [
        {
          "output_type": "stream",
          "text": [
            "(4, 20)\n",
            "[[0.         0.         0.         0.         0.         0.\n",
            "  0.         0.39278432 0.49819711 0.         0.31799276 0.49819711\n",
            "  0.         0.         0.         0.         0.         0.\n",
            "  0.49819711 0.        ]\n",
            " [0.39505606 0.         0.         0.39505606 0.         0.39505606\n",
            "  0.39505606 0.         0.         0.         0.25215917 0.\n",
            "  0.39505606 0.         0.         0.         0.         0.\n",
            "  0.         0.39505606]\n",
            " [0.         0.         0.         0.         0.4472136  0.\n",
            "  0.         0.         0.         0.4472136  0.         0.\n",
            "  0.         0.         0.4472136  0.         0.4472136  0.4472136\n",
            "  0.         0.        ]\n",
            " [0.         0.44592216 0.44592216 0.         0.         0.\n",
            "  0.         0.35157015 0.         0.         0.28462634 0.\n",
            "  0.         0.44592216 0.         0.44592216 0.         0.\n",
            "  0.         0.        ]]\n"
          ],
          "name": "stdout"
        }
      ]
    },
    {
      "cell_type": "code",
      "metadata": {
        "colab": {
          "base_uri": "https://localhost:8080/"
        },
        "id": "As2qAZ8r76VQ",
        "outputId": "f7a4e5aa-ebee-47ea-e0b6-0c34575499a1"
      },
      "source": [
        "tfidf_unqiue_words = tfidf.get_feature_names()\n",
        "print(tfidf_unqiue_words)"
      ],
      "execution_count": null,
      "outputs": [
        {
          "output_type": "stream",
          "text": [
            "['am', 'badminton', 'favourite', 'final', 'games', 'graduation', 'in', 'is', 'kelkar', 'like', 'my', 'name', 'of', 'outdoor', 'play', 'sport', 'to', 'video', 'yash', 'year']\n"
          ],
          "name": "stdout"
        }
      ]
    },
    {
      "cell_type": "markdown",
      "metadata": {
        "id": "VfWKZD0-B2Ks"
      },
      "source": [
        "###**Word2Vec Vectorization**"
      ]
    },
    {
      "cell_type": "code",
      "metadata": {
        "id": "UpXBMhh_9DAv"
      },
      "source": [
        "from gensim.models import word2vec"
      ],
      "execution_count": null,
      "outputs": []
    },
    {
      "cell_type": "code",
      "metadata": {
        "id": "2Kjz1RlhB950"
      },
      "source": [
        "for i, sentence in enumerate(sample_text):\n",
        "\ttokenized= []\n",
        "\tfor word in sentence.split(' '):\n",
        "\t\tword = word.split('.')[0]\n",
        "\t\tword = word.lower()\n",
        "\t\ttokenized.append(word)\n",
        "\tsample_text[i] = tokenized"
      ],
      "execution_count": null,
      "outputs": []
    },
    {
      "cell_type": "code",
      "metadata": {
        "colab": {
          "base_uri": "https://localhost:8080/"
        },
        "id": "X95BtM8PB91h",
        "outputId": "2d3a6fd8-a020-47eb-8dfb-4b8612cf4fbd"
      },
      "source": [
        "model = word2vec.Word2Vec(sample_text, workers = 1, size = 2, min_count = 1, window = 3, sg = 0)\n",
        "similar_word = model.wv.most_similar('sport')[0]\n",
        "print(\"Most common word to 'sport' is: {}\".format(similar_word[0]))"
      ],
      "execution_count": null,
      "outputs": [
        {
          "output_type": "stream",
          "text": [
            "Most common word to 'sport' is: play\n"
          ],
          "name": "stdout"
        }
      ]
    },
    {
      "cell_type": "code",
      "metadata": {
        "colab": {
          "base_uri": "https://localhost:8080/"
        },
        "id": "Y7rb-2i2DB8X",
        "outputId": "3453b9f6-9173-4973-c84b-0cddb6f3c14b"
      },
      "source": [
        "w2v_matrix = model.wv.get_keras_embedding(train_embeddings=False)"
      ],
      "execution_count": null,
      "outputs": [
        {
          "output_type": "execute_result",
          "data": {
            "text/plain": [
              "<tensorflow.python.keras.layers.embeddings.Embedding at 0x7feac2e5e510>"
            ]
          },
          "metadata": {
            "tags": []
          },
          "execution_count": 33
        }
      ]
    }
  ]
}